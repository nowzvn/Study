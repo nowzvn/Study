{
 "cells": [
  {
   "cell_type": "markdown",
   "id": "f4361a56",
   "metadata": {
    "id": "f4361a56"
   },
   "source": [
    "# 09_반복문 (for, while)\n",
    "- for는 정해진 횟수를 반복할때 자주 쓰임\n",
    "- while은 반복 횟수가 명확하지 않을 때 자주 쓰임\n",
    "    - 무한 루프에 빠지지 않도록 주의"
   ]
  },
  {
   "cell_type": "markdown",
   "id": "def52bf5",
   "metadata": {
    "id": "def52bf5"
   },
   "source": [
    "## **(1) for 기본 구조**\n",
    "```python\n",
    "for 변수 in 시퀀스:\n",
    "    실행할 코드\n",
    "```\n",
    "- 시퀀스: range(), 문자열, 리스트, 튜플과 같이 순서가 있는 데이터형"
   ]
  },
  {
   "cell_type": "markdown",
   "id": "47bb2c44-fd3a-4668-9954-44b1b8683400",
   "metadata": {},
   "source": [
    "## **(2) for 사용 예제**"
   ]
  },
  {
   "cell_type": "markdown",
   "id": "3d3099e5-1af9-426c-a38e-3a3cfadff9df",
   "metadata": {},
   "source": [
    "**`range()` 함수를 사용한 반복**"
   ]
  },
  {
   "cell_type": "code",
   "execution_count": 2,
   "id": "48e9efa5",
   "metadata": {
    "id": "48e9efa5"
   },
   "outputs": [
    {
     "name": "stdout",
     "output_type": "stream",
     "text": [
      "hello world 0\n",
      "hello world 1\n",
      "hello world 2\n",
      "hello world 3\n",
      "hello world 4\n",
      "hello world 5\n",
      "hello world 6\n",
      "hello world 7\n",
      "hello world 8\n",
      "hello world 9\n"
     ]
    }
   ],
   "source": [
    "for i in range(10):\n",
    "    print(\"hello world\", i)"
   ]
  },
  {
   "cell_type": "markdown",
   "id": "61fbb9b1",
   "metadata": {
    "id": "61fbb9b1"
   },
   "source": [
    "**문자열 출력**"
   ]
  },
  {
   "cell_type": "code",
   "execution_count": 7,
   "id": "1c391646",
   "metadata": {
    "colab": {
     "base_uri": "https://localhost:8080/"
    },
    "executionInfo": {
     "elapsed": 287,
     "status": "ok",
     "timestamp": 1737686616045,
     "user": {
      "displayName": "Kim InSeop",
      "userId": "13965062148001194946"
     },
     "user_tz": -540
    },
    "id": "1c391646",
    "outputId": "59f49cda-240e-408d-9a95-3b9ed1e358c4"
   },
   "outputs": [
    {
     "name": "stdout",
     "output_type": "stream",
     "text": [
      "P\n",
      "y\n",
      "t\n",
      "h\n",
      "o\n",
      "n\n"
     ]
    }
   ],
   "source": [
    "text = \"Python\"\n",
    "for char in text:\n",
    "    print(char)"
   ]
  },
  {
   "cell_type": "markdown",
   "id": "dd6c1cfe",
   "metadata": {
    "id": "dd6c1cfe"
   },
   "source": [
    "**리스트 출력**"
   ]
  },
  {
   "cell_type": "code",
   "execution_count": 6,
   "id": "29cbcd5a",
   "metadata": {
    "colab": {
     "base_uri": "https://localhost:8080/"
    },
    "executionInfo": {
     "elapsed": 3,
     "status": "ok",
     "timestamp": 1743656823036,
     "user": {
      "displayName": "Kim InSeop",
      "userId": "13965062148001194946"
     },
     "user_tz": -540
    },
    "id": "29cbcd5a",
    "outputId": "61cc0b4f-90e1-4361-a1f7-e165988b103c"
   },
   "outputs": [
    {
     "name": "stdout",
     "output_type": "stream",
     "text": [
      "apple\n",
      "banana\n",
      "cherry\n"
     ]
    }
   ],
   "source": [
    "fruits = [\"apple\", \"banana\", \"cherry\"]\n",
    "for fruit in fruits:\n",
    "    print(fruit)"
   ]
  },
  {
   "cell_type": "markdown",
   "id": "6eff09ff-58d0-4025-aff1-cc812f4818ee",
   "metadata": {},
   "source": [
    "**튜플 출력**"
   ]
  },
  {
   "cell_type": "code",
   "execution_count": 1,
   "id": "eb3cbcd5-cd6a-44d8-8ca5-acd41f6cb242",
   "metadata": {},
   "outputs": [
    {
     "name": "stdout",
     "output_type": "stream",
     "text": [
      "1\n",
      "2\n",
      "3\n",
      "1, 2, 3\n"
     ]
    }
   ],
   "source": [
    "nums =(1, 2, 3)\n",
    "\n",
    "for i in nums :\n",
    "    print(i)\n",
    "\n",
    "for i in range(len(nums)):\n",
    "    # 마지막엔 쉼표를 넣지 않기\n",
    "    if i < len(nums) - 1:\n",
    "        print(nums[i], end=', ')\n",
    "    else:\n",
    "        print(nums[i])"
   ]
  },
  {
   "cell_type": "markdown",
   "id": "1b084797",
   "metadata": {
    "id": "1b084797"
   },
   "source": [
    "## **(3) while 기본 구조**\n",
    "```python\n",
    "  while 조건:\n",
    "    실행할 코드\n",
    "  ```"
   ]
  },
  {
   "cell_type": "markdown",
   "id": "96db6076-ab16-426f-92af-838b51ffc629",
   "metadata": {},
   "source": [
    "**조건을 충족하는 동안 반복 실행**"
   ]
  },
  {
   "cell_type": "code",
   "execution_count": 2,
   "id": "fc654c15",
   "metadata": {
    "colab": {
     "base_uri": "https://localhost:8080/"
    },
    "executionInfo": {
     "elapsed": 288,
     "status": "ok",
     "timestamp": 1737686668643,
     "user": {
      "displayName": "Kim InSeop",
      "userId": "13965062148001194946"
     },
     "user_tz": -540
    },
    "id": "fc654c15",
    "outputId": "8208d982-19e2-4aa2-c188-0046ceff24e4"
   },
   "outputs": [
    {
     "name": "stdout",
     "output_type": "stream",
     "text": [
      "반복: 0\n",
      "반복: 1\n",
      "반복: 2\n"
     ]
    }
   ],
   "source": [
    "count = 0\n",
    "\n",
    "while count < 3:\n",
    "    print(\"반복:\", count)\n",
    "    count += 1"
   ]
  },
  {
   "cell_type": "markdown",
   "id": "ae5bcafd",
   "metadata": {
    "id": "ae5bcafd"
   },
   "source": [
    "**조건 미충족 시에는 실행되지 않음**"
   ]
  },
  {
   "cell_type": "code",
   "execution_count": 3,
   "id": "cc4abfb3",
   "metadata": {
    "id": "cc4abfb3"
   },
   "outputs": [],
   "source": [
    "count = 10\n",
    "while count < 3:\n",
    "    print(\"이 코드는 실행되지 않습니다.\")"
   ]
  },
  {
   "cell_type": "markdown",
   "id": "69ac5a69-d0b9-4904-a07f-271b383e0ae9",
   "metadata": {},
   "source": [
    "## **(4) while 사용 예제**"
   ]
  },
  {
   "cell_type": "markdown",
   "id": "ef804c37-903c-4437-82dc-9b6f67dd8fb8",
   "metadata": {},
   "source": [
    "**반복 횟수가 명확하지 않은 경우**"
   ]
  },
  {
   "cell_type": "code",
   "execution_count": 8,
   "id": "5c9555d2-8292-440a-8499-a28be9be6b1b",
   "metadata": {},
   "outputs": [
    {
     "name": "stdin",
     "output_type": "stream",
     "text": [
      "문장을 입력하세요 (종료하려면 '종료' 입력):  종\n"
     ]
    },
    {
     "name": "stdout",
     "output_type": "stream",
     "text": [
      "입력한 문장: 종\n"
     ]
    },
    {
     "name": "stdin",
     "output_type": "stream",
     "text": [
      "문장을 입력하세요 (종료하려면 '종료' 입력):  종종\n"
     ]
    },
    {
     "name": "stdout",
     "output_type": "stream",
     "text": [
      "입력한 문장: 종종\n"
     ]
    },
    {
     "name": "stdin",
     "output_type": "stream",
     "text": [
      "문장을 입력하세요 (종료하려면 '종료' 입력):  종료\n"
     ]
    },
    {
     "name": "stdout",
     "output_type": "stream",
     "text": [
      "프로그램을 종료합니다\n"
     ]
    }
   ],
   "source": [
    "# '종료'를 입력해야 종료\n",
    "while True:\n",
    "    text = input(\"문장을 입력하세요 (종료하려면 '종료' 입력): \")\n",
    "    if text == \"종료\":\n",
    "        print(\"프로그램을 종료합니다\")\n",
    "        break\n",
    "    print(f\"입력한 문장: {text}\")"
   ]
  },
  {
   "cell_type": "markdown",
   "id": "aac0f440-fca8-4d57-8bea-09e9769d6bae",
   "metadata": {},
   "source": [
    "**for문처럼 사용**"
   ]
  },
  {
   "cell_type": "code",
   "execution_count": 9,
   "id": "14b4e61e-b139-4183-8d27-45612f54decc",
   "metadata": {},
   "outputs": [
    {
     "name": "stdout",
     "output_type": "stream",
     "text": [
      "사과\n",
      "바나나\n",
      "포도\n",
      "오렌지\n"
     ]
    }
   ],
   "source": [
    "fruits = [\"사과\", \"바나나\", \"포도\", \"오렌지\"]\n",
    "i = 0\n",
    "\n",
    "while i < len(fruits):\n",
    "    print(fruits[i])\n",
    "    i += 1"
   ]
  },
  {
   "cell_type": "markdown",
   "id": "1aaf7f41",
   "metadata": {
    "id": "1aaf7f41"
   },
   "source": [
    "## **(5) 반복문에서 자주 사용되는 키워드**\n",
    "1. 반복문 즉시 종료: `break`\n",
    "2. 다음 반복으로 넘어가기: `continue`\n",
    "3. 아무 작업도 하지않고 반복문 유지: `pass`"
   ]
  },
  {
   "cell_type": "markdown",
   "id": "aeb4c90d-6a9b-4124-8f2f-c9e6e54db88a",
   "metadata": {},
   "source": [
    "### ***1. 반복문 즉시 종료***\n",
    "### `break`"
   ]
  },
  {
   "cell_type": "code",
   "execution_count": 11,
   "id": "ac9a066d",
   "metadata": {
    "colab": {
     "base_uri": "https://localhost:8080/"
    },
    "executionInfo": {
     "elapsed": 4,
     "status": "ok",
     "timestamp": 1743656877831,
     "user": {
      "displayName": "Kim InSeop",
      "userId": "13965062148001194946"
     },
     "user_tz": -540
    },
    "id": "ac9a066d",
    "outputId": "9d9b51db-1ed9-4d8f-b874-d1cd74e4c647"
   },
   "outputs": [
    {
     "name": "stdout",
     "output_type": "stream",
     "text": [
      "0\n",
      "1\n",
      "2\n"
     ]
    }
   ],
   "source": [
    "for i in range(5):\n",
    "    if i == 3:\n",
    "        # 3에서 멈춤\n",
    "        break\n",
    "    print(i)"
   ]
  },
  {
   "cell_type": "markdown",
   "id": "00b7ddab",
   "metadata": {
    "id": "00b7ddab"
   },
   "source": [
    "### ***2. 다음 반복으로 넘어가기***\n",
    "### `continue`\n",
    "- 현재 반복을 건너뜀"
   ]
  },
  {
   "cell_type": "code",
   "execution_count": 12,
   "id": "41e3b16b",
   "metadata": {
    "colab": {
     "base_uri": "https://localhost:8080/"
    },
    "executionInfo": {
     "elapsed": 5,
     "status": "ok",
     "timestamp": 1743656916919,
     "user": {
      "displayName": "Kim InSeop",
      "userId": "13965062148001194946"
     },
     "user_tz": -540
    },
    "id": "41e3b16b",
    "outputId": "2c5f271f-b8fe-4605-8319-eff1889b9849"
   },
   "outputs": [
    {
     "name": "stdout",
     "output_type": "stream",
     "text": [
      "0\n",
      "1\n",
      "2\n",
      "4\n",
      "5\n"
     ]
    }
   ],
   "source": [
    "for i in range(6):\n",
    "    if i == 3:\n",
    "        # 3을 건너뜀\n",
    "        continue\n",
    "    print(i)"
   ]
  },
  {
   "cell_type": "markdown",
   "id": "f72ade43",
   "metadata": {
    "id": "f72ade43"
   },
   "source": [
    "### ***3. 아무 작업도 하지 않고 반복문 유지***\n",
    "### `pass`"
   ]
  },
  {
   "cell_type": "code",
   "execution_count": 13,
   "id": "1dd29a53",
   "metadata": {
    "colab": {
     "base_uri": "https://localhost:8080/"
    },
    "executionInfo": {
     "elapsed": 280,
     "status": "ok",
     "timestamp": 1737686838961,
     "user": {
      "displayName": "Kim InSeop",
      "userId": "13965062148001194946"
     },
     "user_tz": -540
    },
    "id": "1dd29a53",
    "outputId": "3721fd76-4995-4c21-f1d9-ab5fdc6d8634"
   },
   "outputs": [
    {
     "name": "stdout",
     "output_type": "stream",
     "text": [
      "0\n",
      "1\n",
      "2\n",
      "3\n",
      "4\n"
     ]
    }
   ],
   "source": [
    "for i in range(5):\n",
    "    if i == 3:\n",
    "        # 3이 되더라도 작업 없음\n",
    "        pass\n",
    "    print(i)"
   ]
  },
  {
   "cell_type": "markdown",
   "id": "d8ce7b67",
   "metadata": {
    "id": "d8ce7b67"
   },
   "source": [
    "## **(6) 자주 사용되는 함수**\n",
    "1. 숫자 범위 생성: `range()`\n",
    "2. 시퀀스의 인덱스와 값을 동시에 가져오기: `enumerate()`\n",
    "3. 여러 시퀀스를 동시에 순회: `zip()`\n",
    "4. 시퀀스를 역순으로 순회: `reversed()`"
   ]
  },
  {
   "cell_type": "markdown",
   "id": "218aa077-ab8b-4a20-ae2e-38399e555341",
   "metadata": {},
   "source": [
    "### ***1. 숫자 범위 생성***\n",
    "### `range()`"
   ]
  },
  {
   "cell_type": "code",
   "execution_count": 10,
   "id": "b2e52a80",
   "metadata": {
    "colab": {
     "base_uri": "https://localhost:8080/"
    },
    "executionInfo": {
     "elapsed": 20,
     "status": "ok",
     "timestamp": 1743656979079,
     "user": {
      "displayName": "Kim InSeop",
      "userId": "13965062148001194946"
     },
     "user_tz": -540
    },
    "id": "b2e52a80",
    "outputId": "ec12a578-c7ba-4bc9-b83a-8bbe26af3537"
   },
   "outputs": [
    {
     "name": "stdout",
     "output_type": "stream",
     "text": [
      "1\n",
      "3\n",
      "5\n",
      "7\n",
      "9\n"
     ]
    }
   ],
   "source": [
    "for i in range(1, 10, 2):\n",
    "    print(i)"
   ]
  },
  {
   "cell_type": "markdown",
   "id": "d59c29db",
   "metadata": {
    "id": "d59c29db"
   },
   "source": [
    "### ***2. 시퀀스의 인덱스와 값을 동시에 가져오기***\n",
    "### `a, b in enumerate(v)`\n",
    "- a: 인덱스 변수명\n",
    "- b: 값 변수명\n",
    "- v: 시퀀스명"
   ]
  },
  {
   "cell_type": "code",
   "execution_count": 11,
   "id": "993cff22",
   "metadata": {
    "colab": {
     "base_uri": "https://localhost:8080/"
    },
    "executionInfo": {
     "elapsed": 301,
     "status": "ok",
     "timestamp": 1737686901075,
     "user": {
      "displayName": "Kim InSeop",
      "userId": "13965062148001194946"
     },
     "user_tz": -540
    },
    "id": "993cff22",
    "outputId": "cc48061f-79cc-4cc9-cdbc-814661f85694"
   },
   "outputs": [
    {
     "name": "stdout",
     "output_type": "stream",
     "text": [
      "0 apple\n",
      "1 banana\n",
      "2 cherry\n"
     ]
    }
   ],
   "source": [
    "fruits = [\"apple\", \"banana\", \"cherry\"]\n",
    "\n",
    "for index, fruit in enumerate(fruits):\n",
    "    print(index, fruit)"
   ]
  },
  {
   "cell_type": "markdown",
   "id": "5c8df33c",
   "metadata": {
    "id": "5c8df33c"
   },
   "source": [
    "### ***3. 여러 시퀀스를 동시에 순회***\n",
    "### `a, b in zip(c, d)`\n",
    "- a: 시퀀스1 변수명\n",
    "- b: 시퀀스2 변수명\n",
    "- c: 시퀀스1\n",
    "- d: 시퀀스2"
   ]
  },
  {
   "cell_type": "code",
   "execution_count": 12,
   "id": "1deb3bfa",
   "metadata": {
    "colab": {
     "base_uri": "https://localhost:8080/"
    },
    "executionInfo": {
     "elapsed": 284,
     "status": "ok",
     "timestamp": 1737686940320,
     "user": {
      "displayName": "Kim InSeop",
      "userId": "13965062148001194946"
     },
     "user_tz": -540
    },
    "id": "1deb3bfa",
    "outputId": "3d274e6b-3394-4166-c1ed-8f5e0bdd4287"
   },
   "outputs": [
    {
     "name": "stdout",
     "output_type": "stream",
     "text": [
      "Alice is 25 years old.\n",
      "Bob is 30 years old.\n",
      "Charlie is 35 years old.\n"
     ]
    }
   ],
   "source": [
    "names = [\"Alice\", \"Bob\", \"Charlie\"]\n",
    "ages = [25, 30, 35]\n",
    "\n",
    "for name, age in zip(names, ages):\n",
    "    print(f\"{name} is {age} years old.\")"
   ]
  },
  {
   "cell_type": "markdown",
   "id": "bf27e993",
   "metadata": {
    "id": "bf27e993"
   },
   "source": [
    "### ***4. 시퀀스를 역순으로 순회***\n",
    "### `reversed(a)`\n",
    "- a: 순회할 시퀀스명\n",
    "- [::-1]과 동일한 기능"
   ]
  },
  {
   "cell_type": "code",
   "execution_count": 13,
   "id": "dc49a83e",
   "metadata": {
    "colab": {
     "base_uri": "https://localhost:8080/"
    },
    "executionInfo": {
     "elapsed": 4,
     "status": "ok",
     "timestamp": 1743657154839,
     "user": {
      "displayName": "Kim InSeop",
      "userId": "13965062148001194946"
     },
     "user_tz": -540
    },
    "id": "dc49a83e",
    "outputId": "648a91ec-90fd-4fd3-af5c-87de540a7710"
   },
   "outputs": [
    {
     "name": "stdout",
     "output_type": "stream",
     "text": [
      "5\n",
      "4\n",
      "3\n",
      "2\n",
      "1\n"
     ]
    }
   ],
   "source": [
    "for char in reversed([1,2,3,4,5]):\n",
    "    print(char)"
   ]
  },
  {
   "cell_type": "code",
   "execution_count": 14,
   "id": "im8k8MPiEMj1",
   "metadata": {
    "colab": {
     "base_uri": "https://localhost:8080/"
    },
    "executionInfo": {
     "elapsed": 11,
     "status": "ok",
     "timestamp": 1743657170339,
     "user": {
      "displayName": "Kim InSeop",
      "userId": "13965062148001194946"
     },
     "user_tz": -540
    },
    "id": "im8k8MPiEMj1",
    "outputId": "34f1ebad-1e43-43d7-9f29-d63d8b3c3c2b"
   },
   "outputs": [
    {
     "name": "stdout",
     "output_type": "stream",
     "text": [
      "5\n",
      "4\n",
      "3\n",
      "2\n",
      "1\n"
     ]
    }
   ],
   "source": [
    "for char in [1,2,3,4,5][::-1]:\n",
    "    print(char)"
   ]
  }
 ],
 "metadata": {
  "colab": {
   "collapsed_sections": [
    "1b084797"
   ],
   "provenance": []
  },
  "kernelspec": {
   "display_name": "Python 3 (ipykernel)",
   "language": "python",
   "name": "python3"
  },
  "language_info": {
   "codemirror_mode": {
    "name": "ipython",
    "version": 3
   },
   "file_extension": ".py",
   "mimetype": "text/x-python",
   "name": "python",
   "nbconvert_exporter": "python",
   "pygments_lexer": "ipython3",
   "version": "3.13.5"
  }
 },
 "nbformat": 4,
 "nbformat_minor": 5
}
