{
 "cells": [
  {
   "cell_type": "markdown",
   "id": "7dde1d4e",
   "metadata": {
    "id": "7dde1d4e"
   },
   "source": [
    "# 02_문자형 (String)"
   ]
  },
  {
   "cell_type": "markdown",
   "id": "ddf20083",
   "metadata": {
    "id": "ddf20083"
   },
   "source": [
    "## **(1) 문자형 기본 사용법**\n",
    "- `'`(작은 따옴표), `\"`(큰 따옴표)로 묶어서 표현"
   ]
  },
  {
   "cell_type": "code",
   "execution_count": 8,
   "id": "63c6e701",
   "metadata": {
    "colab": {
     "base_uri": "https://localhost:8080/"
    },
    "executionInfo": {
     "elapsed": 2,
     "status": "ok",
     "timestamp": 1745285918439,
     "user": {
      "displayName": "Kim InSeop",
      "userId": "13965062148001194946"
     },
     "user_tz": -540
    },
    "id": "63c6e701",
    "outputId": "ca4a4d74-8f50-4e50-b3f2-a5f20adf54d9"
   },
   "outputs": [
    {
     "data": {
      "text/plain": [
       "str"
      ]
     },
     "execution_count": 8,
     "metadata": {},
     "output_type": "execute_result"
    }
   ],
   "source": [
    "text = '1'\n",
    "type(text)"
   ]
  },
  {
   "cell_type": "markdown",
   "id": "b25a0f18-3f14-4e6b-8f75-f729fd7918a0",
   "metadata": {},
   "source": [
    "### 문자형 생성"
   ]
  },
  {
   "cell_type": "code",
   "execution_count": 10,
   "id": "33369ee1",
   "metadata": {
    "colab": {
     "base_uri": "https://localhost:8080/"
    },
    "executionInfo": {
     "elapsed": 7,
     "status": "ok",
     "timestamp": 1745285951938,
     "user": {
      "displayName": "Kim InSeop",
      "userId": "13965062148001194946"
     },
     "user_tz": -540
    },
    "id": "33369ee1",
    "outputId": "fb942321-6758-4f1a-e337-2beeee7015a1"
   },
   "outputs": [
    {
     "data": {
      "text/plain": [
       "('Hello', 'World')"
      ]
     },
     "execution_count": 10,
     "metadata": {},
     "output_type": "execute_result"
    }
   ],
   "source": [
    "text1 = 'Hello'\n",
    "text2 = 'World'\n",
    "text1, text2"
   ]
  },
  {
   "cell_type": "markdown",
   "id": "8f13d96c",
   "metadata": {
    "id": "8f13d96c"
   },
   "source": [
    "### 문자열 결합"
   ]
  },
  {
   "cell_type": "code",
   "execution_count": 13,
   "id": "66dcbc84",
   "metadata": {
    "colab": {
     "base_uri": "https://localhost:8080/"
    },
    "executionInfo": {
     "elapsed": 10,
     "status": "ok",
     "timestamp": 1744085815914,
     "user": {
      "displayName": "Kim InSeop",
      "userId": "13965062148001194946"
     },
     "user_tz": -540
    },
    "id": "66dcbc84",
    "outputId": "b3d7327d-26c7-4bdc-b6a5-2b8ff5d9992f"
   },
   "outputs": [
    {
     "data": {
      "text/plain": [
       "'HelloWorld'"
      ]
     },
     "execution_count": 13,
     "metadata": {},
     "output_type": "execute_result"
    }
   ],
   "source": [
    "message = text1 + text2\n",
    "message"
   ]
  },
  {
   "cell_type": "markdown",
   "id": "64cd0b11",
   "metadata": {
    "id": "64cd0b11"
   },
   "source": [
    "### 문자열 반복"
   ]
  },
  {
   "cell_type": "code",
   "execution_count": 14,
   "id": "196c6353",
   "metadata": {
    "id": "196c6353"
   },
   "outputs": [
    {
     "data": {
      "text/plain": [
       "'Python! Python! Python! '"
      ]
     },
     "execution_count": 14,
     "metadata": {},
     "output_type": "execute_result"
    }
   ],
   "source": [
    "text3 = \"Python! \"\n",
    "text3 * 3"
   ]
  },
  {
   "cell_type": "markdown",
   "id": "587fe2f9",
   "metadata": {
    "id": "587fe2f9"
   },
   "source": [
    "## (2) 문자열 포맷팅"
   ]
  },
  {
   "cell_type": "markdown",
   "id": "b33b60f7-2cc1-4182-9ed5-9139b17d4175",
   "metadata": {},
   "source": [
    "### ***1. f-string***\n",
    "### `f'{변수명}'`\n",
    "- 파이썬 3.6 이상부터 지원\n",
    "- 가독성, 편의성이 좋아 추천"
   ]
  },
  {
   "cell_type": "code",
   "execution_count": 15,
   "id": "9498becc-8cfc-4eee-bc95-3542f2d3108b",
   "metadata": {},
   "outputs": [
    {
     "data": {
      "text/plain": [
       "'이름: Hanna, 나이: 20'"
      ]
     },
     "execution_count": 15,
     "metadata": {},
     "output_type": "execute_result"
    }
   ],
   "source": [
    "name = \"Hanna\"\n",
    "age = 20\n",
    "message = f\"이름: {name}, 나이: {age}\"\n",
    "message"
   ]
  },
  {
   "cell_type": "markdown",
   "id": "9807e1fa-f749-4cfa-addb-02a25a72b4fe",
   "metadata": {},
   "source": [
    "### ***2. format()***\n",
    "### `'{}'.format('변수명')`"
   ]
  },
  {
   "cell_type": "code",
   "execution_count": 16,
   "id": "b44ac888-760f-47a4-a5a1-7d57f0d45cd1",
   "metadata": {},
   "outputs": [
    {
     "data": {
      "text/plain": [
       "'이름: Hanna, 나이: 20.'"
      ]
     },
     "execution_count": 16,
     "metadata": {},
     "output_type": "execute_result"
    }
   ],
   "source": [
    "message = '이름: {}, 나이: {}.'.format(name, age)\n",
    "message"
   ]
  },
  {
   "cell_type": "markdown",
   "id": "60b8d70b-658a-4402-a106-fbc941205772",
   "metadata": {},
   "source": [
    "- {0}, {1} ... 을 사용해서 순서 변경 가능"
   ]
  },
  {
   "cell_type": "code",
   "execution_count": 17,
   "id": "282cce4d-b3b1-413c-ba21-e2abc564eb66",
   "metadata": {},
   "outputs": [
    {
     "data": {
      "text/plain": [
       "'나이: 20, 이름: Hanna'"
      ]
     },
     "execution_count": 17,
     "metadata": {},
     "output_type": "execute_result"
    }
   ],
   "source": [
    "message = '나이: {1}, 이름: {0}'.format(name, age)\n",
    "message"
   ]
  },
  {
   "cell_type": "markdown",
   "id": "b634d228-bef8-4e43-a561-ea01d4ce0b8e",
   "metadata": {},
   "source": [
    "### ***3. 서식 지정자***\n",
    "### `'%서식 지정자' % (변수명)`\n",
    "- C언어 형식으로 서식 지정자를 지켜줘야 함"
   ]
  },
  {
   "cell_type": "code",
   "execution_count": 18,
   "id": "3b545774-47e0-486a-8fab-4ea978862d0f",
   "metadata": {},
   "outputs": [
    {
     "data": {
      "text/plain": [
       "'이름: Hanna, 나이: 20'"
      ]
     },
     "execution_count": 18,
     "metadata": {},
     "output_type": "execute_result"
    }
   ],
   "source": [
    "message = \"이름: %s, 나이: %d\" % (name, age)\n",
    "message"
   ]
  },
  {
   "attachments": {},
   "cell_type": "markdown",
   "id": "b3de9eb5",
   "metadata": {
    "id": "b3de9eb5"
   },
   "source": [
    "## **(3) 문자열 인덱싱 / 인덱스**\n",
    "- <span style=color:red;>첫 숫자는 0</span>"
   ]
  },
  {
   "cell_type": "code",
   "execution_count": 25,
   "id": "949e72f8",
   "metadata": {
    "colab": {
     "base_uri": "https://localhost:8080/"
    },
    "executionInfo": {
     "elapsed": 10,
     "status": "ok",
     "timestamp": 1744086199087,
     "user": {
      "displayName": "Kim InSeop",
      "userId": "13965062148001194946"
     },
     "user_tz": -540
    },
    "id": "949e72f8",
    "outputId": "52d90ca5-2c7b-467c-cb38-40ed3f9bb102"
   },
   "outputs": [
    {
     "data": {
      "text/plain": [
       "'H'"
      ]
     },
     "execution_count": 25,
     "metadata": {},
     "output_type": "execute_result"
    }
   ],
   "source": [
    "text = \"Hello World!\"\n",
    "text[0]"
   ]
  },
  {
   "cell_type": "markdown",
   "id": "dfcf2090-8b79-49ab-8d68-9c1b4201c8d3",
   "metadata": {},
   "source": [
    "**뒤에서 시작하기**\n",
    "- `-1` 사용"
   ]
  },
  {
   "cell_type": "code",
   "execution_count": 24,
   "id": "786f39a5-16d2-4694-8b72-7a9ee4edc6e9",
   "metadata": {},
   "outputs": [
    {
     "data": {
      "text/plain": [
       "'!'"
      ]
     },
     "execution_count": 24,
     "metadata": {},
     "output_type": "execute_result"
    }
   ],
   "source": [
    "text = \"Hello World!\"\n",
    "text[-1]"
   ]
  },
  {
   "cell_type": "markdown",
   "id": "aIw1uVsTQrmM",
   "metadata": {
    "id": "aIw1uVsTQrmM"
   },
   "source": [
    "## **(4) 문자열 슬라이싱**\n",
    "## `문자열[시작:끝]`\n",
    "- <span style=color:red;>끝은 포함하지 않음</span>"
   ]
  },
  {
   "cell_type": "markdown",
   "id": "dddf2d41-ea1a-4841-82a4-2a027d97011e",
   "metadata": {},
   "source": [
    "**문자열에서 특정 구간 추출**"
   ]
  },
  {
   "cell_type": "code",
   "execution_count": 28,
   "id": "VahTF_j0RzZP",
   "metadata": {
    "colab": {
     "base_uri": "https://localhost:8080/"
    },
    "executionInfo": {
     "elapsed": 12,
     "status": "ok",
     "timestamp": 1744086430177,
     "user": {
      "displayName": "Kim InSeop",
      "userId": "13965062148001194946"
     },
     "user_tz": -540
    },
    "id": "VahTF_j0RzZP",
    "outputId": "a8942904-222b-4fc4-ac15-b8732fdcf749"
   },
   "outputs": [
    {
     "name": "stdout",
     "output_type": "stream",
     "text": [
      "2025 04 08\n"
     ]
    }
   ],
   "source": [
    "date = \"20250408\"\n",
    "year = date[:4]\n",
    "month = date[4:6]\n",
    "day = date[6:]\n",
    "print(year, month, day)"
   ]
  },
  {
   "cell_type": "markdown",
   "id": "4fcb0d65",
   "metadata": {
    "id": "4fcb0d65"
   },
   "source": [
    "## **(5) 문자열 처리 함수**\n",
    "1. 문자열 길이 확인: `len()`\n",
    "2. 대소문자 변환: `upper()`, `lower()`\n",
    "3. 문자열 교체: `replace()`\n",
    "4. 문자열 분리: `split()`\n",
    "5. 공백 제거: `strip()`\n",
    "6. 문자 갯수 카운팅: `count()`\n",
    "7. 문자 위치 찾기: `index()`, `find()`\n",
    "8. 연결 문자 삽입: `join()`\n",
    "9. 문자열에 문자 포함 여부 확인: `in`, `not in`"
   ]
  },
  {
   "cell_type": "markdown",
   "id": "2927dbdf",
   "metadata": {
    "id": "2927dbdf"
   },
   "source": [
    "### ***1. 문자열 길이 확인***\n",
    "###  `len(x)`\n",
    "- x: 문자열"
   ]
  },
  {
   "cell_type": "code",
   "execution_count": 29,
   "id": "5a945623",
   "metadata": {
    "colab": {
     "base_uri": "https://localhost:8080/"
    },
    "executionInfo": {
     "elapsed": 12,
     "status": "ok",
     "timestamp": 1743575834747,
     "user": {
      "displayName": "Kim InSeop",
      "userId": "13965062148001194946"
     },
     "user_tz": -540
    },
    "id": "5a945623",
    "outputId": "d4867091-d067-46bd-ea02-188914b444cc"
   },
   "outputs": [
    {
     "data": {
      "text/plain": [
       "'Python !'"
      ]
     },
     "execution_count": 29,
     "metadata": {},
     "output_type": "execute_result"
    }
   ],
   "source": [
    "text = \"Python !\" # 공백 포함 8글자\n",
    "text"
   ]
  },
  {
   "cell_type": "markdown",
   "id": "43932745",
   "metadata": {
    "id": "43932745"
   },
   "source": [
    "### ***2. 대소문자 변환***\n",
    "### `x.upper()`, `x.lower()`\n",
    "- x: 문자열\n",
    "- upper(): 전부 대문자 반환\n",
    "- lower(): 전부 소문자 반환"
   ]
  },
  {
   "cell_type": "markdown",
   "id": "234a9a5d-08fc-45de-bc4f-f71a2e3b70e8",
   "metadata": {},
   "source": [
    "**대문자 변환**"
   ]
  },
  {
   "cell_type": "code",
   "execution_count": 33,
   "id": "c12b7516-0669-4883-ac58-d363891e8d93",
   "metadata": {},
   "outputs": [
    {
     "data": {
      "text/plain": [
       "'HELLO WORLD'"
      ]
     },
     "execution_count": 33,
     "metadata": {},
     "output_type": "execute_result"
    }
   ],
   "source": [
    "text = \"hello WORLD\"\n",
    "text.upper()"
   ]
  },
  {
   "cell_type": "markdown",
   "id": "33d688d8-b7f5-4065-91df-9fc5cf703ce4",
   "metadata": {},
   "source": [
    "**소문자 변환**"
   ]
  },
  {
   "cell_type": "code",
   "execution_count": 32,
   "id": "fa3eaacf",
   "metadata": {
    "colab": {
     "base_uri": "https://localhost:8080/"
    },
    "executionInfo": {
     "elapsed": 4,
     "status": "ok",
     "timestamp": 1743575875932,
     "user": {
      "displayName": "Kim InSeop",
      "userId": "13965062148001194946"
     },
     "user_tz": -540
    },
    "id": "fa3eaacf",
    "outputId": "3a73724f-1298-4348-82a4-753e88251d78"
   },
   "outputs": [
    {
     "data": {
      "text/plain": [
       "'hello world'"
      ]
     },
     "execution_count": 32,
     "metadata": {},
     "output_type": "execute_result"
    }
   ],
   "source": [
    "text = \"hello WORLD\"\n",
    "text.lower()"
   ]
  },
  {
   "cell_type": "markdown",
   "id": "b26d4d57",
   "metadata": {
    "id": "b26d4d57"
   },
   "source": [
    "### ***3. 문자열 교체***\n",
    "### `x.replace('a', 'b')`\n",
    "- x: 문자열\n",
    "- a: 교체할 문자열\n",
    "- b: 새로운 문자열"
   ]
  },
  {
   "cell_type": "code",
   "execution_count": 35,
   "id": "38bd18e5",
   "metadata": {
    "id": "38bd18e5"
   },
   "outputs": [
    {
     "name": "stdout",
     "output_type": "stream",
     "text": [
      "원본: 나는 사과가 좋아\n",
      "바꾼 후: 나는 바나나가 좋아\n"
     ]
    }
   ],
   "source": [
    "text = \"나는 사과가 좋아\"\n",
    "new_text = text.replace(\"사과\", \"바나나\")\n",
    "\n",
    "print(f'원본: {text}')\n",
    "print(f'바꾼 후: {new_text}')"
   ]
  },
  {
   "cell_type": "markdown",
   "id": "1dd8bdb2-439b-473a-84b9-e1c3e218788c",
   "metadata": {},
   "source": [
    "**값 입력하지 않음으로 특정 문자 제거 가능**"
   ]
  },
  {
   "cell_type": "code",
   "execution_count": 36,
   "id": "j1yfQpOOqj-q",
   "metadata": {
    "colab": {
     "base_uri": "https://localhost:8080/"
    },
    "executionInfo": {
     "elapsed": 6,
     "status": "ok",
     "timestamp": 1744086710739,
     "user": {
      "displayName": "Kim InSeop",
      "userId": "13965062148001194946"
     },
     "user_tz": -540
    },
    "id": "j1yfQpOOqj-q",
    "outputId": "4067f4e6-e971-472f-87b6-97529d1e0483"
   },
   "outputs": [
    {
     "name": "stdout",
     "output_type": "stream",
     "text": [
      "원본:123,456,789\n",
      "바꾼 후:123456789\n"
     ]
    }
   ],
   "source": [
    "price = '123,456,789'\n",
    "new_price = price.replace(',', '')\n",
    "\n",
    "print(f'원본:{price}')\n",
    "print(f'바꾼 후:{new_price}')"
   ]
  },
  {
   "cell_type": "markdown",
   "id": "f31546ee",
   "metadata": {
    "id": "f31546ee"
   },
   "source": [
    "### ***4. 문자열 분리***\n",
    "### `x.split('a')`\n",
    "- a: 구분자를 기준으로 문자열을 나눔"
   ]
  },
  {
   "cell_type": "markdown",
   "id": "8e7b1a5d-88db-4b77-a399-0f9e0dab2824",
   "metadata": {},
   "source": [
    "**파일 이름, 확장자 분리 예시**"
   ]
  },
  {
   "cell_type": "code",
   "execution_count": 41,
   "id": "DTPXujqRQ5ih",
   "metadata": {
    "id": "DTPXujqRQ5ih"
   },
   "outputs": [
    {
     "name": "stdout",
     "output_type": "stream",
     "text": [
      "photo\n",
      "png\n"
     ]
    }
   ],
   "source": [
    "filename = \"photo.png\"\n",
    "\n",
    "filename.split('.') # 리스트로 반환\n",
    "name1 = filename.split('.')[0]\n",
    "name2 = filename.split('.')[1]\n",
    "\n",
    "print(name1)\n",
    "print(name2)"
   ]
  },
  {
   "cell_type": "markdown",
   "id": "b78dfe1e",
   "metadata": {
    "id": "b78dfe1e"
   },
   "source": [
    "### ***5. 공백 제거***\n",
    "### `x.strip()`\n",
    "- x: 문자열"
   ]
  },
  {
   "cell_type": "code",
   "execution_count": 42,
   "id": "36454fc4",
   "metadata": {
    "colab": {
     "base_uri": "https://localhost:8080/"
    },
    "executionInfo": {
     "elapsed": 248,
     "status": "ok",
     "timestamp": 1737680958295,
     "user": {
      "displayName": "Kim InSeop",
      "userId": "13965062148001194946"
     },
     "user_tz": -540
    },
    "id": "36454fc4",
    "outputId": "9fa73759-9501-4d53-a525-d90c63f8479a"
   },
   "outputs": [
    {
     "name": "stdout",
     "output_type": "stream",
     "text": [
      "원본:    Hello, World!   \n",
      "바꾼 후: Hello, World!\n"
     ]
    }
   ],
   "source": [
    "text = \"   Hello, World!   \"\n",
    "new_text = text.strip()\n",
    "\n",
    "print(f'원본: {text}')\n",
    "print(f'바꾼 후: {new_text}')"
   ]
  },
  {
   "cell_type": "markdown",
   "id": "e5e2592d-dc69-407b-b01f-9ba0d82fbd6a",
   "metadata": {},
   "source": [
    "### ***6. 문자 갯수 카운팅***\n",
    "### `x.count(a)`\n",
    "- x: 문자열\n",
    "- a: 카운팅할 문자"
   ]
  },
  {
   "cell_type": "code",
   "execution_count": 45,
   "id": "957006bd-a65a-425c-af1e-36c08e003b86",
   "metadata": {},
   "outputs": [
    {
     "data": {
      "text/plain": [
       "2"
      ]
     },
     "execution_count": 45,
     "metadata": {},
     "output_type": "execute_result"
    }
   ],
   "source": [
    "text = \"hello world\"\n",
    "\n",
    "# 전체에서 o가 몇개 ?\n",
    "text.count(\"o\")"
   ]
  },
  {
   "cell_type": "markdown",
   "id": "ae6615bb-cb0b-4849-9fa5-756130aa2436",
   "metadata": {},
   "source": [
    "### ***7. 문자 위치 찾기***\n",
    "### `x.index(a)`\n",
    "- x: 문자열\n",
    "- a: 찾을 문자\n",
    "- 찾는 문자가 없다면 <u>ValueError</u> 반환"
   ]
  },
  {
   "cell_type": "code",
   "execution_count": 48,
   "id": "e8d0c955-37b9-4011-b4c8-55d933000a9d",
   "metadata": {},
   "outputs": [
    {
     "data": {
      "text/plain": [
       "2"
      ]
     },
     "execution_count": 48,
     "metadata": {},
     "output_type": "execute_result"
    }
   ],
   "source": [
    "text = \"hello world\"\n",
    "text.index(\"l\")"
   ]
  },
  {
   "cell_type": "markdown",
   "id": "5546ff28-1c6e-42a6-9d2a-3f1bbc69fb79",
   "metadata": {},
   "source": [
    "### `x.find(a)`\n",
    "- x: 문자열\n",
    "- a: 찾을 문자\n",
    "- 찾는 문자가 없다면 <u>-1</u> 반환"
   ]
  },
  {
   "cell_type": "code",
   "execution_count": 50,
   "id": "5865f1d0-8453-4b66-b356-a801c081e78f",
   "metadata": {},
   "outputs": [
    {
     "data": {
      "text/plain": [
       "2"
      ]
     },
     "execution_count": 50,
     "metadata": {},
     "output_type": "execute_result"
    }
   ],
   "source": [
    "text = \"hello world\"\n",
    "text.find(\"l\")"
   ]
  },
  {
   "cell_type": "markdown",
   "id": "add41e30-b04e-4b86-9c0f-c1977bbf3347",
   "metadata": {},
   "source": [
    "**찾는 문자가 없는 경우**"
   ]
  },
  {
   "cell_type": "code",
   "execution_count": 51,
   "id": "89ceb1c3-382d-431d-8650-78268f25e420",
   "metadata": {},
   "outputs": [
    {
     "data": {
      "text/plain": [
       "-1"
      ]
     },
     "execution_count": 51,
     "metadata": {},
     "output_type": "execute_result"
    }
   ],
   "source": [
    "text = \"hello world\"\n",
    "text.find(\"z\")"
   ]
  },
  {
   "cell_type": "markdown",
   "id": "63d28fd6-9bc0-44a3-a877-ea8e2a75522c",
   "metadata": {},
   "source": [
    "### ***8. 연결 문자 삽입***\n",
    "### `'x'.join(iterable)`\n",
    "- x: 연결할 문자\n",
    "- iterable: 리스트, 튜플 등 반복 가능한 객체"
   ]
  },
  {
   "cell_type": "code",
   "execution_count": 23,
   "id": "7a1d9fa3-12a0-4bbc-9a3a-043f9a8af932",
   "metadata": {},
   "outputs": [
    {
     "name": "stdout",
     "output_type": "stream",
     "text": [
      "apple❤banana❤cherry\n"
     ]
    }
   ],
   "source": [
    "words = [\"apple\", \"banana\", \"cherry\"]\n",
    "result = \"❤\".join(words)\n",
    "print(result)"
   ]
  },
  {
   "cell_type": "markdown",
   "id": "a3c5c7cb-90ba-43f7-a5b0-c2760dea7ab7",
   "metadata": {},
   "source": [
    "### ***9. 문자열에 문자 포함 여부 확인***\n",
    "### `'a' in x`\n",
    "- a: 찾을 문자\n",
    "- x: 검색할 문자열\n",
    "- 문자가 존재하면 True 반환"
   ]
  },
  {
   "cell_type": "code",
   "execution_count": 58,
   "id": "c7560721",
   "metadata": {
    "colab": {
     "base_uri": "https://localhost:8080/"
    },
    "executionInfo": {
     "elapsed": 9,
     "status": "ok",
     "timestamp": 1743576375760,
     "user": {
      "displayName": "Kim InSeop",
      "userId": "13965062148001194946"
     },
     "user_tz": -540
    },
    "id": "c7560721",
    "outputId": "f056bda3-ed12-4cad-f52c-5baa2c340e91"
   },
   "outputs": [
    {
     "name": "stdout",
     "output_type": "stream",
     "text": [
      "True\n",
      "False\n"
     ]
    }
   ],
   "source": [
    "text = 'Hello, Python'\n",
    "\n",
    "print('Python' in text)\n",
    "print('Bye' in text)"
   ]
  },
  {
   "cell_type": "markdown",
   "id": "3e7dc340-d5fa-4c35-afc4-e402c7c3fed0",
   "metadata": {},
   "source": [
    "### `'a' not in x`\n",
    "- a: 찾을 문자\n",
    "- x: 검색할 문자열\n",
    "- 문자가 존재하지 않으면 True 반환"
   ]
  },
  {
   "cell_type": "code",
   "execution_count": 60,
   "id": "61731c59-dc82-4da1-8e81-8f468256a635",
   "metadata": {},
   "outputs": [
    {
     "name": "stdout",
     "output_type": "stream",
     "text": [
      "False\n",
      "True\n"
     ]
    }
   ],
   "source": [
    "text = 'Hello, Python'\n",
    "\n",
    "print('Python' not in text)\n",
    "print('Bye' not in text)"
   ]
  }
 ],
 "metadata": {
  "colab": {
   "provenance": []
  },
  "kernelspec": {
   "display_name": "Python 3 (ipykernel)",
   "language": "python",
   "name": "python3"
  },
  "language_info": {
   "codemirror_mode": {
    "name": "ipython",
    "version": 3
   },
   "file_extension": ".py",
   "mimetype": "text/x-python",
   "name": "python",
   "nbconvert_exporter": "python",
   "pygments_lexer": "ipython3",
   "version": "3.13.5"
  }
 },
 "nbformat": 4,
 "nbformat_minor": 5
}
