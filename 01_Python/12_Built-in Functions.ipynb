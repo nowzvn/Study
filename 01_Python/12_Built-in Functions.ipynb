{
 "cells": [
  {
   "cell_type": "markdown",
   "id": "73963924",
   "metadata": {},
   "source": [
    "# 12_내장 함수 (Built-in Functions)\n",
    "- 별도의 모듈을 임포트하지 않고 사용할 수 있는 파이썬의 제공 함수\n",
    "- [Python 공식 문서](https://docs.python.org/3/library/functions.html)"
   ]
  },
  {
   "cell_type": "markdown",
   "id": "093b153e-c0d8-460c-ba50-c31bb0d96b44",
   "metadata": {},
   "source": [
    "## 자주 사용하는 내장 함수\n",
    "1.  출력: `print()`\n",
    "2.  길이 반환: `len()`\n",
    "3.  자료형 확인: `type()`\n",
    "4.  최대값, 최소값: `max()`, `min()`\n",
    "5.  정렬: `sorted()`\n",
    "6.  합계: `sum()`\n",
    "7.  병렬 처리: `list(zip())`"
   ]
  },
  {
   "cell_type": "markdown",
   "id": "a72030f8",
   "metadata": {},
   "source": [
    "### ***1. 출력***\n",
    "### `print(obj, sep='', end='')`\n",
    "- obj: 출력할 오브젝트\n",
    "- sep: 데이터 구분자 (2개 이상 출력 시)\n",
    "- end: 데이터 마무리 문구 (공백 시 개행 없음))"
   ]
  },
  {
   "cell_type": "code",
   "execution_count": 1,
   "id": "3b2c7dec",
   "metadata": {},
   "outputs": [
    {
     "name": "stdout",
     "output_type": "stream",
     "text": [
      "Hello, Python!\n"
     ]
    }
   ],
   "source": [
    "print(\"Hello, Python!\")"
   ]
  },
  {
   "cell_type": "code",
   "execution_count": 2,
   "id": "25ab50aa-44ed-4c6a-abc7-856a5d261b20",
   "metadata": {},
   "outputs": [
    {
     "name": "stdout",
     "output_type": "stream",
     "text": [
      "Hello Python\n",
      "Hello, Python\n"
     ]
    }
   ],
   "source": [
    "a = 'Hello'\n",
    "b = 'Python'\n",
    "\n",
    "# 그냥출력\n",
    "print(a, b)\n",
    "\n",
    "# 쉼표로 구분\n",
    "print(a, b, sep=', ')"
   ]
  },
  {
   "cell_type": "code",
   "execution_count": 3,
   "id": "a5bcde5d-9b08-469e-9f53-9853a71de1bc",
   "metadata": {},
   "outputs": [
    {
     "name": "stdout",
     "output_type": "stream",
     "text": [
      "h\n",
      "e\n",
      "l\n",
      "l\n",
      "o\n",
      "hello"
     ]
    }
   ],
   "source": [
    "a, b, c, d, e = 'h', 'e', 'l', 'l', 'o'\n",
    "\n",
    "# 그냥출력\n",
    "print(a)\n",
    "print(b)\n",
    "print(c)\n",
    "print(d)\n",
    "print(e)\n",
    "\n",
    "# 개행없이 출력\n",
    "print(a, end='')\n",
    "print(b, end='')\n",
    "print(c, end='')\n",
    "print(d, end='')\n",
    "print(e, end='')"
   ]
  },
  {
   "cell_type": "markdown",
   "id": "53702593",
   "metadata": {},
   "source": [
    "### ***2. 길이 반환***\n",
    "### `len(obj)`\n",
    "- obj: 길이를 구할 객체"
   ]
  },
  {
   "cell_type": "code",
   "execution_count": 4,
   "id": "d96c4c68",
   "metadata": {},
   "outputs": [
    {
     "name": "stdout",
     "output_type": "stream",
     "text": [
      "6\n"
     ]
    }
   ],
   "source": [
    "text = \"Python\"\n",
    "print(len(text))"
   ]
  },
  {
   "cell_type": "markdown",
   "id": "befb8f18",
   "metadata": {},
   "source": [
    "### ***3. 자료형 확인***\n",
    "### `type(obj)`\n",
    "- obj: 자료형을 반환할 객체"
   ]
  },
  {
   "cell_type": "code",
   "execution_count": 5,
   "id": "22d3e323",
   "metadata": {},
   "outputs": [
    {
     "name": "stdout",
     "output_type": "stream",
     "text": [
      "<class 'int'>\n",
      "<class 'str'>\n"
     ]
    }
   ],
   "source": [
    "print(type(123))\n",
    "print(type(\"Python\"))"
   ]
  },
  {
   "cell_type": "markdown",
   "id": "915f6332",
   "metadata": {},
   "source": [
    "### ***4. 최대값, 최소값***\n",
    "### `max(x)`, `min(x)`\n",
    "- x: 최대, 최소값을 반환할 데이터"
   ]
  },
  {
   "cell_type": "code",
   "execution_count": 6,
   "id": "3fe413f4",
   "metadata": {},
   "outputs": [
    {
     "name": "stdout",
     "output_type": "stream",
     "text": [
      "30\n",
      "10\n"
     ]
    }
   ],
   "source": [
    "numbers = [10, 20, 30]\n",
    "print(max(numbers))\n",
    "print(min(numbers))"
   ]
  },
  {
   "cell_type": "markdown",
   "id": "102ce5b4",
   "metadata": {},
   "source": [
    "### ***5. 정렬***\n",
    "### `sorted(x, reverse=)`\n",
    "- x: 정렬할 대상\n",
    "- reverse:\n",
    "    - False: 오름차순 (default)\n",
    "    - True: 내림차순"
   ]
  },
  {
   "cell_type": "code",
   "execution_count": 7,
   "id": "502d6a6d",
   "metadata": {},
   "outputs": [
    {
     "name": "stdout",
     "output_type": "stream",
     "text": [
      "[1, 2, 3, 4, 5, 6, 7]\n",
      "[7, 6, 5, 4, 3, 2, 1]\n"
     ]
    }
   ],
   "source": [
    "numbers = [3, 1, 2, 4, 7, 5, 6]\n",
    "\n",
    "# 오름차순\n",
    "print(sorted(numbers))\n",
    "\n",
    "# 내림차순\n",
    "print(sorted(numbers, reverse=True))"
   ]
  },
  {
   "cell_type": "markdown",
   "id": "192b9b3d",
   "metadata": {},
   "source": [
    "### ***6. 합계***\n",
    "### `sum(x, start=)`\n",
    "- x: 합산할 객체\n",
    "- start: 합산 시작 값 (기본값: 0)"
   ]
  },
  {
   "cell_type": "code",
   "execution_count": 8,
   "id": "e15ecb2b",
   "metadata": {},
   "outputs": [
    {
     "name": "stdout",
     "output_type": "stream",
     "text": [
      "6\n",
      "16\n"
     ]
    }
   ],
   "source": [
    "# 일반 합산\n",
    "print(sum([1, 2, 3]))\n",
    "\n",
    "# 10부터 합산\n",
    "print(sum([1, 2, 3], start=10))"
   ]
  },
  {
   "cell_type": "markdown",
   "id": "61f24878",
   "metadata": {},
   "source": [
    "### ***7. 병렬 처리***\n",
    "### `list(zip(a, b, strict=))`\n",
    "- a: 병렬 처리할 객체1\n",
    "- b: 병렬 처리할 객체2\n",
    "- strict:\n",
    "    - False: 기본값\n",
    "    - True: a, b의 길이가 다르면 오류 반환\n",
    "    - Python 3.10 이상에서 사용"
   ]
  },
  {
   "cell_type": "code",
   "execution_count": 9,
   "id": "88c21fbb",
   "metadata": {},
   "outputs": [
    {
     "name": "stdout",
     "output_type": "stream",
     "text": [
      "[(1, 'a'), (2, 'b')]\n"
     ]
    }
   ],
   "source": [
    "a =[1, 2]\n",
    "b= ['a', 'b']\n",
    "c = 'a'\n",
    "\n",
    "print(list(zip(a, b)))"
   ]
  },
  {
   "cell_type": "code",
   "execution_count": 10,
   "id": "9eacffa8-14a2-46e7-8656-9ed2c458d472",
   "metadata": {},
   "outputs": [
    {
     "name": "stdout",
     "output_type": "stream",
     "text": [
      "[(1, 'a')]\n"
     ]
    }
   ],
   "source": [
    "# 짝을 맞춰 반환한다.\n",
    "print(list(zip(a, c)))"
   ]
  }
 ],
 "metadata": {
  "kernelspec": {
   "display_name": "Python 3 (ipykernel)",
   "language": "python",
   "name": "python3"
  },
  "language_info": {
   "codemirror_mode": {
    "name": "ipython",
    "version": 3
   },
   "file_extension": ".py",
   "mimetype": "text/x-python",
   "name": "python",
   "nbconvert_exporter": "python",
   "pygments_lexer": "ipython3",
   "version": "3.13.5"
  }
 },
 "nbformat": 4,
 "nbformat_minor": 5
}
