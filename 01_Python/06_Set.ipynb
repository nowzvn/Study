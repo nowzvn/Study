{
 "cells": [
  {
   "cell_type": "markdown",
   "id": "6c5d6413",
   "metadata": {
    "id": "6c5d6413"
   },
   "source": [
    "# 06_집합 (Set)"
   ]
  },
  {
   "cell_type": "markdown",
   "id": "5709c373",
   "metadata": {
    "id": "5709c373"
   },
   "source": [
    "## **(1) 집합의 주요 특징**\n",
    "- set()을 사용해 생성, 중괄호 {}로 표현\n",
    "- 중복을 허용하지 않는 데이터 타입\n",
    "- 순서가 없어서 인덱스나 슬라이싱이 불가능"
   ]
  },
  {
   "cell_type": "markdown",
   "id": "2a9623e3",
   "metadata": {
    "id": "2a9623e3"
   },
   "source": [
    "## **(2) 집합 생성 및 기본 사용법**\n",
    "**집합 생성**"
   ]
  },
  {
   "cell_type": "code",
   "execution_count": 3,
   "id": "25949bd0",
   "metadata": {
    "colab": {
     "base_uri": "https://localhost:8080/"
    },
    "executionInfo": {
     "elapsed": 308,
     "status": "ok",
     "timestamp": 1737683423105,
     "user": {
      "displayName": "Kim InSeop",
      "userId": "13965062148001194946"
     },
     "user_tz": -540
    },
    "id": "25949bd0",
    "outputId": "7174ff56-7a29-4765-d6ee-dae4b0605978"
   },
   "outputs": [
    {
     "data": {
      "text/plain": [
       "{'apple', 'banana', 'cherry'}"
      ]
     },
     "execution_count": 3,
     "metadata": {},
     "output_type": "execute_result"
    }
   ],
   "source": [
    "# 빈 집합 생성\n",
    "empty_set = set()\n",
    "\n",
    "# 값 있는 집합 생성\n",
    "fruits = {\"apple\", \"banana\", \"cherry\", \"apple\"}\n",
    "fruits"
   ]
  },
  {
   "cell_type": "markdown",
   "id": "4dcfe26f",
   "metadata": {
    "id": "4dcfe26f"
   },
   "source": [
    "## **(2) 집합의 주요 메서드**\n",
    "1. 값 추가: `add()`\n",
    "2. 값 제거: `remove()`, `discard()`\n",
    "3. 합집합, 교집합: `union()`, `intersection()`\n",
    "4. 차집합, 대칭차집합: `difference()`, `symmetric_difference()`\n",
    "5. 부분집합, 상위집합: `issubset()`, `issuperset()`\n",
    "6. 모든 값 제거: `clear()`"
   ]
  },
  {
   "cell_type": "markdown",
   "id": "ff5774e8",
   "metadata": {},
   "source": [
    "### ***1. 값 추가***\n",
    "### **`x.add(v)`**\n",
    "- x: 집합명\n",
    "- v: 추가할 값"
   ]
  },
  {
   "cell_type": "code",
   "execution_count": 5,
   "id": "663775fe",
   "metadata": {
    "id": "663775fe"
   },
   "outputs": [
    {
     "name": "stdout",
     "output_type": "stream",
     "text": [
      "{'banana', 'apple'}\n"
     ]
    },
    {
     "data": {
      "text/plain": [
       "{'apple', 'banana', 'cherry'}"
      ]
     },
     "execution_count": 5,
     "metadata": {},
     "output_type": "execute_result"
    }
   ],
   "source": [
    "fruits = {\"apple\", \"banana\"}\n",
    "print(fruits)\n",
    "fruits.add(\"cherry\")\n",
    "fruits"
   ]
  },
  {
   "cell_type": "markdown",
   "id": "68d0d05c",
   "metadata": {
    "id": "68d0d05c"
   },
   "source": [
    "### ***2. 값 제거***\n",
    "### **`x.remove(v)`**\n",
    "- x: 집합명\n",
    "- v: 제거할 값\n",
    "- 값이 없으면 에러 반환"
   ]
  },
  {
   "cell_type": "code",
   "execution_count": 6,
   "id": "e73f3189",
   "metadata": {
    "id": "e73f3189"
   },
   "outputs": [
    {
     "name": "stdout",
     "output_type": "stream",
     "text": [
      "{1, 2, 3}\n"
     ]
    },
    {
     "data": {
      "text/plain": [
       "{1, 3}"
      ]
     },
     "execution_count": 6,
     "metadata": {},
     "output_type": "execute_result"
    }
   ],
   "source": [
    "numbers = {1, 2, 3}\n",
    "print(numbers)\n",
    "numbers.remove(2)\n",
    "numbers"
   ]
  },
  {
   "cell_type": "markdown",
   "id": "3cd751de-2d5e-4cc5-b4f1-4144af32c2cc",
   "metadata": {},
   "source": [
    "### **`x.discard(v)`**\n",
    "- x: 집합명\n",
    "- v: 제거할 값\n",
    "- 값이 없어도 에러 발생하지 않음"
   ]
  },
  {
   "cell_type": "code",
   "execution_count": 7,
   "id": "e2a67280-f18a-4ed8-a9c7-44b574f76b58",
   "metadata": {},
   "outputs": [
    {
     "data": {
      "text/plain": [
       "{1, 3}"
      ]
     },
     "execution_count": 7,
     "metadata": {},
     "output_type": "execute_result"
    }
   ],
   "source": [
    "numbers.discard(4)\n",
    "numbers"
   ]
  },
  {
   "cell_type": "markdown",
   "id": "6e7ebe8c",
   "metadata": {
    "id": "6e7ebe8c"
   },
   "source": [
    "### ***3. 합집합, 교집합***\n",
    "### **`x.union(v)`, `x.intersection(v)`**\n",
    "- x: 집합명\n",
    "- v: 계산할 집합명"
   ]
  },
  {
   "cell_type": "code",
   "execution_count": 8,
   "id": "cced94d4",
   "metadata": {
    "id": "cced94d4"
   },
   "outputs": [
    {
     "name": "stdout",
     "output_type": "stream",
     "text": [
      "{1, 2, 3, 4, 5}\n",
      "{3}\n"
     ]
    }
   ],
   "source": [
    "set1 = {1, 2, 3}\n",
    "set2 = {3, 4, 5}\n",
    "\n",
    "print(set1.union(set2)) # 합집합\n",
    "print(set1.intersection(set2)) # 교집합"
   ]
  },
  {
   "cell_type": "markdown",
   "id": "35cca26b-d666-4026-b13e-1faa3ea21f2f",
   "metadata": {},
   "source": [
    "### ***4. 차집합, 대칭차집합***\n",
    "### **`x.difference(v)`, `x.symmetric_difference(v)`**\n",
    "- x: 집합명\n",
    "- v: 계산할 집합명"
   ]
  },
  {
   "cell_type": "code",
   "execution_count": 12,
   "id": "6ec427ab-aaa1-41e0-8ef7-a84c0d573721",
   "metadata": {},
   "outputs": [
    {
     "name": "stdout",
     "output_type": "stream",
     "text": [
      "{1, 2}\n",
      "{1, 2, 4, 5}\n"
     ]
    }
   ],
   "source": [
    "set1 = {1, 2, 3}\n",
    "set2 = {3, 4, 5}\n",
    "\n",
    "print(set1.difference(set2)) # 차집합\n",
    "print(set1.symmetric_difference(set2)) # 대칭차집합 (겹치는것 제외)"
   ]
  },
  {
   "cell_type": "markdown",
   "id": "d6992d52",
   "metadata": {
    "id": "d6992d52"
   },
   "source": [
    "### ***5. 부분집합, 상위집합***\n",
    "### **`x.issubset(v)`, `x.issuperset(v)`**\n",
    "- x: 집합명\n",
    "- v: 계산할 집합명\n",
    "- 결과값은 True 혹은 False로 반환됨"
   ]
  },
  {
   "cell_type": "code",
   "execution_count": 13,
   "id": "6a70d380",
   "metadata": {
    "id": "6a70d380"
   },
   "outputs": [
    {
     "name": "stdout",
     "output_type": "stream",
     "text": [
      "True\n",
      "True\n"
     ]
    }
   ],
   "source": [
    "set1 = {1, 2}\n",
    "set2 = {1, 2, 3}\n",
    "\n",
    "print(set1.issubset(set2)) # 부분집합\n",
    "print(set2.issuperset(set1)) # 상위집합"
   ]
  },
  {
   "cell_type": "markdown",
   "id": "c6ac1d07",
   "metadata": {
    "id": "c6ac1d07"
   },
   "source": [
    "### ***6. 모든 값 제거***\n",
    "### **`x.clear()`**\n",
    "- x: 집합명"
   ]
  },
  {
   "cell_type": "code",
   "execution_count": 10,
   "id": "b2f24dc8",
   "metadata": {
    "id": "b2f24dc8"
   },
   "outputs": [
    {
     "data": {
      "text/plain": [
       "set()"
      ]
     },
     "execution_count": 10,
     "metadata": {},
     "output_type": "execute_result"
    }
   ],
   "source": [
    "fruits = {\"apple\", \"banana\", \"cherry\"}\n",
    "fruits.clear()\n",
    "fruits"
   ]
  }
 ],
 "metadata": {
  "colab": {
   "provenance": []
  },
  "kernelspec": {
   "display_name": "Python 3 (ipykernel)",
   "language": "python",
   "name": "python3"
  },
  "language_info": {
   "codemirror_mode": {
    "name": "ipython",
    "version": 3
   },
   "file_extension": ".py",
   "mimetype": "text/x-python",
   "name": "python",
   "nbconvert_exporter": "python",
   "pygments_lexer": "ipython3",
   "version": "3.13.5"
  }
 },
 "nbformat": 4,
 "nbformat_minor": 5
}
