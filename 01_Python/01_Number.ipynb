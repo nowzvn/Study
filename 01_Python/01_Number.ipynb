{
 "cells": [
  {
   "cell_type": "markdown",
   "id": "c2d71c79",
   "metadata": {
    "id": "c2d71c79"
   },
   "source": [
    "# 01_숫자형 (Number)"
   ]
  },
  {
   "attachments": {},
   "cell_type": "markdown",
   "id": "04402167",
   "metadata": {
    "id": "04402167"
   },
   "source": [
    "## **(1) 정수형 (Integer, int)**\n",
    "- 소수점이 없는 숫자\n",
    "- 양수, 음수, 0"
   ]
  },
  {
   "cell_type": "code",
   "execution_count": 18,
   "id": "4581e5c2",
   "metadata": {
    "colab": {
     "base_uri": "https://localhost:8080/"
    },
    "id": "4581e5c2",
    "outputId": "85940c34-41d3-4ee9-8ec5-8e0ae19427cd"
   },
   "outputs": [
    {
     "data": {
      "text/plain": [
       "int"
      ]
     },
     "execution_count": 18,
     "metadata": {},
     "output_type": "execute_result"
    }
   ],
   "source": [
    "num = 3\n",
    "type(num)"
   ]
  },
  {
   "cell_type": "markdown",
   "id": "9dc1abca",
   "metadata": {},
   "source": [
    "### 사칙연산"
   ]
  },
  {
   "cell_type": "code",
   "execution_count": 19,
   "id": "0C4mwSImJif7",
   "metadata": {
    "colab": {
     "base_uri": "https://localhost:8080/"
    },
    "id": "0C4mwSImJif7",
    "outputId": "b14f40fd-31e7-45d9-8ace-f460828977ce"
   },
   "outputs": [
    {
     "name": "stdout",
     "output_type": "stream",
     "text": [
      "더하기: 16\n",
      "빼기: 6\n",
      "곱하기: 55\n",
      "나누기: 2.2\n",
      "몫: 5\n",
      "나머지: 1\n",
      "제곱: 121\n"
     ]
    }
   ],
   "source": [
    "a = 11\n",
    "b = 5\n",
    "\n",
    "print(f'더하기: {a + b}')\n",
    "print(f'빼기: {a - b}')\n",
    "print(f'곱하기: {a * b}')\n",
    "print(f'나누기: {a / b}') # 나누기 결과는 항상 실수\n",
    "\n",
    "print(f'몫: {a // 2}')\n",
    "print(f'나머지: {a % 2}')\n",
    "print(f'제곱: {a ** 2}')"
   ]
  },
  {
   "cell_type": "markdown",
   "id": "ba5ac03d",
   "metadata": {
    "id": "ba5ac03d"
   },
   "source": [
    "## **(2) 실수형 (Float)**\n",
    "- 소수점이 존재하는 숫자\n",
    "- 연산 후 소수점은 round() 함수를 사용해서 원하는 자릿수를 표시"
   ]
  },
  {
   "cell_type": "code",
   "execution_count": 20,
   "id": "55c29e80",
   "metadata": {
    "colab": {
     "base_uri": "https://localhost:8080/"
    },
    "id": "55c29e80",
    "outputId": "07ca3155-15b6-4251-b770-998852f4a4d9"
   },
   "outputs": [
    {
     "data": {
      "text/plain": [
       "float"
      ]
     },
     "execution_count": 20,
     "metadata": {},
     "output_type": "execute_result"
    }
   ],
   "source": [
    "num = 3.14\n",
    "type(num)"
   ]
  },
  {
   "cell_type": "markdown",
   "id": "1c0c706e",
   "metadata": {},
   "source": [
    "### 사칙연산"
   ]
  },
  {
   "cell_type": "code",
   "execution_count": 21,
   "id": "h53YA9QZBEsW",
   "metadata": {
    "colab": {
     "base_uri": "https://localhost:8080/"
    },
    "id": "h53YA9QZBEsW",
    "outputId": "3e6a339d-c9ee-47dd-e680-2f8f5faf7216"
   },
   "outputs": [
    {
     "name": "stdout",
     "output_type": "stream",
     "text": [
      "더하기: 5.140000000000001\n",
      "빼기: 1.1400000000000001\n",
      "곱하기: 6.28\n",
      "나누기: 1.57\n",
      "몫: 1.0\n",
      "나머지: 1.1400000000000001\n",
      "제곱: 9.8596\n"
     ]
    }
   ],
   "source": [
    "a = 3.14\n",
    "b = 2.0\n",
    "\n",
    "print(f'더하기: {a + b}')\n",
    "print(f'빼기: {a - b}')\n",
    "print(f'곱하기: {a * b}')\n",
    "print(f'나누기: {a / b}')\n",
    "\n",
    "print(f'몫: {a // 2}')\n",
    "print(f'나머지: {a % 2}')\n",
    "print(f'제곱: {a ** 2}')"
   ]
  },
  {
   "cell_type": "markdown",
   "id": "010e62fb",
   "metadata": {
    "id": "010e62fb"
   },
   "source": [
    "## **(3) 연산자 정리**\n",
    "\n",
    "| 연산자 | 설명 | 예시 | 결과 |\n",
    "| --- | --- | --- | --- |\n",
    "| `+` | 더하기 | `5 + 3` | `8` |\n",
    "| `-` | 빼기 | `5 - 3` | `2` |\n",
    "| `*` | 곱하기 | `5 * 3` | `15` |\n",
    "| `/` | 나누기 | `5 / 2` | `2.5` |\n",
    "| `//` | 몫 | `5 // 2` | `2` |\n",
    "| `%` | 나머지 | `5 % 2` | `1` |\n",
    "| `**` | 제곱 | `2 ** 3` | `8(2^3)` |"
   ]
  },
  {
   "cell_type": "markdown",
   "id": "8652ff5a-d488-46db-b133-29e4f7b52562",
   "metadata": {},
   "source": [
    "**정수와 실수의 값은 같음**"
   ]
  },
  {
   "cell_type": "code",
   "execution_count": 50,
   "id": "bYh5ZYyUNQgK",
   "metadata": {
    "colab": {
     "base_uri": "https://localhost:8080/"
    },
    "id": "bYh5ZYyUNQgK",
    "outputId": "7e637004-0b3b-41c7-d41b-40cd8a92bebe"
   },
   "outputs": [
    {
     "data": {
      "text/plain": [
       "True"
      ]
     },
     "execution_count": 50,
     "metadata": {},
     "output_type": "execute_result"
    }
   ],
   "source": [
    "10 == 10.0"
   ]
  },
  {
   "cell_type": "markdown",
   "id": "b475a6cb-124e-4e80-81b6-bc06a624be1a",
   "metadata": {},
   "source": [
    "**정수와 실수의 타입은 다름**"
   ]
  },
  {
   "cell_type": "code",
   "execution_count": 51,
   "id": "19a56885-2539-491c-87a9-c19aa1968205",
   "metadata": {},
   "outputs": [
    {
     "data": {
      "text/plain": [
       "False"
      ]
     },
     "execution_count": 51,
     "metadata": {},
     "output_type": "execute_result"
    }
   ],
   "source": [
    "type(10) == type(10.0)"
   ]
  },
  {
   "cell_type": "markdown",
   "id": "c20c87e5",
   "metadata": {
    "id": "c20c87e5"
   },
   "source": [
    "## **(4) 숫자형 변환**\n",
    "- 숫자형 데이터 타입은 서로 변환이 가능함"
   ]
  },
  {
   "cell_type": "markdown",
   "id": "45a04c73-cf5c-415a-bbf1-ce76f29d8098",
   "metadata": {},
   "source": [
    "**정수를 실수로 변환**"
   ]
  },
  {
   "cell_type": "code",
   "execution_count": 57,
   "id": "336cb9b0-15ae-4c77-b218-33946b82112d",
   "metadata": {},
   "outputs": [
    {
     "data": {
      "text/plain": [
       "10.0"
      ]
     },
     "execution_count": 57,
     "metadata": {},
     "output_type": "execute_result"
    }
   ],
   "source": [
    "num_int = 10\n",
    "num_float = 10.0\n",
    "\n",
    "float(num_int)"
   ]
  },
  {
   "cell_type": "markdown",
   "id": "aa03c3a4-c011-4394-aca8-959c2a9dc75b",
   "metadata": {},
   "source": [
    "**실수를 정수로 변환**"
   ]
  },
  {
   "cell_type": "code",
   "execution_count": 58,
   "id": "0d3a8df2",
   "metadata": {
    "colab": {
     "base_uri": "https://localhost:8080/"
    },
    "id": "0d3a8df2",
    "outputId": "bbe09b79-ea38-4952-ff44-5bf3d7b1e560"
   },
   "outputs": [
    {
     "data": {
      "text/plain": [
       "10"
      ]
     },
     "execution_count": 58,
     "metadata": {},
     "output_type": "execute_result"
    }
   ],
   "source": [
    "num_int = 10\n",
    "num_float = 10.0\n",
    "\n",
    "int(num_float)"
   ]
  },
  {
   "cell_type": "markdown",
   "id": "aeee4004-93ab-4192-b646-fe0bc06f4af1",
   "metadata": {},
   "source": [
    "## **(5) 숫자 처리 함수**\n",
    "1. 숫자 생성: `range()`\n",
    "2. 최댓값, 최솟값: `max()`, `min()`\n",
    "3. 절댓값: `abs()`\n",
    "4. 반올림: `round()`, `ceil()`, `floor()`\n",
    "5. 랜덤 난수 생성: `random()`, `randrange()`, `randint()`"
   ]
  },
  {
   "cell_type": "markdown",
   "id": "2660c36d-9dd8-4f85-9738-4ac268e5037d",
   "metadata": {},
   "source": [
    "### ***1. 숫자 생성***\n",
    "### `range(start, stop, step)`\n",
    "- start: 시작 값 (포함)\n",
    "- stop: 종료 값 (미포함)\n",
    "- step: 간격 (기본값: 1)"
   ]
  },
  {
   "cell_type": "markdown",
   "id": "7d9701ff-0abb-47cd-8f39-3c06315716db",
   "metadata": {},
   "source": [
    "**1 ~ 10 생성**"
   ]
  },
  {
   "cell_type": "code",
   "execution_count": 77,
   "id": "7ff8dbf4-2c75-454d-ac67-5fdea24f619a",
   "metadata": {},
   "outputs": [
    {
     "data": {
      "text/plain": [
       "[1, 2, 3, 4, 5, 6, 7, 8, 9, 10]"
      ]
     },
     "execution_count": 77,
     "metadata": {},
     "output_type": "execute_result"
    }
   ],
   "source": [
    "num = range(1, 11)\n",
    "list(num)"
   ]
  },
  {
   "cell_type": "markdown",
   "id": "75f47b03-ce96-46d0-abdc-2cfef86eb06e",
   "metadata": {},
   "source": [
    "**1 ~ 10 간격을 2씩두고 생성**"
   ]
  },
  {
   "cell_type": "code",
   "execution_count": 78,
   "id": "eca8a26b-bcd7-4d91-a7cf-ff358724e737",
   "metadata": {},
   "outputs": [
    {
     "data": {
      "text/plain": [
       "[1, 3, 5, 7, 9]"
      ]
     },
     "execution_count": 78,
     "metadata": {},
     "output_type": "execute_result"
    }
   ],
   "source": [
    "num = range(1, 11, 2)\n",
    "list(num)"
   ]
  },
  {
   "cell_type": "markdown",
   "id": "6cb92e9f-306e-4f05-a933-dae262cecc4b",
   "metadata": {},
   "source": [
    "### ***2. 최댓값, 최솟값***\n",
    "### `max(iterable)`, `min(iterable)`\n",
    "- iterable: 리스트, 튜플 등 반복 가능한 객체"
   ]
  },
  {
   "cell_type": "markdown",
   "id": "d30fb6f6-6919-4c9d-b382-7ce33d474179",
   "metadata": {},
   "source": [
    "**최댓값**"
   ]
  },
  {
   "cell_type": "code",
   "execution_count": 48,
   "id": "46d4e419-752d-46cf-a2b0-0f26d7c060a0",
   "metadata": {},
   "outputs": [
    {
     "data": {
      "text/plain": [
       "20"
      ]
     },
     "execution_count": 48,
     "metadata": {},
     "output_type": "execute_result"
    }
   ],
   "source": [
    "num = [10, 5, 20, 15]\n",
    "max(num)"
   ]
  },
  {
   "cell_type": "markdown",
   "id": "c4942da4-11ca-4536-9807-4e4ea2c86e69",
   "metadata": {},
   "source": [
    "**최솟값**"
   ]
  },
  {
   "cell_type": "code",
   "execution_count": 49,
   "id": "83e9bd87-7df9-44ed-9d4c-3eb165411a3d",
   "metadata": {},
   "outputs": [
    {
     "data": {
      "text/plain": [
       "5"
      ]
     },
     "execution_count": 49,
     "metadata": {},
     "output_type": "execute_result"
    }
   ],
   "source": [
    "num = [10, 5, 20, 15]\n",
    "min(num)"
   ]
  },
  {
   "cell_type": "markdown",
   "id": "201cdaee-7b29-4d89-8b9f-0f8fcf330350",
   "metadata": {},
   "source": [
    "### ***3. 절댓값***\n",
    "### `abs(x)`\n",
    "- x: 절댓값을 구할 숫자"
   ]
  },
  {
   "cell_type": "markdown",
   "id": "a9762e19-8860-408e-bd16-15960ee2a4af",
   "metadata": {},
   "source": [
    "**10의 절댓값**"
   ]
  },
  {
   "cell_type": "code",
   "execution_count": 46,
   "id": "66961fcf-5b39-4bc4-bced-126f3c38d97f",
   "metadata": {},
   "outputs": [
    {
     "data": {
      "text/plain": [
       "10"
      ]
     },
     "execution_count": 46,
     "metadata": {},
     "output_type": "execute_result"
    }
   ],
   "source": [
    "abs(10)"
   ]
  },
  {
   "cell_type": "markdown",
   "id": "0a8f3fbb-4501-4b70-a704-3625105d8b16",
   "metadata": {},
   "source": [
    "**-10의 절댓값**"
   ]
  },
  {
   "cell_type": "code",
   "execution_count": 47,
   "id": "69b107e5-8fa6-4c1a-b8c8-2c433864bf4e",
   "metadata": {},
   "outputs": [
    {
     "data": {
      "text/plain": [
       "10"
      ]
     },
     "execution_count": 47,
     "metadata": {},
     "output_type": "execute_result"
    }
   ],
   "source": [
    "abs(-10)"
   ]
  },
  {
   "cell_type": "markdown",
   "id": "e9cac51b-bebe-4443-9c64-7029784397e3",
   "metadata": {},
   "source": [
    "### ***4. 반올림***\n",
    "### `round(num, x)`\n",
    "- num: 실수\n",
    "- x: 소수점 자릿수 (기본값: 0)"
   ]
  },
  {
   "cell_type": "code",
   "execution_count": 5,
   "id": "78b82b4b-8b74-4b91-a963-b3881d5438e9",
   "metadata": {},
   "outputs": [
    {
     "name": "stdout",
     "output_type": "stream",
     "text": [
      "3.1 > 3\n",
      "3.6 > 4\n"
     ]
    }
   ],
   "source": [
    "print('3.1 >', round(3.1))\n",
    "print('3.6 >', round(3.6))"
   ]
  },
  {
   "cell_type": "markdown",
   "id": "c9ea75b9-a437-46fb-9a43-62afd2dc2767",
   "metadata": {},
   "source": [
    "**소수점 자릿수 처리**"
   ]
  },
  {
   "cell_type": "code",
   "execution_count": 6,
   "id": "6577c1f2-bc93-45bf-9838-b091ceafef6b",
   "metadata": {},
   "outputs": [
    {
     "name": "stdout",
     "output_type": "stream",
     "text": [
      "3.14159 >  3.14\n"
     ]
    }
   ],
   "source": [
    "print('3.14159 > ', round(3.14159, 2))"
   ]
  },
  {
   "cell_type": "markdown",
   "id": "264efd9d-c715-4001-ae0b-64f643322e7d",
   "metadata": {},
   "source": [
    "### `ceil(num)`\n",
    "- num: 실수\n",
    "- 무조건 올림하여 가장 가까운 정수로 반환"
   ]
  },
  {
   "cell_type": "code",
   "execution_count": 88,
   "id": "427053ba-b1c0-4e12-8027-db0b2e75721b",
   "metadata": {},
   "outputs": [
    {
     "data": {
      "text/plain": [
       "4"
      ]
     },
     "execution_count": 88,
     "metadata": {},
     "output_type": "execute_result"
    }
   ],
   "source": [
    "from math import *\n",
    "ceil(3.1)"
   ]
  },
  {
   "cell_type": "markdown",
   "id": "c8acc33d-06cf-43f2-9a9f-62eb2c8b2b7e",
   "metadata": {},
   "source": [
    "### `floor(num)`\n",
    "- num: 실수\n",
    "- 무조건 내림하여 가장 가까운 정수로 반환"
   ]
  },
  {
   "cell_type": "code",
   "execution_count": 86,
   "id": "1b917f99-6cec-422f-9c76-609f3c336543",
   "metadata": {},
   "outputs": [
    {
     "data": {
      "text/plain": [
       "3"
      ]
     },
     "execution_count": 86,
     "metadata": {},
     "output_type": "execute_result"
    }
   ],
   "source": [
    "floor(3.9)"
   ]
  },
  {
   "cell_type": "markdown",
   "id": "3e93bec4-baf0-4681-a6df-3233ea5cdb02",
   "metadata": {},
   "source": [
    "### ***5. 랜덤 난수 생성***\n",
    "### `random()`\n",
    "- 0.0 ~ 1.0 미만의 임의의 값 생성"
   ]
  },
  {
   "cell_type": "markdown",
   "id": "6eb14965-a420-4c94-8d2b-70b26108a1f4",
   "metadata": {},
   "source": [
    "**0 ~ 1 미만의 실수 생성**"
   ]
  },
  {
   "cell_type": "code",
   "execution_count": 89,
   "id": "0d529e51-a9db-4a97-a1bb-d9ffeda4fb12",
   "metadata": {},
   "outputs": [
    {
     "data": {
      "text/plain": [
       "0.7923029812531127"
      ]
     },
     "execution_count": 89,
     "metadata": {},
     "output_type": "execute_result"
    }
   ],
   "source": [
    "from random import *\n",
    "random()"
   ]
  },
  {
   "cell_type": "markdown",
   "id": "9e839876-e423-4db7-b6ba-32e1dd74d443",
   "metadata": {},
   "source": [
    "**0 ~ 10 미만의 실수 생성**"
   ]
  },
  {
   "cell_type": "code",
   "execution_count": 90,
   "id": "b544c28b-b96c-4f8f-b074-5d5f8b85aa85",
   "metadata": {},
   "outputs": [
    {
     "data": {
      "text/plain": [
       "4.501300384770156"
      ]
     },
     "execution_count": 90,
     "metadata": {},
     "output_type": "execute_result"
    }
   ],
   "source": [
    "random()* 10"
   ]
  },
  {
   "cell_type": "markdown",
   "id": "fac8c591-f290-421e-8b1e-0220e8711892",
   "metadata": {},
   "source": [
    "**1 ~ 10 <u>이하</u>의 정수 생성**\n",
    "- `+1` 을 더한다"
   ]
  },
  {
   "cell_type": "code",
   "execution_count": 91,
   "id": "a2336255-a3c5-417e-b281-b7ae91dc156e",
   "metadata": {},
   "outputs": [
    {
     "data": {
      "text/plain": [
       "3"
      ]
     },
     "execution_count": 91,
     "metadata": {},
     "output_type": "execute_result"
    }
   ],
   "source": [
    "int(random() * 10) + 1"
   ]
  },
  {
   "cell_type": "markdown",
   "id": "ccdec782-ed39-4b77-b9fc-64ccb0af7825",
   "metadata": {},
   "source": [
    "### `randrange(start, stop, step)`\n",
    "- start: 시작 값 (포함)\n",
    "- stop: 종료 값 (<u>미포함</u>)\n",
    "- step: 간격 (기본값: 1)"
   ]
  },
  {
   "cell_type": "markdown",
   "id": "bedf325e-d237-4a58-a5ec-a0531a825c0f",
   "metadata": {},
   "source": [
    "**1 ~ 99 이하의 정수 생성**"
   ]
  },
  {
   "cell_type": "code",
   "execution_count": 93,
   "id": "f576c721-f5d5-456f-ac24-96c22b8a440e",
   "metadata": {},
   "outputs": [
    {
     "data": {
      "text/plain": [
       "31"
      ]
     },
     "execution_count": 93,
     "metadata": {},
     "output_type": "execute_result"
    }
   ],
   "source": [
    "randrange(1, 100)"
   ]
  },
  {
   "cell_type": "markdown",
   "id": "f7372b96-52e3-4812-b860-16fea307d7bc",
   "metadata": {},
   "source": [
    "### `randint(a, b)`\n",
    "- a: 시작 값 (포함)\n",
    "- b: 종료 값 (포함)\n",
    "- <span style=color:red;>**랜덤 난수 생성 방식 중 가장 직관적**</span>"
   ]
  },
  {
   "cell_type": "markdown",
   "id": "52c7cadc-5480-4e64-94b4-c187fd9210e7",
   "metadata": {},
   "source": [
    "**1 ~ 100 이하의 정수 생성**"
   ]
  },
  {
   "cell_type": "code",
   "execution_count": 94,
   "id": "33b6fde0-05db-46a6-ac04-8fea9d1a7d47",
   "metadata": {},
   "outputs": [
    {
     "data": {
      "text/plain": [
       "81"
      ]
     },
     "execution_count": 94,
     "metadata": {},
     "output_type": "execute_result"
    }
   ],
   "source": [
    "randint(1, 100)"
   ]
  }
 ],
 "metadata": {
  "colab": {
   "collapsed_sections": [
    "04402167",
    "ba5ac03d",
    "c20c87e5",
    "010e62fb"
   ],
   "provenance": []
  },
  "kernelspec": {
   "display_name": "Python 3 (ipykernel)",
   "language": "python",
   "name": "python3"
  },
  "language_info": {
   "codemirror_mode": {
    "name": "ipython",
    "version": 3
   },
   "file_extension": ".py",
   "mimetype": "text/x-python",
   "name": "python",
   "nbconvert_exporter": "python",
   "pygments_lexer": "ipython3",
   "version": "3.13.5"
  }
 },
 "nbformat": 4,
 "nbformat_minor": 5
}
