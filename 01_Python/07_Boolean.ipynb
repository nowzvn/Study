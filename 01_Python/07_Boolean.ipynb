{
 "cells": [
  {
   "cell_type": "markdown",
   "id": "df559b23",
   "metadata": {
    "id": "df559b23"
   },
   "source": [
    "# 07_불리언 (Boolean)"
   ]
  },
  {
   "cell_type": "markdown",
   "id": "03af84e9",
   "metadata": {
    "id": "03af84e9"
   },
   "source": [
    "## **(1) 불리언의 주요 특징**\n",
    "- True 또는 False 두 가지 값만 가질 수 있는 데이터 타입\n",
    "- 대부분의 값은 참(True)으로 평가됨\n",
    "- 다음은 거짓(False)으로 평가됨\n",
    "    - None, 0, \"\", [], (), {}"
   ]
  },
  {
   "cell_type": "markdown",
   "id": "fa009803",
   "metadata": {
    "id": "fa009803"
   },
   "source": [
    "## **(2) 불리언 생성 및 기본 사용법**\n",
    "**불리언 생성**"
   ]
  },
  {
   "cell_type": "code",
   "execution_count": 1,
   "id": "e98438da",
   "metadata": {
    "id": "e98438da"
   },
   "outputs": [
    {
     "name": "stdout",
     "output_type": "stream",
     "text": [
      "True\n",
      "False\n"
     ]
    }
   ],
   "source": [
    "is_hungry = True\n",
    "is_tired = False\n",
    "\n",
    "print(is_hungry)  # True\n",
    "print(is_tired)   # False"
   ]
  },
  {
   "cell_type": "markdown",
   "id": "5ba26b79",
   "metadata": {
    "id": "5ba26b79"
   },
   "source": [
    "**숫자와 불리언 비교**"
   ]
  },
  {
   "cell_type": "code",
   "execution_count": 1,
   "id": "7765980c",
   "metadata": {
    "id": "7765980c"
   },
   "outputs": [
    {
     "name": "stdout",
     "output_type": "stream",
     "text": [
      "True\n",
      "True\n",
      "2\n",
      "0\n"
     ]
    }
   ],
   "source": [
    "print(True == 1)   # True\n",
    "print(False == 0)  # True\n",
    "\n",
    "print(True + 1)    # 2 (1 + 1)\n",
    "print(False * 10)  # 0 (0 * 10)"
   ]
  },
  {
   "cell_type": "markdown",
   "id": "587839e9",
   "metadata": {
    "id": "587839e9"
   },
   "source": [
    "## **(3) 불리언의 주요 연산 및 메서드**\n",
    "1. 논리 연산자\n",
    "2. 비교 연산자\n",
    "3. 값 비교\n",
    "4. 유용한 함수: `any()`, `all()`"
   ]
  },
  {
   "cell_type": "markdown",
   "id": "50abe827-6ea4-4622-a255-c61d3463dd2e",
   "metadata": {},
   "source": [
    "### ***1. 논리 연산자***"
   ]
  },
  {
   "cell_type": "code",
   "execution_count": 3,
   "id": "9e17d005",
   "metadata": {
    "id": "9e17d005"
   },
   "outputs": [
    {
     "name": "stdout",
     "output_type": "stream",
     "text": [
      "False\n",
      "True\n",
      "False\n"
     ]
    }
   ],
   "source": [
    "a = True\n",
    "b = False\n",
    "\n",
    "print(a and b)  # False\n",
    "print(a or b)   # True\n",
    "print(not a)    # False"
   ]
  },
  {
   "cell_type": "markdown",
   "id": "53835c02",
   "metadata": {
    "id": "53835c02"
   },
   "source": [
    "### ***2. 비교 연산자***\n",
    "| 연산자 | 의미 | 예시 |\n",
    "| --- | --- | --- |\n",
    "| `==` | 같음 | `1 == 1` → `True` |\n",
    "| `!=` | 같지 않음 | `1 != 2` → `True` |\n",
    "| `<` | 작음 | `5 < 10` → `True` |\n",
    "| `>` | 큼 | `10 > 5` → `True` |\n",
    "| `<=` | 작거나 같음 | `3 <= 3` → `True` |\n",
    "| `>=` | 크거나 같음 | `4 >= 2` → `True` |"
   ]
  },
  {
   "cell_type": "markdown",
   "id": "879da6d0",
   "metadata": {
    "id": "879da6d0"
   },
   "source": [
    "### ***3. 값 비교***"
   ]
  },
  {
   "cell_type": "code",
   "execution_count": 4,
   "id": "701e85ab",
   "metadata": {
    "id": "701e85ab"
   },
   "outputs": [
    {
     "name": "stdout",
     "output_type": "stream",
     "text": [
      "True\n",
      "True\n",
      "True\n",
      "False\n",
      "False\n",
      "False\n"
     ]
    }
   ],
   "source": [
    "# 참으로 평가되는 값\n",
    "print(bool(1))        # True\n",
    "print(bool(\"hello\"))  # True\n",
    "print(bool([1, 2]))   # True\n",
    "\n",
    "# 거짓으로 평가되는 값\n",
    "print(bool(0))        # False\n",
    "print(bool(\"\"))       # False\n",
    "print(bool([]))       # False"
   ]
  },
  {
   "cell_type": "markdown",
   "id": "f62748e0",
   "metadata": {
    "id": "f62748e0"
   },
   "source": [
    "### ***4. 유용한 함수***\n",
    "### **`any(iterable)`**\n",
    "- iterable: 리스트, 튜플 등 반복 가능한 객체\n",
    "- 하나라도 참이면 `True` 반환"
   ]
  },
  {
   "cell_type": "code",
   "execution_count": 9,
   "id": "5927ddf6",
   "metadata": {
    "id": "5927ddf6"
   },
   "outputs": [
    {
     "name": "stdout",
     "output_type": "stream",
     "text": [
      "True\n"
     ]
    }
   ],
   "source": [
    "values = [0, 0, 1]\n",
    "print(any(values))  # 1이 있어서 참"
   ]
  },
  {
   "cell_type": "markdown",
   "id": "59d9817a-f16b-48b4-a417-739a060834b2",
   "metadata": {},
   "source": [
    "### **`all(iterable)`**\n",
    "- iterable: 리스트, 튜플 등 반복 가능한 객체 \n",
    "- 모두 참이면 `True` 반환"
   ]
  },
  {
   "cell_type": "code",
   "execution_count": 10,
   "id": "5612b640-d4bf-4374-97c9-dbb26570f438",
   "metadata": {},
   "outputs": [
    {
     "name": "stdout",
     "output_type": "stream",
     "text": [
      "True\n",
      "False\n"
     ]
    }
   ],
   "source": [
    "values = [1, 2, 3]\n",
    "print(all(values))  # 모두 참\n",
    "\n",
    "values = [1, 0, 3]\n",
    "print(all(values))  # 0이 있어서 거짓"
   ]
  }
 ],
 "metadata": {
  "colab": {
   "provenance": []
  },
  "kernelspec": {
   "display_name": "Python 3 (ipykernel)",
   "language": "python",
   "name": "python3"
  },
  "language_info": {
   "codemirror_mode": {
    "name": "ipython",
    "version": 3
   },
   "file_extension": ".py",
   "mimetype": "text/x-python",
   "name": "python",
   "nbconvert_exporter": "python",
   "pygments_lexer": "ipython3",
   "version": "3.13.5"
  }
 },
 "nbformat": 4,
 "nbformat_minor": 5
}
