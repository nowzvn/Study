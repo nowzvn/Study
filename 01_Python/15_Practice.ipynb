{
 "cells": [
  {
   "cell_type": "markdown",
   "id": "72f9b1b8-567f-46d0-9038-aac3bc724d6d",
   "metadata": {},
   "source": [
    "# 연습 문제"
   ]
  },
  {
   "cell_type": "code",
   "execution_count": 48,
   "id": "b8380e0e-e2c5-406a-a202-5fcbd91425ed",
   "metadata": {},
   "outputs": [
    {
     "data": {
      "text/plain": [
       "(8, 12)"
      ]
     },
     "execution_count": 48,
     "metadata": {},
     "output_type": "execute_result"
    }
   ],
   "source": [
    "# 문제 1. Rectangle 클래스 정의\n",
    "# __init__(width, height): 가로와 세로를 속성으로 저장\n",
    "# area(): 넓이 = 가로 * 세로\n",
    "# perimeter(): 둘레 = 2 * (가로 + 세로)\n",
    "\n",
    "class Rectangle:\n",
    "    def __init__(self, w, d):\n",
    "        self.w = w\n",
    "        self.d = d\n",
    "    def area(self):\n",
    "        return self.w * self.d\n",
    "    def perimeter(self):\n",
    "        return 2*(self.w + self.d)\n",
    "\n",
    "Rectangle(2, 4).area(), Rectangle(2, 4).perimeter()"
   ]
  },
  {
   "cell_type": "code",
   "execution_count": 49,
   "id": "fc08fb13-e3b9-4a14-b8d5-e6999966ca08",
   "metadata": {},
   "outputs": [
    {
     "name": "stdout",
     "output_type": "stream",
     "text": [
      "10000\n",
      "7000\n"
     ]
    },
    {
     "data": {
      "text/plain": [
       "'현재 잔액은 7000원입니다.'"
      ]
     },
     "execution_count": 49,
     "metadata": {},
     "output_type": "execute_result"
    }
   ],
   "source": [
    "# 문제 2. BankAccount 클래스 정의\n",
    "# __init__(): 잔액(balance)은 0으로 초기화\n",
    "# deposit(amount): 입금 메서드. 잔액에 금액을 더함 → balance += amount\n",
    "# withdraw(amount): 출금 메서드\n",
    "#     - 잔액이 출금액보다 크거나 같으면 → balance -= amount\n",
    "#     - 그렇지 않으면 → \"잔액 부족\" 출력\n",
    "# check_balance(): 현재 잔액을 다음 형식으로 출력\n",
    "#     - \"현재 잔액은 XXX원입니다.\"\n",
    "\n",
    "class BankAccount:\n",
    "    def __init__(self):\n",
    "        self.balance = 0\n",
    "    def deposit(self, amount):\n",
    "        self.balance += amount\n",
    "        print(self.balance)\n",
    "    def withdraw(self, amount):\n",
    "        if self.balance >= amount:\n",
    "            self.balance -= amount\n",
    "            print(self.balance) \n",
    "        else:\n",
    "            print('잔액 부족')\n",
    "            print(self.balance)\n",
    "    def check_balance(self):\n",
    "        return f\"현재 잔액은 {self.balance}원입니다.\"\n",
    "\n",
    "acc = BankAccount()\n",
    "acc.deposit(10000)\n",
    "acc.withdraw(3000)\n",
    "acc.check_balance()"
   ]
  },
  {
   "cell_type": "code",
   "execution_count": 50,
   "id": "c459413b-419e-403d-82ef-1bfa3692c860",
   "metadata": {},
   "outputs": [
    {
     "name": "stdout",
     "output_type": "stream",
     "text": [
      "안녕하세요, 제 이름은 지민이고, 나이는 25살입니다.\n"
     ]
    }
   ],
   "source": [
    "# 문제 3. Person 클래스 정의\n",
    "# __init__(name, age): 이름(name)과 나이(age)를 속성으로 저장\n",
    "# introduce(): 아래 형식의 문자열을 출력\n",
    "#     - \"안녕하세요, 제 이름은 OOO이고, 나이는 XX살입니다.\"\n",
    "\n",
    "class Person:\n",
    "    def __init__(self, name, age):\n",
    "        self.name = name\n",
    "        self.age = age\n",
    "    def introduce(self):\n",
    "        print(f\"안녕하세요, 제 이름은 {self.name}이고, 나이는 {self.age}살입니다.\")\n",
    "\n",
    "p = Person(\"지민\", 25)\n",
    "p.introduce()"
   ]
  },
  {
   "cell_type": "code",
   "execution_count": 51,
   "id": "5253c595-5429-4b51-b68e-4c886a0d1546",
   "metadata": {},
   "outputs": [
    {
     "name": "stdout",
     "output_type": "stream",
     "text": [
      "78.53981633974483\n",
      "31.41592653589793\n"
     ]
    }
   ],
   "source": [
    "# 문제 4. Circle 클래스 정의\n",
    "# __init__(radius): 반지름을 속성으로 저장\n",
    "# area(): 원의 넓이를 계산하여 반환 → 넓이 = π * 반지름 * 반지름\n",
    "# circumference(): 원의 둘레를 계산하여 반환 → 둘레 = 2 * π * 반지름\n",
    "\n",
    "import math\n",
    "\n",
    "class Circle:\n",
    "    def __init__(self, radius):\n",
    "        self.radius = radius\n",
    "    def area(self):\n",
    "        return math.pi * self.radius * self.radius\n",
    "    def circumference(self):\n",
    "        return 2 * math.pi * self.radius\n",
    "\n",
    "c = Circle(5)\n",
    "print(c.area())\n",
    "print(c.circumference())"
   ]
  },
  {
   "cell_type": "code",
   "execution_count": 21,
   "id": "b5c03c70-9266-42b4-93f0-8e0727bcc670",
   "metadata": {},
   "outputs": [
    {
     "name": "stdout",
     "output_type": "stream",
     "text": [
      "71.66666666666667\n",
      "합격\n"
     ]
    }
   ],
   "source": [
    "# 문제 5. Student 클래스 정의\n",
    "# __init__(name, student_id): 이름과 학번을 속성으로 저장\n",
    "# grades: 성적을 저장하는 빈 리스트로 초기화\n",
    "# add_grade(score): 성적을 grades 리스트에 추가\n",
    "# average(): grades 리스트의 평균 점수 반환\n",
    "# is_passed(): 평균 점수가 60 이상이면 \"합격\", 그렇지 않으면 \"불합격\" 반환\n",
    "\n",
    "class Student:\n",
    "    def __init__(self, name, student_id):\n",
    "        self.grades = []\n",
    "        self.name = name\n",
    "        self.student_id = student_id\n",
    "    def add_grade(self, score):\n",
    "        self.grades.append(score)\n",
    "    def average(self):\n",
    "        return sum(self.grades) / len(self.grades)\n",
    "    def is_passed(self):\n",
    "        if self.average() >=60:\n",
    "            print('합격')\n",
    "        else:\n",
    "            print('불합격')\n",
    "\n",
    "s = Student(\"영희\", \"2023001\")\n",
    "s.add_grade(70)\n",
    "s.add_grade(55)\n",
    "s.add_grade(90)\n",
    "print(s.average())\n",
    "s.is_passed()"
   ]
  },
  {
   "cell_type": "code",
   "execution_count": 52,
   "id": "e8f1343c-e5e8-4f78-8e50-8387773b4699",
   "metadata": {},
   "outputs": [
    {
     "name": "stdout",
     "output_type": "stream",
     "text": [
      "['파이썬 입문', '데이터 분석']\n",
      "['데이터 분석']\n",
      "책이 없습니다.\n"
     ]
    }
   ],
   "source": [
    "# 문제 6. Library 클래스 정의\n",
    "# __init__(): 책 제목 목록을 빈 리스트로 초기화\n",
    "# add_book(title): 책 제목을 목록에 추가\n",
    "# remove_book(title): 목록에서 책 제목 제거, 없으면 \"책이 없습니다.\" 출력\n",
    "# list_books(): 현재 책 제목 목록 리스트 반환\n",
    "\n",
    "class Library:\n",
    "    def __init__(self):\n",
    "        self.book_list = []\n",
    "    def add_book(self, title):\n",
    "        self.book_list.append(title)\n",
    "    def remove_book(self, title):\n",
    "        if title in self.book_list:\n",
    "            self.book_list.remove(title)\n",
    "        else:\n",
    "            print(\"책이 없습니다.\")\n",
    "    def list_books(self):\n",
    "        return self.book_list\n",
    "\n",
    "lib = Library()\n",
    "lib.add_book(\"파이썬 입문\")\n",
    "lib.add_book(\"데이터 분석\")\n",
    "print(lib.list_books())\n",
    "lib.remove_book(\"파이썬 입문\")\n",
    "print(lib.list_books())\n",
    "lib.remove_book(\"없는책\")"
   ]
  },
  {
   "cell_type": "code",
   "execution_count": 56,
   "id": "a211c6f2-9c9f-4cb5-b681-1a1e215c8f55",
   "metadata": {},
   "outputs": [
    {
     "name": "stdout",
     "output_type": "stream",
     "text": [
      "이름: 홍길동, 급여: 3000원\n"
     ]
    }
   ],
   "source": [
    "# 문제 7. Employee 클래스 정의\n",
    "# __init__(name, salary): 이름과 급여를 속성으로 저장\n",
    "# give_raise(amount): 급여를 amount만큼 인상\n",
    "# display(): \"이름: OOO, 급여: XXXX원\" 형식으로 출력\n",
    "\n",
    "class Employee:\n",
    "    def __init__(self, name, salary):\n",
    "        self.name = name\n",
    "        self.salary = salary\n",
    "    def give_raise(self, amount):\n",
    "        self.salary + amount\n",
    "    def display(self):\n",
    "        print(f'이름: {self.name}, 급여: {self.salary}원')\n",
    "\n",
    "emp = Employee(\"홍길동\", 3000)\n",
    "emp.give_raise(500)\n",
    "emp.display()"
   ]
  },
  {
   "cell_type": "code",
   "execution_count": 54,
   "id": "48239754-5305-4169-9800-ed0d115d0772",
   "metadata": {},
   "outputs": [
    {
     "data": {
      "text/plain": [
       "(77.0, 298.15)"
      ]
     },
     "execution_count": 54,
     "metadata": {},
     "output_type": "execute_result"
    }
   ],
   "source": [
    "# 문제 8. Temperature 클래스 정의\n",
    "# __init__(celsius): 섭씨 온도를 속성으로 저장\n",
    "# to_fahrenheit(): 섭씨를 화씨로 변환하여 반환 (섭씨 * 9/5 + 32)\n",
    "# to_kelvin(): 섭씨를 켈빈으로 변환하여 반환 (섭씨 + 273.15)\n",
    "\n",
    "class Temperature:\n",
    "    def __init__(self, celsius):\n",
    "        self.celsius = celsius\n",
    "    def to_fahrenheit(self):\n",
    "        return self.celsius * 9/5 + 32\n",
    "    def to_kelvin(self):\n",
    "        return self.celsius + 273.15\n",
    "\n",
    "temp = Temperature(25)\n",
    "temp.to_fahrenheit(), temp.to_kelvin()"
   ]
  },
  {
   "cell_type": "code",
   "execution_count": 55,
   "id": "17d9147d-2fbd-4cea-9829-2b1cbf0a8c9b",
   "metadata": {},
   "outputs": [
    {
     "name": "stdout",
     "output_type": "stream",
     "text": [
      "3000\n"
     ]
    }
   ],
   "source": [
    "# 문제 9. Account 클래스 정의\n",
    "# __init__(owner): 소유자 이름을 속성으로 저장하고, 통장 목록을 빈 딕셔너리로 초기화\n",
    "# add_account(account_name, balance=0): account_name 이름의 통장을 만들고 초기 잔액 설정\n",
    "# get_total_balance(): 모든 통장 잔액의 합을 반환\n",
    "\n",
    "class Account:\n",
    "    def __init__(self, owner):\n",
    "        self.owner = owner\n",
    "        self.accounts = {}\n",
    "    def add_account(self, account_name, balance=0):\n",
    "        self.accounts[account_name] = balance\n",
    "    def get_total_balance(self):\n",
    "        return sum(self.accounts.values())\n",
    "\n",
    "acc = Account(\"홍길동\")\n",
    "acc.add_account(\"통장1\", 1000)\n",
    "acc.add_account(\"통장2\", 2000)\n",
    "print(acc.get_total_balance())"
   ]
  },
  {
   "cell_type": "code",
   "execution_count": 61,
   "id": "82e604db-0434-4cc7-a380-55af177f2a5c",
   "metadata": {},
   "outputs": [
    {
     "name": "stdout",
     "output_type": "stream",
     "text": [
      "파이썬의 창시자는?\n",
      "True\n",
      "False\n",
      "귀\n"
     ]
    }
   ],
   "source": [
    "# 문제 10. Quiz 클래스 정의\n",
    "# __init__(question, answer): 문제와 정답을 속성으로 저장\n",
    "# show_question(): 문제보여주기\n",
    "# check_answer(user_answer): 사용자의 답과 정답이 같으면 True, 아니면 False 반환\n",
    "# hint(): 정답의 첫 글자를 반환\n",
    "\n",
    "class Quiz:\n",
    "    def __init__(self, question, answer):\n",
    "        self.question = question\n",
    "        self.answer = answer\n",
    "    def show_question(self):\n",
    "        return self.question \n",
    "    def check_answer(self, user_answer):\n",
    "        if self.answer == user_answer:\n",
    "            return True\n",
    "        else:\n",
    "            return False\n",
    "    def hint(self):\n",
    "        return self.answer[0]\n",
    "\n",
    "q = Quiz(\"파이썬의 창시자는?\", \"귀도\")\n",
    "print(q.show_question())\n",
    "print(q.check_answer(\"귀도\"))\n",
    "print(q.check_answer(\"스티브\"))\n",
    "print(q.hint())"
   ]
  }
 ],
 "metadata": {
  "colab": {
   "provenance": []
  },
  "kernelspec": {
   "display_name": "Python 3 (ipykernel)",
   "language": "python",
   "name": "python3"
  },
  "language_info": {
   "codemirror_mode": {
    "name": "ipython",
    "version": 3
   },
   "file_extension": ".py",
   "mimetype": "text/x-python",
   "name": "python",
   "nbconvert_exporter": "python",
   "pygments_lexer": "ipython3",
   "version": "3.13.5"
  }
 },
 "nbformat": 4,
 "nbformat_minor": 5
}
