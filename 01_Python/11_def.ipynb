{
 "cells": [
  {
   "cell_type": "markdown",
   "id": "fa86b845",
   "metadata": {
    "id": "fa86b845"
   },
   "source": [
    "# 11_함수 (def, define)"
   ]
  },
  {
   "cell_type": "markdown",
   "id": "725161a3",
   "metadata": {
    "id": "725161a3"
   },
   "source": [
    "## **(1) 기본 구조**\n",
    "```python\n",
    "def 함수명(매개변수):\n",
    "   실행할 문장\n",
    "```\n",
    "- 반복되는 코드들을 재활용하여 사용\n",
    "- 호출 할 때만 실행 됨"
   ]
  },
  {
   "cell_type": "code",
   "execution_count": 1,
   "id": "4363a808",
   "metadata": {
    "colab": {
     "base_uri": "https://localhost:8080/"
    },
    "executionInfo": {
     "elapsed": 5,
     "status": "ok",
     "timestamp": 1743660648365,
     "user": {
      "displayName": "Kim InSeop",
      "userId": "13965062148001194946"
     },
     "user_tz": -540
    },
    "id": "4363a808",
    "outputId": "b24a9c94-15a0-40e2-fdcd-28fe95b4fb15"
   },
   "outputs": [
    {
     "name": "stdout",
     "output_type": "stream",
     "text": [
      "함수 생성\n"
     ]
    }
   ],
   "source": [
    "def name():\n",
    "\tprint(\"함수 생성\")\n",
    "\n",
    "# 함수 호출\n",
    "name()"
   ]
  },
  {
   "cell_type": "markdown",
   "id": "1cddc912",
   "metadata": {
    "id": "1cddc912"
   },
   "source": [
    "## **(2) 주요 요소**"
   ]
  },
  {
   "cell_type": "markdown",
   "id": "332731f5-f8e3-4f0c-8409-c6c6fd0095f5",
   "metadata": {},
   "source": [
    "- **매개변수(Parameter)**: 함수 정의 시 입력값을 받기 위한 변수.\n",
    "- **인자(Argument)**: 함수 호출 시 전달하는 값."
   ]
  },
  {
   "cell_type": "markdown",
   "id": "223966f6",
   "metadata": {
    "id": "223966f6"
   },
   "source": [
    "**매개변수의 기본값 설정**"
   ]
  },
  {
   "cell_type": "code",
   "execution_count": 2,
   "id": "ed5ff026",
   "metadata": {
    "id": "ed5ff026"
   },
   "outputs": [
    {
     "name": "stdout",
     "output_type": "stream",
     "text": [
      "Hello, Guest!\n",
      "Hello, Hanna!\n",
      "ERROR! Session/line number was not unique in database. History logging moved to new session 11\n"
     ]
    }
   ],
   "source": [
    "def greet(name=\"Guest\"):\n",
    "    return f\"Hello, {name}!\"\n",
    "\n",
    "print(greet())\n",
    "print(greet(\"Hanna\"))"
   ]
  },
  {
   "cell_type": "markdown",
   "id": "85b74490",
   "metadata": {
    "id": "85b74490"
   },
   "source": [
    "**가변 매개변수**\n",
    "- 여러 인자를 받을 때 사용"
   ]
  },
  {
   "cell_type": "code",
   "execution_count": 3,
   "id": "c76d61fd",
   "metadata": {
    "colab": {
     "base_uri": "https://localhost:8080/"
    },
    "executionInfo": {
     "elapsed": 4,
     "status": "ok",
     "timestamp": 1743660918071,
     "user": {
      "displayName": "Kim InSeop",
      "userId": "13965062148001194946"
     },
     "user_tz": -540
    },
    "id": "c76d61fd",
    "outputId": "1113ff9a-9bd9-4468-9282-8f654b654d88"
   },
   "outputs": [
    {
     "name": "stdout",
     "output_type": "stream",
     "text": [
      "(1, 2, 3, 4, 5)\n",
      "15\n"
     ]
    }
   ],
   "source": [
    "def add_all(*args):\n",
    "    print(args)\n",
    "    return sum(args)\n",
    "\n",
    "print(add_all(1,2,3,4,5))"
   ]
  },
  {
   "cell_type": "markdown",
   "id": "1a4b56c0",
   "metadata": {
    "id": "1a4b56c0"
   },
   "source": [
    "## **(3) 함수의 다양한 모습**\n",
    "1. 매개변수가 있는 함수\n",
    "2. 매개변수가 없는 함수\n",
    "3. 반환값이 있는 함수\n",
    "4. 반환값이 없는 함수"
   ]
  },
  {
   "cell_type": "markdown",
   "id": "d2610d2d-9128-4c56-a667-1a7b52919fe2",
   "metadata": {},
   "source": [
    "### ***1. 매개변수가 있는 함수***"
   ]
  },
  {
   "cell_type": "code",
   "execution_count": 4,
   "id": "223429ad",
   "metadata": {
    "colab": {
     "base_uri": "https://localhost:8080/"
    },
    "executionInfo": {
     "elapsed": 5,
     "status": "ok",
     "timestamp": 1743660695489,
     "user": {
      "displayName": "Kim InSeop",
      "userId": "13965062148001194946"
     },
     "user_tz": -540
    },
    "id": "223429ad",
    "outputId": "10125e50-3749-4d3f-92f0-199611eb5d96"
   },
   "outputs": [
    {
     "name": "stdout",
     "output_type": "stream",
     "text": [
      "Hello, hanna!\n"
     ]
    }
   ],
   "source": [
    "def greet(name):\n",
    "    print(f\"Hello, {name}!\")\n",
    "    \n",
    "greet('hanna')"
   ]
  },
  {
   "cell_type": "markdown",
   "id": "cea55a00-6edb-4def-bb91-c11b6e10f518",
   "metadata": {},
   "source": [
    "### ***2. 매개변수가 없는 함수***"
   ]
  },
  {
   "cell_type": "code",
   "execution_count": 5,
   "id": "6b6b9903",
   "metadata": {
    "colab": {
     "base_uri": "https://localhost:8080/"
    },
    "executionInfo": {
     "elapsed": 3,
     "status": "ok",
     "timestamp": 1743660746856,
     "user": {
      "displayName": "Kim InSeop",
      "userId": "13965062148001194946"
     },
     "user_tz": -540
    },
    "id": "6b6b9903",
    "outputId": "1397d6cf-cc86-4ada-b4f8-d91382a30e8c"
   },
   "outputs": [
    {
     "name": "stdout",
     "output_type": "stream",
     "text": [
      "Hello!\n"
     ]
    }
   ],
   "source": [
    "def say_hello():\n",
    "    print(\"Hello!\")\n",
    "\n",
    "say_hello()"
   ]
  },
  {
   "cell_type": "markdown",
   "id": "6318c6b0-b008-4710-9154-b716a2b08966",
   "metadata": {},
   "source": [
    "### ***3. 반환값이 있는 함수***"
   ]
  },
  {
   "cell_type": "code",
   "execution_count": 6,
   "id": "d338d829",
   "metadata": {
    "colab": {
     "base_uri": "https://localhost:8080/"
    },
    "executionInfo": {
     "elapsed": 3,
     "status": "ok",
     "timestamp": 1743660810803,
     "user": {
      "displayName": "Kim InSeop",
      "userId": "13965062148001194946"
     },
     "user_tz": -540
    },
    "id": "d338d829",
    "outputId": "cb06aae0-8acb-4b51-f1ae-ffb3ee458718"
   },
   "outputs": [
    {
     "name": "stdout",
     "output_type": "stream",
     "text": [
      "3\n"
     ]
    }
   ],
   "source": [
    "def add(a, b):\n",
    "    return a + b\n",
    "print(add(1, 2))"
   ]
  },
  {
   "cell_type": "markdown",
   "id": "891a0983-b405-4815-beb0-973a98fad7aa",
   "metadata": {},
   "source": [
    "### ***4. 반환값이 없는 함수***"
   ]
  },
  {
   "cell_type": "code",
   "execution_count": 7,
   "id": "146bcfda-eb3e-4b92-951f-c9105e9c92b0",
   "metadata": {},
   "outputs": [
    {
     "name": "stdout",
     "output_type": "stream",
     "text": [
      "3\n",
      "3\n",
      "None\n"
     ]
    }
   ],
   "source": [
    "def print_sum(a, b):\n",
    "    print(a + b)\n",
    "\n",
    "a = 1\n",
    "b = 2\n",
    "\n",
    "# 출력은 가능\n",
    "print_sum(a, b)\n",
    "\n",
    "# 반환값은 None\n",
    "print(print_sum(a, b))"
   ]
  }
 ],
 "metadata": {
  "colab": {
   "provenance": []
  },
  "kernelspec": {
   "display_name": "Python 3 (ipykernel)",
   "language": "python",
   "name": "python3"
  },
  "language_info": {
   "codemirror_mode": {
    "name": "ipython",
    "version": 3
   },
   "file_extension": ".py",
   "mimetype": "text/x-python",
   "name": "python",
   "nbconvert_exporter": "python",
   "pygments_lexer": "ipython3",
   "version": "3.13.5"
  }
 },
 "nbformat": 4,
 "nbformat_minor": 5
}
