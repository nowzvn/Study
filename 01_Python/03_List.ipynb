{
 "cells": [
  {
   "cell_type": "markdown",
   "id": "1d312e09",
   "metadata": {
    "id": "1d312e09"
   },
   "source": [
    "# 03_리스트 (List)"
   ]
  },
  {
   "cell_type": "markdown",
   "id": "1101869a",
   "metadata": {
    "id": "1101869a"
   },
   "source": [
    "## **(1). 리스트 기본 사용법**\n",
    "- 여러 개의 서로 다른 자료형을 저장\n",
    "- 대괄호[    ] 를 사용하여 생성"
   ]
  },
  {
   "cell_type": "markdown",
   "id": "1d6ef052-0b44-4a7c-8f0c-37d81aed87e4",
   "metadata": {},
   "source": [
    "**빈 리스트 생성**"
   ]
  },
  {
   "cell_type": "code",
   "execution_count": 3,
   "id": "b7f1773b",
   "metadata": {
    "colab": {
     "base_uri": "https://localhost:8080/"
    },
    "executionInfo": {
     "elapsed": 8,
     "status": "ok",
     "timestamp": 1743579047951,
     "user": {
      "displayName": "Kim InSeop",
      "userId": "13965062148001194946"
     },
     "user_tz": -540
    },
    "id": "b7f1773b",
    "outputId": "5225a4e4-e326-494e-9610-e8029907687a"
   },
   "outputs": [
    {
     "data": {
      "text/plain": [
       "[]"
      ]
     },
     "execution_count": 3,
     "metadata": {},
     "output_type": "execute_result"
    }
   ],
   "source": [
    "ls1 = []\n",
    "ls1"
   ]
  },
  {
   "cell_type": "markdown",
   "id": "22f75a35-4eb2-42ec-af80-1fc7281149b9",
   "metadata": {},
   "source": [
    "**값이 있는 리스트 생성**"
   ]
  },
  {
   "cell_type": "code",
   "execution_count": 4,
   "id": "71b52164-cad8-4097-8740-3c5a0f2d7916",
   "metadata": {},
   "outputs": [
    {
     "data": {
      "text/plain": [
       "[1, 'apple', 3.14, [2, 4, 6], {}]"
      ]
     },
     "execution_count": 4,
     "metadata": {},
     "output_type": "execute_result"
    }
   ],
   "source": [
    "ls2 = [1, \"apple\", 3.14, [2, 4, 6], {}]\n",
    "ls2"
   ]
  },
  {
   "cell_type": "markdown",
   "id": "49eaf764-7e8f-44e7-8d19-8ba82ff9f269",
   "metadata": {},
   "source": [
    "**range를 사용한 숫자 리스트 생성**"
   ]
  },
  {
   "cell_type": "code",
   "execution_count": 6,
   "id": "e5e4d26c-d4c2-4dc7-8c24-b7f2eb530bd4",
   "metadata": {},
   "outputs": [
    {
     "data": {
      "text/plain": [
       "[1, 2, 3, 4, 5, 6, 7, 8, 9, 10, 11, 12, 13, 14, 15, 16, 17, 18, 19, 20]"
      ]
     },
     "execution_count": 6,
     "metadata": {},
     "output_type": "execute_result"
    }
   ],
   "source": [
    "ls3 = list(range(1,21))\n",
    "ls3"
   ]
  },
  {
   "cell_type": "markdown",
   "id": "abb6cb35-b5ef-45a4-a190-9f6f2f2e1f39",
   "metadata": {},
   "source": [
    "## **(2) 리스트 인덱싱, 슬라이싱**"
   ]
  },
  {
   "cell_type": "markdown",
   "id": "114139e3",
   "metadata": {
    "id": "114139e3"
   },
   "source": [
    "**리스트 인덱싱**    "
   ]
  },
  {
   "cell_type": "code",
   "execution_count": 10,
   "id": "10a98e6a",
   "metadata": {
    "colab": {
     "base_uri": "https://localhost:8080/"
    },
    "executionInfo": {
     "elapsed": 4,
     "status": "ok",
     "timestamp": 1743579119652,
     "user": {
      "displayName": "Kim InSeop",
      "userId": "13965062148001194946"
     },
     "user_tz": -540
    },
    "id": "10a98e6a",
    "outputId": "30944c90-8117-495a-b615-19457823f586"
   },
   "outputs": [
    {
     "name": "stdout",
     "output_type": "stream",
     "text": [
      "apple\n",
      "mango\n"
     ]
    }
   ],
   "source": [
    "fruits = [\"apple\", \"banana\", \"cherry\", \"mango\"]\n",
    "print(fruits[0])\n",
    "print(fruits[-1])"
   ]
  },
  {
   "cell_type": "markdown",
   "id": "cd3856fa-6462-40e3-a1dd-55d4e45bbe32",
   "metadata": {},
   "source": [
    "**리스트 슬라이싱**"
   ]
  },
  {
   "cell_type": "code",
   "execution_count": 11,
   "id": "5sqymFAhaYO3",
   "metadata": {
    "colab": {
     "base_uri": "https://localhost:8080/"
    },
    "executionInfo": {
     "elapsed": 12,
     "status": "ok",
     "timestamp": 1743579149452,
     "user": {
      "displayName": "Kim InSeop",
      "userId": "13965062148001194946"
     },
     "user_tz": -540
    },
    "id": "5sqymFAhaYO3",
    "outputId": "5cb9aeaf-7090-48e0-ab16-171ea3b4ea1e"
   },
   "outputs": [
    {
     "name": "stdout",
     "output_type": "stream",
     "text": [
      "['banana', 'cherry']\n",
      "['apple', 'banana']\n"
     ]
    }
   ],
   "source": [
    "fruits = [\"apple\", \"banana\", \"cherry\", \"mango\"]\n",
    "print(fruits[1:3])\n",
    "print(fruits[:2])"
   ]
  },
  {
   "cell_type": "markdown",
   "id": "f5687e8f",
   "metadata": {
    "id": "f5687e8f"
   },
   "source": [
    "## **(3) 리스트 주요 메서드**\n",
    "1. 값 추가: `append()`, `insert()`\n",
    "2. 값 제거: `remove()`, `del`, `pop()`, `clear()`\n",
    "3. 값 검색: `index()`\n",
    "4. 값 갯수 카운팅: `count()`\n",
    "5. 리스트 정렬: `sort()`, `reverse()`\n",
    "6. 리스트 복사: `copy()`\n",
    "7. 리스트 확장: `extend()`\n",
    "8. 중복값 제거: `set()`"
   ]
  },
  {
   "cell_type": "markdown",
   "id": "2a91d15c-0363-450f-86a5-682ae4ec4e95",
   "metadata": {},
   "source": [
    "### ***1. 값 추가***\n",
    "### `x.append(v)`\n",
    "- x: 리스트명\n",
    "- v: 추가할 값\n",
    "- 리스트의 맨 끝에 값 추가"
   ]
  },
  {
   "cell_type": "code",
   "execution_count": 1,
   "id": "7d023535",
   "metadata": {
    "id": "7d023535"
   },
   "outputs": [
    {
     "name": "stdout",
     "output_type": "stream",
     "text": [
      "원본: ['apple', 'banana']\n",
      "추가 후: ['apple', 'banana', 'cherry']\n"
     ]
    }
   ],
   "source": [
    "fruits = [\"apple\", \"banana\"]\n",
    "print(f'원본: {fruits}')\n",
    "\n",
    "fruits.append(\"cherry\")\n",
    "print(f'추가 후: {fruits}')"
   ]
  },
  {
   "cell_type": "markdown",
   "id": "e3c21716-77de-4075-a580-3ed6feb3bbfd",
   "metadata": {},
   "source": [
    "### `x.insert(n, v)`\n",
    "- x: 리스트명\n",
    "- n: 추가할 인덱스\n",
    "- v: 추가할 값"
   ]
  },
  {
   "cell_type": "code",
   "execution_count": null,
   "id": "n0NEG9ibapiH",
   "metadata": {
    "colab": {
     "base_uri": "https://localhost:8080/"
    },
    "executionInfo": {
     "elapsed": 7,
     "status": "ok",
     "timestamp": 1743579199498,
     "user": {
      "displayName": "Kim InSeop",
      "userId": "13965062148001194946"
     },
     "user_tz": -540
    },
    "id": "n0NEG9ibapiH",
    "outputId": "de08ab06-06dc-4ac4-83e2-26b844f65a08"
   },
   "outputs": [
    {
     "name": "stdout",
     "output_type": "stream",
     "text": [
      "0번 위치에 orange 추가: ['orange', 'apple', 'banana', 'cherry', 'mango']\n"
     ]
    }
   ],
   "source": [
    "fruits = [\"apple\", \"banana\", \"cherry\", \"mango\"]\n",
    "fruits.insert(0, \"orange\")\n",
    "print(f'0번 위치에 orange 추가: {fruits}')"
   ]
  },
  {
   "cell_type": "markdown",
   "id": "cf2778fe",
   "metadata": {
    "id": "cf2778fe"
   },
   "source": [
    "### ***2. 값 제거***\n",
    "### `x.remove(v)`\n",
    "- x: 리스트명\n",
    "- v: 제거할 값"
   ]
  },
  {
   "cell_type": "code",
   "execution_count": 49,
   "id": "e4abae2f",
   "metadata": {
    "colab": {
     "base_uri": "https://localhost:8080/"
    },
    "executionInfo": {
     "elapsed": 5,
     "status": "ok",
     "timestamp": 1743579245834,
     "user": {
      "displayName": "Kim InSeop",
      "userId": "13965062148001194946"
     },
     "user_tz": -540
    },
    "id": "e4abae2f",
    "outputId": "0691ca7d-6e82-429f-feee-ded69f0dc8ef"
   },
   "outputs": [
    {
     "name": "stdout",
     "output_type": "stream",
     "text": [
      "원본: ['apple', 'banana', 'cherry', 'mango']\n",
      "제거 후: ['apple', 'cherry', 'mango']\n"
     ]
    }
   ],
   "source": [
    "fruits = [\"apple\", \"banana\", \"cherry\", \"mango\"]\n",
    "print(f'원본: {fruits}')\n",
    "\n",
    "fruits.remove(\"banana\")\n",
    "print(f'제거 후: {fruits}')"
   ]
  },
  {
   "cell_type": "markdown",
   "id": "df762cd3-13b3-49a7-a5e6-cca78d2bc15a",
   "metadata": {},
   "source": [
    "### `del x[n]`\n",
    "- x: 리스트명\n",
    "- n: 제거할 인덱스"
   ]
  },
  {
   "cell_type": "code",
   "execution_count": 52,
   "id": "167ceafe-c3d7-4f5f-830d-eb9cd35da461",
   "metadata": {},
   "outputs": [
    {
     "name": "stdout",
     "output_type": "stream",
     "text": [
      "원본: ['apple', 'banana', 'cherry', 'mango']\n",
      "제거 후: ['apple', 'banana', 'cherry']\n"
     ]
    }
   ],
   "source": [
    "fruits = [\"apple\", \"banana\", \"cherry\", \"mango\"]\n",
    "print(f'원본: {fruits}')\n",
    "\n",
    "del fruits[-1]\n",
    "print(f'제거 후: {fruits}')"
   ]
  },
  {
   "cell_type": "markdown",
   "id": "6abf9964-2a1d-4c45-92f8-e1e21ee2ae6a",
   "metadata": {},
   "source": [
    "### `x.pop(n)`\n",
    "- x: 리스트명\n",
    "- n: 제거할 인덱스 (기본값: 마지막 값)\n",
    "- <u>제거값 반환</u> 가능"
   ]
  },
  {
   "cell_type": "code",
   "execution_count": 41,
   "id": "Gim_akWCa7nN",
   "metadata": {
    "colab": {
     "base_uri": "https://localhost:8080/"
    },
    "executionInfo": {
     "elapsed": 6,
     "status": "ok",
     "timestamp": 1743579309541,
     "user": {
      "displayName": "Kim InSeop",
      "userId": "13965062148001194946"
     },
     "user_tz": -540
    },
    "id": "Gim_akWCa7nN",
    "outputId": "12b8f999-2e52-4c9b-f05f-0b0db13cf7c3"
   },
   "outputs": [
    {
     "name": "stdout",
     "output_type": "stream",
     "text": [
      "원본: ['apple', 'banana', 'cherry', 'mango']\n",
      "첫번째 과일 제거: apple\n",
      "제거 후: ['banana', 'cherry', 'mango']\n",
      "마지막 과일 제거: mango\n",
      "제거 후: ['banana', 'cherry']\n"
     ]
    }
   ],
   "source": [
    "fruits = [\"apple\", \"banana\", \"cherry\", \"mango\"]\n",
    "print(f'원본: {fruits}')\n",
    "\n",
    "first_fruit = fruits.pop(0)\n",
    "print(f'첫번째 과일 제거: {first_fruit}')\n",
    "print(f'제거 후: {fruits}')\n",
    "\n",
    "last_fruit = fruits.pop()\n",
    "print(f'마지막 과일 제거: {last_fruit}')\n",
    "print(f'제거 후: {fruits}')"
   ]
  },
  {
   "cell_type": "markdown",
   "id": "7f7d9c4f-62a4-4244-938f-515829308a4f",
   "metadata": {},
   "source": [
    "### `x.clear()`\n",
    "- x: 리스트명\n",
    "- 리스트의 모든 값을 제거"
   ]
  },
  {
   "cell_type": "code",
   "execution_count": 11,
   "id": "apkceqMwa7iu",
   "metadata": {
    "colab": {
     "base_uri": "https://localhost:8080/"
    },
    "executionInfo": {
     "elapsed": 6,
     "status": "ok",
     "timestamp": 1743579331058,
     "user": {
      "displayName": "Kim InSeop",
      "userId": "13965062148001194946"
     },
     "user_tz": -540
    },
    "id": "apkceqMwa7iu",
    "outputId": "ccc3530c-4b16-4d91-a9e7-e639a2167fcf"
   },
   "outputs": [
    {
     "name": "stdout",
     "output_type": "stream",
     "text": [
      "모든 값 삭제: []\n"
     ]
    }
   ],
   "source": [
    "fruits.clear()\n",
    "print(f'모든 값 삭제: {fruits}')"
   ]
  },
  {
   "cell_type": "markdown",
   "id": "69184d1d",
   "metadata": {
    "id": "69184d1d"
   },
   "source": [
    "### ***3. 값 검색***\n",
    "### `x.index(v)`\n",
    "- x: 리스트명\n",
    "- v: 검색할 값\n",
    "- 특정 값의 <span style=color:blue;>인덱스</span>를 반환\n",
    "- 값이 없는 경우, ValueError 반환\n",
    "    - if value in list: 로 값을 먼저 확인하자."
   ]
  },
  {
   "cell_type": "code",
   "execution_count": 60,
   "id": "27086069",
   "metadata": {
    "colab": {
     "base_uri": "https://localhost:8080/"
    },
    "executionInfo": {
     "elapsed": 14,
     "status": "ok",
     "timestamp": 1743579390851,
     "user": {
      "displayName": "Kim InSeop",
      "userId": "13965062148001194946"
     },
     "user_tz": -540
    },
    "id": "27086069",
    "outputId": "c41064c6-1919-40e4-c8da-74f536c1653a"
   },
   "outputs": [
    {
     "name": "stdout",
     "output_type": "stream",
     "text": [
      "0\n"
     ]
    }
   ],
   "source": [
    "fruits = [\"apple\", \"banana\", \"cherry\", \"apple\"]\n",
    "print(fruits.index(\"apple\"))"
   ]
  },
  {
   "cell_type": "markdown",
   "id": "c9159207-e87b-4eef-9459-b2f345274cd9",
   "metadata": {},
   "source": [
    "### ***4. 값 갯수 카운팅***"
   ]
  },
  {
   "cell_type": "markdown",
   "id": "2cd0a1e7-6590-4e50-957d-1ea97c3b8a0b",
   "metadata": {},
   "source": [
    "### `x.count(v)`\n",
    "- x: 리스트명\n",
    "- v: 검색할 값\n",
    "- 특정 값이 <span style=color:blue;>리스트에 몇 번 등장</span>하는지 반환\n",
    "- 값이 없는 경우, 0 반환"
   ]
  },
  {
   "cell_type": "code",
   "execution_count": 56,
   "id": "3444d4a1-c902-44ec-a782-a24f7a6280ba",
   "metadata": {},
   "outputs": [
    {
     "name": "stdout",
     "output_type": "stream",
     "text": [
      "2\n"
     ]
    }
   ],
   "source": [
    "fruits = [\"apple\", \"banana\", \"cherry\", \"apple\"]\n",
    "print(fruits.count(\"apple\"))"
   ]
  },
  {
   "cell_type": "markdown",
   "id": "713ac080",
   "metadata": {
    "id": "713ac080"
   },
   "source": [
    "### ***5. 리스트 정렬***\n",
    "### `x.sort(reverse=)`\n",
    "- x: 리스트명\n",
    "- reverse:\n",
    "    - False: 오름차순 (기본값)\n",
    "    - True: 내림차순"
   ]
  },
  {
   "cell_type": "markdown",
   "id": "71794a89-5849-4ddc-9b24-065cc0a8ed93",
   "metadata": {},
   "source": [
    "**오름차순 정렬**"
   ]
  },
  {
   "cell_type": "code",
   "execution_count": 12,
   "id": "95fec23a",
   "metadata": {
    "colab": {
     "base_uri": "https://localhost:8080/"
    },
    "executionInfo": {
     "elapsed": 5,
     "status": "ok",
     "timestamp": 1743579416351,
     "user": {
      "displayName": "Kim InSeop",
      "userId": "13965062148001194946"
     },
     "user_tz": -540
    },
    "id": "95fec23a",
    "outputId": "dcac01a7-2383-465c-ee81-1077f38659bd"
   },
   "outputs": [
    {
     "name": "stdout",
     "output_type": "stream",
     "text": [
      "정렬 전: [3, 1, 4, 2]\n",
      "정렬 후: [1, 2, 3, 4]\n"
     ]
    }
   ],
   "source": [
    "numbers = [3, 1, 4, 2]\n",
    "print(f'정렬 전: {numbers}')\n",
    "\n",
    "numbers.sort()\n",
    "print(f'정렬 후: {numbers}')"
   ]
  },
  {
   "cell_type": "markdown",
   "id": "417f2f8e-2eb8-4f6d-8495-8893b3af57fd",
   "metadata": {},
   "source": [
    "**내림차순 정렬**"
   ]
  },
  {
   "cell_type": "code",
   "execution_count": 14,
   "id": "07b1ecd8-cbe7-4f4b-9775-8edf649f84fa",
   "metadata": {},
   "outputs": [
    {
     "name": "stdout",
     "output_type": "stream",
     "text": [
      "정렬 전: [3, 1, 4, 2]\n",
      "정렬 후: [4, 3, 2, 1]\n"
     ]
    }
   ],
   "source": [
    "numbers = [3, 1, 4, 2]\n",
    "print(f'정렬 전: {numbers}')\n",
    "\n",
    "numbers.sort(reverse = True)\n",
    "print(f'정렬 후: {numbers}')"
   ]
  },
  {
   "cell_type": "markdown",
   "id": "f09b4648-76a3-4a57-8df3-4d6003cf22f7",
   "metadata": {},
   "source": [
    "### `x.reverse()`\n",
    "- x: 리스트명\n",
    "- 내림차순 정렬"
   ]
  },
  {
   "cell_type": "code",
   "execution_count": 5,
   "id": "WDKsBVj7bmEY",
   "metadata": {
    "colab": {
     "base_uri": "https://localhost:8080/"
    },
    "executionInfo": {
     "elapsed": 9,
     "status": "ok",
     "timestamp": 1743579430795,
     "user": {
      "displayName": "Kim InSeop",
      "userId": "13965062148001194946"
     },
     "user_tz": -540
    },
    "id": "WDKsBVj7bmEY",
    "outputId": "a1cd5941-98f9-4f5f-dbe7-7b80c883a615"
   },
   "outputs": [
    {
     "name": "stdout",
     "output_type": "stream",
     "text": [
      "정렬 전: [1, 2, 3, 4, 5]\n",
      "정렬 후: [5, 4, 3, 2, 1]\n"
     ]
    }
   ],
   "source": [
    "numbers = [1, 2, 3, 4, 5]\n",
    "print(f'정렬 전: {numbers}')\n",
    "\n",
    "numbers.reverse()\n",
    "print(f'정렬 후: {numbers}')"
   ]
  },
  {
   "cell_type": "markdown",
   "id": "918a3d37",
   "metadata": {
    "id": "918a3d37"
   },
   "source": [
    "### ***6. 리스트 복사***\n",
    "### `x.copy()`\n",
    "- x: 리스트명\n",
    "- 리스트 데이터 타입은 복사할 때 메모리도 함께 복사됨"
   ]
  },
  {
   "cell_type": "code",
   "execution_count": 71,
   "id": "a15daa3b-eef9-44de-9e14-a3a756220b38",
   "metadata": {},
   "outputs": [
    {
     "name": "stdout",
     "output_type": "stream",
     "text": [
      "[1, 2, 3]\n",
      "[1, 2, 3, 4]\n"
     ]
    }
   ],
   "source": [
    "data = [1, 2, 3]\n",
    "new_data = data.copy()\n",
    "new_data.append(4)\n",
    "\n",
    "print(data)\n",
    "print(new_data)"
   ]
  },
  {
   "cell_type": "markdown",
   "id": "98eec573-33f2-4475-84c2-8c1fff37bb1e",
   "metadata": {},
   "source": [
    "**참조복사**"
   ]
  },
  {
   "cell_type": "code",
   "execution_count": 16,
   "id": "b1908594",
   "metadata": {
    "colab": {
     "base_uri": "https://localhost:8080/"
    },
    "executionInfo": {
     "elapsed": 6,
     "status": "ok",
     "timestamp": 1743579706031,
     "user": {
      "displayName": "Kim InSeop",
      "userId": "13965062148001194946"
     },
     "user_tz": -540
    },
    "id": "b1908594",
    "outputId": "ed2f8f1b-69de-4921-af8c-b8bd1bba6bdc"
   },
   "outputs": [
    {
     "name": "stdout",
     "output_type": "stream",
     "text": [
      "[1, 2, 3, 4]\n",
      "[1, 2, 3, 4]\n"
     ]
    }
   ],
   "source": [
    "data = [1, 2, 3]\n",
    "new_data = data\n",
    "new_data.append(4)\n",
    "\n",
    "print(data)\n",
    "print(new_data)"
   ]
  },
  {
   "cell_type": "markdown",
   "id": "b81f51a8-7365-45e7-af96-94d514dfb1cd",
   "metadata": {},
   "source": [
    "### ***7. 리스트 확장***\n",
    "### `x.extend(a)`\n",
    "- x: 값을 추가할 리스트\n",
    "- a: 추가할 값을 가진 리스트"
   ]
  },
  {
   "cell_type": "code",
   "execution_count": 18,
   "id": "adcd0e34-27e0-4652-a443-d6752a5bb6ad",
   "metadata": {},
   "outputs": [
    {
     "name": "stdout",
     "output_type": "stream",
     "text": [
      "['Hanna', 20, True, 5, 2, 4, 3, 1]\n"
     ]
    }
   ],
   "source": [
    "list_1 = ['Hanna', 20, True]\n",
    "list_2 = [5, 2, 4, 3, 1]\n",
    "\n",
    "list_1.extend(list_2)\n",
    "print(list_1)"
   ]
  },
  {
   "cell_type": "markdown",
   "id": "e8042659-4372-4fec-a626-77c7b67df8d3",
   "metadata": {},
   "source": [
    "### ***8. 중복값 제거***\n",
    "### `set(x)`\n",
    "- x: 리스트명\n",
    "- 집합(set)은 중복을 허용하지 않는다는 점을 응용"
   ]
  },
  {
   "cell_type": "code",
   "execution_count": 75,
   "id": "ce8edf45-def1-407c-b03a-f9461a6a0aee",
   "metadata": {},
   "outputs": [
    {
     "name": "stdout",
     "output_type": "stream",
     "text": [
      "{1, 2, 3}\n",
      "<class 'set'>\n"
     ]
    }
   ],
   "source": [
    "data = [1, 2, 3, 3, 3, 3]\n",
    "set_data = set(data)\n",
    "print(set_data)\n",
    "print(type(set_data))"
   ]
  }
 ],
 "metadata": {
  "colab": {
   "provenance": []
  },
  "kernelspec": {
   "display_name": "Python 3 (ipykernel)",
   "language": "python",
   "name": "python3"
  },
  "language_info": {
   "codemirror_mode": {
    "name": "ipython",
    "version": 3
   },
   "file_extension": ".py",
   "mimetype": "text/x-python",
   "name": "python",
   "nbconvert_exporter": "python",
   "pygments_lexer": "ipython3",
   "version": "3.13.5"
  }
 },
 "nbformat": 4,
 "nbformat_minor": 5
}
