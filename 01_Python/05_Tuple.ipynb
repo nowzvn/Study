{
 "cells": [
  {
   "cell_type": "markdown",
   "id": "cb086571",
   "metadata": {
    "id": "cb086571"
   },
   "source": [
    "# 05_튜플 (Tuple)"
   ]
  },
  {
   "cell_type": "markdown",
   "id": "76b3ad54",
   "metadata": {
    "id": "76b3ad54"
   },
   "source": [
    "## **(1) 튜플의 주요 특징**\n",
    "- () 괄호로 생성\n",
    "- 리스트와 비슷하나 읽기 전용, <u>불변(Immutable)</u> 데이터 타입\n",
    "- 저장 순서를 유지하며, 중복을 허용함"
   ]
  },
  {
   "cell_type": "markdown",
   "id": "4b0ebf56",
   "metadata": {
    "id": "4b0ebf56"
   },
   "source": [
    "## **(2) 튜플 생성 및 기본 사용법**\n",
    "**튜플 생성**"
   ]
  },
  {
   "cell_type": "code",
   "execution_count": 1,
   "id": "cf6f7f8b",
   "metadata": {
    "id": "cf6f7f8b"
   },
   "outputs": [
    {
     "name": "stdout",
     "output_type": "stream",
     "text": [
      "(1, 2, 3, 4, 5)\n",
      "(1, 'hello', 3.14, [2, 4, 6], {'key': 'value'})\n"
     ]
    }
   ],
   "source": [
    "# 빈 튜플 생성\n",
    "empty_tuple = ()\n",
    "\n",
    "# 값 있는 튜플 생성\n",
    "numbers = (1, 2, 3, 4, 5)\n",
    "mixed = (1, \"hello\", 3.14, [2, 4, 6], {\"key\":\"value\"})\n",
    "\n",
    "print(numbers)\n",
    "print(mixed)"
   ]
  },
  {
   "cell_type": "markdown",
   "id": "011059f6",
   "metadata": {
    "id": "011059f6"
   },
   "source": [
    "**튜플 인덱싱과 슬라이싱**"
   ]
  },
  {
   "cell_type": "code",
   "execution_count": 2,
   "id": "0f39d7f4",
   "metadata": {
    "id": "0f39d7f4"
   },
   "outputs": [
    {
     "name": "stdout",
     "output_type": "stream",
     "text": [
      "apple\n",
      "date\n",
      "('apple', 'banana')\n",
      "('date', 'cherry', 'banana', 'apple')\n"
     ]
    }
   ],
   "source": [
    "fruits = (\"apple\", \"banana\", \"cherry\", \"date\")\n",
    "\n",
    "# 인덱싱\n",
    "print(fruits[0])\n",
    "print(fruits[-1])\n",
    "\n",
    "# 슬라이싱\n",
    "print(fruits[:2])\n",
    "print(fruits[::-1])"
   ]
  },
  {
   "cell_type": "markdown",
   "id": "4c60717f",
   "metadata": {
    "id": "4c60717f"
   },
   "source": [
    "**튜플 요소 반복**"
   ]
  },
  {
   "cell_type": "code",
   "execution_count": 3,
   "id": "37582dbc",
   "metadata": {
    "id": "37582dbc"
   },
   "outputs": [
    {
     "name": "stdout",
     "output_type": "stream",
     "text": [
      "apple\n",
      "banana\n",
      "cherry\n"
     ]
    }
   ],
   "source": [
    "fruits = (\"apple\", \"banana\", \"cherry\")\n",
    "\n",
    "for fruit in fruits:\n",
    "    print(fruit)"
   ]
  },
  {
   "cell_type": "markdown",
   "id": "f4a9a981",
   "metadata": {
    "id": "f4a9a981"
   },
   "source": [
    "## **(3) 튜플의 주요 메서드**\n",
    "1. 특정 값의 등장 횟수 반환: `count()`\n",
    "2. 특정 값의 인덱스 반환: `index()`\n",
    "3. 튜플의 요소를 여러 변수에 할당 (튜플 언패킹 (unpacking))\n",
    "4. 튜플 결합과 반복"
   ]
  },
  {
   "cell_type": "markdown",
   "id": "500506dc",
   "metadata": {},
   "source": [
    "### ***1. 특정 값의 등장 횟수 반환***\n",
    "### **`x.count(v)`**\n",
    "- x: 튜플명\n",
    "- v: 찾을 값"
   ]
  },
  {
   "cell_type": "code",
   "execution_count": 5,
   "id": "027e7ef7",
   "metadata": {
    "id": "027e7ef7"
   },
   "outputs": [
    {
     "data": {
      "text/plain": [
       "3"
      ]
     },
     "execution_count": 5,
     "metadata": {},
     "output_type": "execute_result"
    }
   ],
   "source": [
    "numbers = (1, 2, 3, 2, 4, 2)\n",
    "numbers.count(2)"
   ]
  },
  {
   "cell_type": "markdown",
   "id": "061d3ff2",
   "metadata": {
    "id": "061d3ff2"
   },
   "source": [
    "### ***2. 특정 값의 인덱스 반환***\n",
    "### **`x.index(v)`**\n",
    "- x: 튜플명\n",
    "- v: 찾을 값"
   ]
  },
  {
   "cell_type": "code",
   "execution_count": 6,
   "id": "660709b9",
   "metadata": {
    "id": "660709b9"
   },
   "outputs": [
    {
     "data": {
      "text/plain": [
       "1"
      ]
     },
     "execution_count": 6,
     "metadata": {},
     "output_type": "execute_result"
    }
   ],
   "source": [
    "numbers = (1, 2, 3, 2, 4, 2)\n",
    "numbers.index(2)"
   ]
  },
  {
   "cell_type": "markdown",
   "id": "39a7da89",
   "metadata": {
    "id": "39a7da89"
   },
   "source": [
    "### ***3. 튜플의 요소를 여러 변수에 할당***\n",
    "- 튜플 언패킹 (unpacking)"
   ]
  },
  {
   "cell_type": "code",
   "execution_count": 8,
   "id": "9ccaf676",
   "metadata": {
    "id": "9ccaf676"
   },
   "outputs": [
    {
     "name": "stdout",
     "output_type": "stream",
     "text": [
      "Alice 25 New York\n"
     ]
    }
   ],
   "source": [
    "person = (\"Alice\", 25, \"New York\")\n",
    "\n",
    "# 튜플 언패킹\n",
    "name, age, city = person\n",
    "print(name, age, city)"
   ]
  },
  {
   "cell_type": "markdown",
   "id": "13af702d",
   "metadata": {
    "id": "13af702d"
   },
   "source": [
    "### ***4. 튜플의 결합과 반복***"
   ]
  },
  {
   "cell_type": "code",
   "execution_count": 9,
   "id": "efc29d8c",
   "metadata": {
    "id": "efc29d8c"
   },
   "outputs": [
    {
     "name": "stdout",
     "output_type": "stream",
     "text": [
      "(1, 2, 3, 4, 5, 6)\n",
      "(1, 2, 3, 1, 2, 3, 1, 2, 3)\n"
     ]
    }
   ],
   "source": [
    "# 결합\n",
    "tuple1 = (1, 2, 3)\n",
    "tuple2 = (4, 5, 6)\n",
    "combined = tuple1 + tuple2\n",
    "print(combined)\n",
    "\n",
    "# 반복\n",
    "repeated = tuple1 * 3\n",
    "print(repeated)"
   ]
  }
 ],
 "metadata": {
  "colab": {
   "provenance": []
  },
  "kernelspec": {
   "display_name": "Python 3 (ipykernel)",
   "language": "python",
   "name": "python3"
  },
  "language_info": {
   "codemirror_mode": {
    "name": "ipython",
    "version": 3
   },
   "file_extension": ".py",
   "mimetype": "text/x-python",
   "name": "python",
   "nbconvert_exporter": "python",
   "pygments_lexer": "ipython3",
   "version": "3.13.5"
  }
 },
 "nbformat": 4,
 "nbformat_minor": 5
}
