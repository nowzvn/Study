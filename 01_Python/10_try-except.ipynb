{
 "cells": [
  {
   "cell_type": "markdown",
   "id": "cdfdf8e9",
   "metadata": {
    "id": "cdfdf8e9"
   },
   "source": [
    "# 10_예외 처리 (try-except)"
   ]
  },
  {
   "cell_type": "markdown",
   "id": "247392b1",
   "metadata": {
    "id": "247392b1"
   },
   "source": [
    "## (1) **try-except 기본 구조**\n",
    "\n",
    "```python\n",
    "try:\n",
    "    실행할 코드\n",
    "except 예외종류:\n",
    "    예외 발생 시 실행할 코드\n",
    "```\n",
    "- try: 오류가 발생할 가능성이 있는 코드를 작성.\n",
    "- except: 오류 발생 시 실행할 코드를 작성."
   ]
  },
  {
   "cell_type": "code",
   "execution_count": 1,
   "id": "1e77cd51",
   "metadata": {
    "colab": {
     "base_uri": "https://localhost:8080/"
    },
    "executionInfo": {
     "elapsed": 2912,
     "status": "ok",
     "timestamp": 1743660181944,
     "user": {
      "displayName": "Kim InSeop",
      "userId": "13965062148001194946"
     },
     "user_tz": -540
    },
    "id": "1e77cd51",
    "outputId": "7393684f-e118-4976-e64c-048cbed3de73"
   },
   "outputs": [
    {
     "name": "stdin",
     "output_type": "stream",
     "text": [
      "숫자를 입력하세요:  a\n"
     ]
    },
    {
     "name": "stdout",
     "output_type": "stream",
     "text": [
      "올바른 숫자를 입력해주세요.\n"
     ]
    },
    {
     "name": "stdout",
     "output_type": "stream",
     "text": [
      "올바른 숫자를 입력해주세요.\n"
     ]
    }
   ],
   "source": [
    "try:\n",
    "    num = int(input(\"숫자를 입력하세요: \"))\n",
    "    print(f\"입력한 숫자는 {num}입니다.\")\n",
    "except:\n",
    "    print(\"올바른 숫자를 입력해주세요.\")"
   ]
  },
  {
   "cell_type": "markdown",
   "id": "1c7c91e3",
   "metadata": {
    "id": "1c7c91e3"
   },
   "source": [
    "## **(2) 다중 except**\n",
    "- 에러 종류에 따른 처리가 가능"
   ]
  },
  {
   "cell_type": "markdown",
   "id": "5366b68b",
   "metadata": {
    "id": "5366b68b"
   },
   "source": [
    "**에러 종류**\n",
    "1. `ValueError`: 잘못된 값 입력\n",
    "2. `ZeroDivisionError`: 0으로 나누려고 할 때 발생\n",
    "3. `FileNotFoundError`: 파일이 존재하지 않을 때 발생\n",
    "4. `KeyError`: 딕셔너리에서 존재하지 않는 키를 참조할 때 발생\n",
    "5. `IndexError`: 리스트의 잘못된 인덱스를 참조할 때 발생"
   ]
  },
  {
   "cell_type": "code",
   "execution_count": 4,
   "id": "9dab5ce8",
   "metadata": {
    "colab": {
     "base_uri": "https://localhost:8080/"
    },
    "executionInfo": {
     "elapsed": 5861,
     "status": "ok",
     "timestamp": 1743660338068,
     "user": {
      "displayName": "Kim InSeop",
      "userId": "13965062148001194946"
     },
     "user_tz": -540
    },
    "id": "9dab5ce8",
    "outputId": "d1b939b3-0a5d-42a9-fd07-b237303550fe"
   },
   "outputs": [
    {
     "name": "stdout",
     "output_type": "stream",
     "text": [
      "숫자를 입력하세요:  a\n"
     ]
    },
    {
     "name": "stdout",
     "output_type": "stream",
     "text": [
      "숫자를 입력해야 합니다.\n"
     ]
    }
   ],
   "source": [
    "try:\n",
    "    x = int(input(\"숫자를 입력하세요: \"))\n",
    "    result = 10 / x\n",
    "    print(f\"결과: {result}\")\n",
    "except ValueError:\n",
    "    print(\"숫자를 입력해야 합니다.\")"
   ]
  },
  {
   "cell_type": "code",
   "execution_count": 3,
   "id": "f281b8f9-9808-46b6-b23d-c9f5137baea4",
   "metadata": {},
   "outputs": [
    {
     "name": "stdout",
     "output_type": "stream",
     "text": [
      "숫자를 입력하세요:  0\n"
     ]
    },
    {
     "name": "stdout",
     "output_type": "stream",
     "text": [
      "0으로 나눌 수 없습니다.\n"
     ]
    }
   ],
   "source": [
    "try:\n",
    "    x = int(input(\"숫자를 입력하세요: \"))\n",
    "    result = 10 / x\n",
    "    print(f\"결과: {result}\")\n",
    "except ZeroDivisionError:\n",
    "    print(\"0으로 나눌 수 없습니다.\")"
   ]
  }
 ],
 "metadata": {
  "colab": {
   "provenance": []
  },
  "kernelspec": {
   "display_name": "Python 3 (ipykernel)",
   "language": "python",
   "name": "python3"
  },
  "language_info": {
   "codemirror_mode": {
    "name": "ipython",
    "version": 3
   },
   "file_extension": ".py",
   "mimetype": "text/x-python",
   "name": "python",
   "nbconvert_exporter": "python",
   "pygments_lexer": "ipython3",
   "version": "3.13.5"
  }
 },
 "nbformat": 4,
 "nbformat_minor": 5
}
