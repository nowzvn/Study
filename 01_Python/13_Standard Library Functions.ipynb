{
 "cells": [
  {
   "cell_type": "markdown",
   "id": "1d990e43",
   "metadata": {
    "id": "1d990e43"
   },
   "source": [
    "# 13_외장 함수 (Standard Library Functions)\n",
    "- 사용하기 위해 모듈을 **`import`** 해야 함"
   ]
  },
  {
   "cell_type": "markdown",
   "id": "ca7337e3-3398-471f-aa07-6c1f58c237e2",
   "metadata": {},
   "source": [
    "## 자주 사용하는 외장 함수 모듈\n",
    "1. 수학 연산: `math`\n",
    "2. 난수 생성: `random`\n",
    "3. 날짜, 시간: `datetime`\n",
    "4. 운영 체제 작업: `os`\n",
    "5. 파이썬 인터프리터 관련: `sys`\n",
    "6. Json 데이터: `json`"
   ]
  },
  {
   "cell_type": "markdown",
   "id": "e12ba739",
   "metadata": {
    "id": "e12ba739"
   },
   "source": [
    "### ***1. 수학 연산***\n",
    "### `math`"
   ]
  },
  {
   "cell_type": "code",
   "execution_count": 1,
   "id": "cba866df",
   "metadata": {
    "id": "cba866df"
   },
   "outputs": [],
   "source": [
    "import math"
   ]
  },
  {
   "cell_type": "markdown",
   "id": "5ca789c3-c41d-4833-8b6b-1f462b3afb4d",
   "metadata": {},
   "source": [
    "**제곱근**"
   ]
  },
  {
   "cell_type": "code",
   "execution_count": 2,
   "id": "1d64cc32-e02d-4d98-9116-2973d520c481",
   "metadata": {},
   "outputs": [
    {
     "data": {
      "text/plain": [
       "4.0"
      ]
     },
     "execution_count": 2,
     "metadata": {},
     "output_type": "execute_result"
    }
   ],
   "source": [
    "math.sqrt(16)"
   ]
  },
  {
   "cell_type": "markdown",
   "id": "28bfa1fc-0def-4c23-9aac-9300414d8bba",
   "metadata": {},
   "source": [
    "**Pi**"
   ]
  },
  {
   "cell_type": "code",
   "execution_count": 3,
   "id": "bd02fde6-516c-4fce-a3aa-e04d97db0685",
   "metadata": {},
   "outputs": [
    {
     "data": {
      "text/plain": [
       "3.141592653589793"
      ]
     },
     "execution_count": 3,
     "metadata": {},
     "output_type": "execute_result"
    }
   ],
   "source": [
    "math.pi"
   ]
  },
  {
   "cell_type": "markdown",
   "id": "4c377d88",
   "metadata": {
    "id": "4c377d88"
   },
   "source": [
    "### ***2. 난수 생성***\n",
    "### `random`"
   ]
  },
  {
   "cell_type": "code",
   "execution_count": 4,
   "id": "c12e2e05",
   "metadata": {
    "colab": {
     "base_uri": "https://localhost:8080/"
    },
    "executionInfo": {
     "elapsed": 15,
     "status": "ok",
     "timestamp": 1743661136861,
     "user": {
      "displayName": "Kim InSeop",
      "userId": "13965062148001194946"
     },
     "user_tz": -540
    },
    "id": "c12e2e05",
    "outputId": "ef65ea5b-cb47-4df5-f1f2-64bed53c401f"
   },
   "outputs": [],
   "source": [
    "import random"
   ]
  },
  {
   "cell_type": "markdown",
   "id": "463f2f6f-38e9-4a04-8973-a62f6fc1258b",
   "metadata": {},
   "source": [
    "**1부터 10 사이의 정수 난수 생성**"
   ]
  },
  {
   "cell_type": "code",
   "execution_count": 5,
   "id": "4dda8a8c-dcd1-4879-b68a-baab795feef5",
   "metadata": {},
   "outputs": [
    {
     "data": {
      "text/plain": [
       "5"
      ]
     },
     "execution_count": 5,
     "metadata": {},
     "output_type": "execute_result"
    }
   ],
   "source": [
    "random.randint(1, 10)"
   ]
  },
  {
   "cell_type": "markdown",
   "id": "9f346437-6c3e-44a6-8e91-ec435d66cff1",
   "metadata": {},
   "source": [
    "**리스트에서 랜덤 선택**"
   ]
  },
  {
   "cell_type": "code",
   "execution_count": 6,
   "id": "LqX_DapjTQ9R",
   "metadata": {
    "colab": {
     "base_uri": "https://localhost:8080/"
    },
    "executionInfo": {
     "elapsed": 11,
     "status": "ok",
     "timestamp": 1743661137595,
     "user": {
      "displayName": "Kim InSeop",
      "userId": "13965062148001194946"
     },
     "user_tz": -540
    },
    "id": "LqX_DapjTQ9R",
    "outputId": "d80e6014-7055-48a5-8796-24504c978023"
   },
   "outputs": [
    {
     "data": {
      "text/plain": [
       "2"
      ]
     },
     "execution_count": 6,
     "metadata": {},
     "output_type": "execute_result"
    }
   ],
   "source": [
    "random.choice([1, 2, 3, 4, 5])"
   ]
  },
  {
   "cell_type": "markdown",
   "id": "031e51dc",
   "metadata": {
    "id": "031e51dc"
   },
   "source": [
    "### ***3. 날짜, 시간***\n",
    "### `datetime`"
   ]
  },
  {
   "cell_type": "code",
   "execution_count": 7,
   "id": "8b5b96ee",
   "metadata": {
    "colab": {
     "base_uri": "https://localhost:8080/"
    },
    "executionInfo": {
     "elapsed": 12,
     "status": "ok",
     "timestamp": 1743661217762,
     "user": {
      "displayName": "Kim InSeop",
      "userId": "13965062148001194946"
     },
     "user_tz": -540
    },
    "id": "8b5b96ee",
    "outputId": "ead3079d-e0fd-4992-8c94-697168c571dd"
   },
   "outputs": [],
   "source": [
    "from datetime import datetime"
   ]
  },
  {
   "cell_type": "markdown",
   "id": "d1555d2c-a519-4155-8209-67a88506d78a",
   "metadata": {},
   "source": [
    "**현재 날짜와 시간**"
   ]
  },
  {
   "cell_type": "code",
   "execution_count": 8,
   "id": "a2479b68-f8d5-4524-b264-113ae4b80c08",
   "metadata": {},
   "outputs": [
    {
     "name": "stdout",
     "output_type": "stream",
     "text": [
      "2025-07-27 02:37:04.366570\n"
     ]
    }
   ],
   "source": [
    "now = datetime.now()\n",
    "print(now)"
   ]
  },
  {
   "cell_type": "markdown",
   "id": "2c1b122c-5991-4740-8e8b-ea8d11339b3d",
   "metadata": {},
   "source": [
    "**포맷팅**"
   ]
  },
  {
   "cell_type": "code",
   "execution_count": 9,
   "id": "c8d0527c-9e9c-48de-8a3f-a63a6fcb7dd7",
   "metadata": {},
   "outputs": [
    {
     "data": {
      "text/plain": [
       "'2025/07/27, 02:37:04'"
      ]
     },
     "execution_count": 9,
     "metadata": {},
     "output_type": "execute_result"
    }
   ],
   "source": [
    "now.strftime(\"%Y/%m/%d, %H:%M:%S\")"
   ]
  },
  {
   "cell_type": "markdown",
   "id": "f5f3f4de",
   "metadata": {
    "id": "f5f3f4de"
   },
   "source": [
    "### ***4. 운영 체제 작업***\n",
    "### `os`"
   ]
  },
  {
   "cell_type": "code",
   "execution_count": 10,
   "id": "fb7bb473",
   "metadata": {
    "colab": {
     "base_uri": "https://localhost:8080/"
    },
    "executionInfo": {
     "elapsed": 4,
     "status": "ok",
     "timestamp": 1743661556505,
     "user": {
      "displayName": "Kim InSeop",
      "userId": "13965062148001194946"
     },
     "user_tz": -540
    },
    "id": "fb7bb473",
    "outputId": "3ee767f4-5eeb-469f-f0d6-5c3c6baeb3de"
   },
   "outputs": [],
   "source": [
    "import os"
   ]
  },
  {
   "cell_type": "markdown",
   "id": "8c77a3f4-aef5-400f-b93f-6440aa737d41",
   "metadata": {},
   "source": [
    "**현재 작업 디렉터리 확인**"
   ]
  },
  {
   "cell_type": "code",
   "execution_count": 11,
   "id": "393cc2a0-d4e9-4ac1-bba2-e13cb24f6023",
   "metadata": {},
   "outputs": [
    {
     "data": {
      "text/plain": [
       "'/Applications/Data/Study/01_Python'"
      ]
     },
     "execution_count": 11,
     "metadata": {},
     "output_type": "execute_result"
    }
   ],
   "source": [
    "os.getcwd()"
   ]
  },
  {
   "cell_type": "markdown",
   "id": "9d61f1eb-ac7a-4999-b304-94ee95af3a62",
   "metadata": {},
   "source": [
    "**새로운 디렉터리 생성**"
   ]
  },
  {
   "cell_type": "code",
   "execution_count": 12,
   "id": "a91a0cac-3f45-45a8-987b-172efeb7d43a",
   "metadata": {},
   "outputs": [],
   "source": [
    "# os.mkdir(\"test_folder\")"
   ]
  },
  {
   "cell_type": "markdown",
   "id": "0a9d5067",
   "metadata": {
    "id": "0a9d5067"
   },
   "source": [
    "### ***5. 파이썬 인터프리터 관련***\n",
    "### `sys`"
   ]
  },
  {
   "cell_type": "code",
   "execution_count": 13,
   "id": "321d3790",
   "metadata": {
    "colab": {
     "base_uri": "https://localhost:8080/"
    },
    "executionInfo": {
     "elapsed": 45,
     "status": "ok",
     "timestamp": 1743661582439,
     "user": {
      "displayName": "Kim InSeop",
      "userId": "13965062148001194946"
     },
     "user_tz": -540
    },
    "id": "321d3790",
    "outputId": "8cc34045-e3a6-4e58-ae8c-be515e21c6f5"
   },
   "outputs": [],
   "source": [
    "import sys"
   ]
  },
  {
   "cell_type": "markdown",
   "id": "a7d36c83-1514-46c1-81cb-11187d10087d",
   "metadata": {},
   "source": [
    "**파이썬 버전 정보**"
   ]
  },
  {
   "cell_type": "code",
   "execution_count": 14,
   "id": "cb14959e-5f21-4791-9512-5f83a1f00e2d",
   "metadata": {},
   "outputs": [
    {
     "data": {
      "text/plain": [
       "'3.13.5 (main, Jun 11 2025, 15:36:57) [Clang 17.0.0 (clang-1700.0.13.3)]'"
      ]
     },
     "execution_count": 14,
     "metadata": {},
     "output_type": "execute_result"
    }
   ],
   "source": [
    "sys.version"
   ]
  },
  {
   "cell_type": "markdown",
   "id": "ad7e4c88-3f12-4185-a8a5-72f0177d5cdb",
   "metadata": {},
   "source": [
    "**모듈 검색 경로**"
   ]
  },
  {
   "cell_type": "code",
   "execution_count": 15,
   "id": "d9c11099-8102-4e58-b3d1-5fc8868149a9",
   "metadata": {},
   "outputs": [
    {
     "data": {
      "text/plain": [
       "['/opt/homebrew/Cellar/python@3.13/3.13.5/Frameworks/Python.framework/Versions/3.13/lib/python313.zip',\n",
       " '/opt/homebrew/Cellar/python@3.13/3.13.5/Frameworks/Python.framework/Versions/3.13/lib/python3.13',\n",
       " '/opt/homebrew/Cellar/python@3.13/3.13.5/Frameworks/Python.framework/Versions/3.13/lib/python3.13/lib-dynload',\n",
       " '',\n",
       " '/Applications/Data/Study/.venv/lib/python3.13/site-packages']"
      ]
     },
     "execution_count": 15,
     "metadata": {},
     "output_type": "execute_result"
    }
   ],
   "source": [
    "sys.path"
   ]
  },
  {
   "cell_type": "markdown",
   "id": "b0bcd83d",
   "metadata": {
    "id": "b0bcd83d"
   },
   "source": [
    "### ***6. Json 데이터***\n",
    "### `json`"
   ]
  },
  {
   "cell_type": "code",
   "execution_count": 16,
   "id": "da7c1b3c",
   "metadata": {
    "colab": {
     "base_uri": "https://localhost:8080/"
    },
    "executionInfo": {
     "elapsed": 3,
     "status": "ok",
     "timestamp": 1743661655627,
     "user": {
      "displayName": "Kim InSeop",
      "userId": "13965062148001194946"
     },
     "user_tz": -540
    },
    "id": "da7c1b3c",
    "outputId": "9b1ea62b-2561-40c1-84af-5445695287ef"
   },
   "outputs": [],
   "source": [
    "import json"
   ]
  },
  {
   "cell_type": "code",
   "execution_count": 17,
   "id": "c5cb937a-5479-430a-8711-d7b730bd5f8e",
   "metadata": {},
   "outputs": [
    {
     "name": "stdout",
     "output_type": "stream",
     "text": [
      "<class 'dict'>\n"
     ]
    }
   ],
   "source": [
    "data = {\"name\": \"hanna\", \"age\": 20}\n",
    "print(type(data))"
   ]
  },
  {
   "cell_type": "markdown",
   "id": "aa5203b0-3d39-4c83-9366-c0165234e630",
   "metadata": {},
   "source": [
    "**JSON 문자열로 변환**"
   ]
  },
  {
   "cell_type": "code",
   "execution_count": 18,
   "id": "876e7edc-c3e6-48ed-ba68-e6b583595809",
   "metadata": {},
   "outputs": [
    {
     "name": "stdout",
     "output_type": "stream",
     "text": [
      "{\"name\": \"hanna\", \"age\": 20}\n",
      "<class 'str'>\n"
     ]
    }
   ],
   "source": [
    "json_data = json.dumps(data)\n",
    "print(json_data)\n",
    "print(type(json_data))"
   ]
  }
 ],
 "metadata": {
  "colab": {
   "provenance": []
  },
  "kernelspec": {
   "display_name": "Python 3 (ipykernel)",
   "language": "python",
   "name": "python3"
  },
  "language_info": {
   "codemirror_mode": {
    "name": "ipython",
    "version": 3
   },
   "file_extension": ".py",
   "mimetype": "text/x-python",
   "name": "python",
   "nbconvert_exporter": "python",
   "pygments_lexer": "ipython3",
   "version": "3.13.5"
  }
 },
 "nbformat": 4,
 "nbformat_minor": 5
}
