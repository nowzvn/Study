{
 "cells": [
  {
   "cell_type": "markdown",
   "id": "e9386fad",
   "metadata": {
    "id": "e9386fad"
   },
   "source": [
    "# 08_조건문 (if)"
   ]
  },
  {
   "cell_type": "markdown",
   "id": "8f8c9347",
   "metadata": {
    "id": "8f8c9347"
   },
   "source": [
    "## **(1) 조건문의 구조**\n",
    "- **`if`**: 조건이 참이면 해당 블록 실행\n",
    "- **`elif`**: 위 조건이 모두 거짓일 때 새로운 조건을 검사\n",
    "- **`else`**: 모든 조건이 거짓일 때 실행\n",
    "```python\n",
    "if 조건:\n",
    "    실행할 코드\n",
    "elif 조건:\n",
    "    실행할 코드\n",
    "else:\n",
    "    실행할 코드\n",
    "```"
   ]
  },
  {
   "cell_type": "markdown",
   "id": "8d8fcea6",
   "metadata": {
    "id": "8d8fcea6"
   },
   "source": [
    "## **(2) 조건문 예제**\n",
    "**기본 사용법**"
   ]
  },
  {
   "cell_type": "code",
   "execution_count": 12,
   "id": "f0066bcb",
   "metadata": {
    "colab": {
     "base_uri": "https://localhost:8080/"
    },
    "executionInfo": {
     "elapsed": 5,
     "status": "ok",
     "timestamp": 1744088367827,
     "user": {
      "displayName": "Kim InSeop",
      "userId": "13965062148001194946"
     },
     "user_tz": -540
    },
    "id": "f0066bcb",
    "outputId": "26fdb4ef-054e-48b7-bcd6-9e60c7999bc3"
   },
   "outputs": [
    {
     "name": "stdout",
     "output_type": "stream",
     "text": [
      "x는 5보다 큽니다.\n"
     ]
    }
   ],
   "source": [
    "x = 10\n",
    "\n",
    "if x > 5:\n",
    "    print(\"x는 5보다 큽니다.\")\n",
    "elif x == 5:\n",
    "    print(\"x는 5입니다.\")\n",
    "else:\n",
    "    print(\"x는 5보다 작습니다.\")"
   ]
  },
  {
   "cell_type": "code",
   "execution_count": 13,
   "id": "7fa6a957-7b8b-4f4f-ad20-abaf485a69f9",
   "metadata": {},
   "outputs": [
    {
     "name": "stdout",
     "output_type": "stream",
     "text": [
      "성인입니다.\n"
     ]
    }
   ],
   "source": [
    "age = 20\n",
    "\n",
    "if age >= 20:\n",
    "    print(\"성인입니다.\")\n",
    "elif age >= 13:\n",
    "    print(\"청소년입니다.\")\n",
    "else:\n",
    "    print(\"어린이입니다.\")"
   ]
  },
  {
   "cell_type": "markdown",
   "id": "f5b4e3b1",
   "metadata": {
    "id": "f5b4e3b1"
   },
   "source": [
    "## **(3) `and`, `or` 연산자**\n",
    "- 조건이 2가지 이상인 경우에 사용"
   ]
  },
  {
   "cell_type": "code",
   "execution_count": 14,
   "id": "e4b6b531",
   "metadata": {
    "id": "e4b6b531"
   },
   "outputs": [
    {
     "name": "stdout",
     "output_type": "stream",
     "text": [
      "기차를 타세요.\n"
     ]
    }
   ],
   "source": [
    "money = 100000\n",
    "airplane = False\n",
    "\n",
    "if money >= 100000 and airplane:\n",
    "    print(\"비행기를 타세요.\")\n",
    "elif money >= 100000 or airplane:\n",
    "    print(\"기차를 타세요.\")"
   ]
  },
  {
   "cell_type": "code",
   "execution_count": 15,
   "id": "a51bd46a-540b-4a85-bdaa-322124bcb4ae",
   "metadata": {},
   "outputs": [
    {
     "name": "stdout",
     "output_type": "stream",
     "text": [
      "합격입니다.\n"
     ]
    }
   ],
   "source": [
    "attendance_rate = 85\n",
    "exam_score = 75\n",
    "\n",
    "if attendance_rate >= 80 and exam_score >= 70:\n",
    "    print(\"합격입니다.\")\n",
    "elif attendance_rate >= 80 or exam_score >= 70:\n",
    "    print(\"조건부 합격입니다.\")\n",
    "else:\n",
    "    print(\"불합격입니다.\")"
   ]
  },
  {
   "cell_type": "markdown",
   "id": "4fb27081",
   "metadata": {
    "id": "4fb27081"
   },
   "source": [
    "## **(4) 비교연산자**\n",
    "| 표현                        | 파이썬 코드  |\n",
    "|---------------------------|-------------|\n",
    "| a와 b가 같다              | `a == b`    |\n",
    "| a와 b가 같지 않다         | `a != b`    |\n",
    "| a가 b보다 작다            | `a < b`     |\n",
    "| a가 b보다 작거나 같다     | `a <= b`    |\n",
    "| a가 b보다 크다            | `a > b`     |\n",
    "| a가 b보다 크거나 같다     | `a >= b`    |\n",
    "\n"
   ]
  },
  {
   "cell_type": "code",
   "execution_count": 16,
   "id": "57ae211e",
   "metadata": {
    "id": "57ae211e"
   },
   "outputs": [
    {
     "name": "stdout",
     "output_type": "stream",
     "text": [
      "False\n",
      "True\n",
      "True\n",
      "True\n",
      "False\n",
      "False\n"
     ]
    }
   ],
   "source": [
    "a = 1\n",
    "b = 3\n",
    "\n",
    "print(a == b)  # False\n",
    "print(a != b)  # True\n",
    "print(a < b)   # True\n",
    "print(a <= b)  # True\n",
    "print(a > b)   # False\n",
    "print(a >= b)  # False"
   ]
  }
 ],
 "metadata": {
  "colab": {
   "provenance": []
  },
  "kernelspec": {
   "display_name": "Python 3 (ipykernel)",
   "language": "python",
   "name": "python3"
  },
  "language_info": {
   "codemirror_mode": {
    "name": "ipython",
    "version": 3
   },
   "file_extension": ".py",
   "mimetype": "text/x-python",
   "name": "python",
   "nbconvert_exporter": "python",
   "pygments_lexer": "ipython3",
   "version": "3.13.5"
  }
 },
 "nbformat": 4,
 "nbformat_minor": 5
}
