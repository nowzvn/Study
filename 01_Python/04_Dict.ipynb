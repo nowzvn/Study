{
 "cells": [
  {
   "cell_type": "markdown",
   "id": "dccc892e",
   "metadata": {
    "id": "dccc892e"
   },
   "source": [
    "# 04_딕셔너리 (Dict)"
   ]
  },
  {
   "cell_type": "markdown",
   "id": "5545f8ea",
   "metadata": {
    "id": "5545f8ea"
   },
   "source": [
    "## **(1) 딕셔너리의 주요 특징**\n",
    "\n",
    "- { 키 : 값 }의 쌍으로 구성\n",
    "    - {\"name\": \"hanna\", \"age\": 20}\n",
    "    - 인덱스로 접근 불가\n",
    "- 키값은 중복될 수 없음\n",
    "- 딕셔너리는 생성 후 수정, 추가, 삭제가 가능함"
   ]
  },
  {
   "cell_type": "markdown",
   "id": "9a69e687",
   "metadata": {
    "id": "9a69e687"
   },
   "source": [
    "## **(2) 딕셔너리 생성 및 기본 사용법**\n",
    "**딕셔너리 생성**"
   ]
  },
  {
   "cell_type": "code",
   "execution_count": 1,
   "id": "785d2196",
   "metadata": {
    "colab": {
     "base_uri": "https://localhost:8080/"
    },
    "executionInfo": {
     "elapsed": 11,
     "status": "ok",
     "timestamp": 1743581881959,
     "user": {
      "displayName": "Kim InSeop",
      "userId": "13965062148001194946"
     },
     "user_tz": -540
    },
    "id": "785d2196",
    "outputId": "85ee5558-36bc-4f50-f7f8-efb3b4565b68"
   },
   "outputs": [
    {
     "name": "stdout",
     "output_type": "stream",
     "text": [
      "{}\n",
      "{'name': 'hanna', 'age': 20, 'city': 'seoul'}\n"
     ]
    }
   ],
   "source": [
    "# 빈 딕셔너리 생성\n",
    "empty_dict = {}\n",
    "print(empty_dict)\n",
    "\n",
    "# 값 있는 딕셔너리 생성\n",
    "data = {\"name\": \"hanna\", \"age\": 20, \"city\": \"seoul\"}\n",
    "print(data)"
   ]
  },
  {
   "cell_type": "markdown",
   "id": "b25d6de0",
   "metadata": {
    "id": "b25d6de0"
   },
   "source": [
    "**값 접근**"
   ]
  },
  {
   "cell_type": "code",
   "execution_count": 2,
   "id": "e0dc5b89",
   "metadata": {
    "colab": {
     "base_uri": "https://localhost:8080/"
    },
    "executionInfo": {
     "elapsed": 37,
     "status": "ok",
     "timestamp": 1744087743425,
     "user": {
      "displayName": "Kim InSeop",
      "userId": "13965062148001194946"
     },
     "user_tz": -540
    },
    "id": "e0dc5b89",
    "outputId": "c053c611-2008-4a3c-e972-59c4486d2db2"
   },
   "outputs": [
    {
     "name": "stdout",
     "output_type": "stream",
     "text": [
      "이름: hanna\n",
      "나이: 20\n"
     ]
    }
   ],
   "source": [
    "data = {\"name\": \"hanna\", \"age\": 20}\n",
    "\n",
    "# 키로 값 가져오기\n",
    "print(f'이름: {data[\"name\"]}')\n",
    "print(f'나이: {data[\"age\"]}')"
   ]
  },
  {
   "cell_type": "markdown",
   "id": "e1d98752",
   "metadata": {
    "id": "e1d98752"
   },
   "source": [
    "**값 추가**"
   ]
  },
  {
   "cell_type": "code",
   "execution_count": 3,
   "id": "7d4cda41",
   "metadata": {
    "colab": {
     "base_uri": "https://localhost:8080/"
    },
    "executionInfo": {
     "elapsed": 9,
     "status": "ok",
     "timestamp": 1743582025366,
     "user": {
      "displayName": "Kim InSeop",
      "userId": "13965062148001194946"
     },
     "user_tz": -540
    },
    "id": "7d4cda41",
    "outputId": "be2d5914-e16b-4674-a923-df4cb248b1f5"
   },
   "outputs": [
    {
     "name": "stdout",
     "output_type": "stream",
     "text": [
      "{'name': 'hanna', 'age': 20, 'city': 'Seoul'}\n"
     ]
    }
   ],
   "source": [
    "data = {\"name\": \"hanna\", \"age\": 20}\n",
    "\n",
    "# 값 추가\n",
    "data[\"city\"] = \"Seoul\"\n",
    "print(data)"
   ]
  },
  {
   "cell_type": "markdown",
   "id": "2f45e507",
   "metadata": {
    "id": "2f45e507"
   },
   "source": [
    "**값 삭제**\n",
    "- `del dict['key']`\n",
    "- `dict.clear()`"
   ]
  },
  {
   "cell_type": "code",
   "execution_count": 4,
   "id": "5fce1014",
   "metadata": {
    "colab": {
     "base_uri": "https://localhost:8080/"
    },
    "executionInfo": {
     "elapsed": 45,
     "status": "ok",
     "timestamp": 1743582095962,
     "user": {
      "displayName": "Kim InSeop",
      "userId": "13965062148001194946"
     },
     "user_tz": -540
    },
    "id": "5fce1014",
    "outputId": "30726e38-2b87-4469-f178-c1d48afb762a"
   },
   "outputs": [
    {
     "name": "stdout",
     "output_type": "stream",
     "text": [
      "{'name': 'hanna'}\n",
      "{}\n"
     ]
    }
   ],
   "source": [
    "data = {\"name\": \"hanna\", \"age\": 20}\n",
    "\n",
    "# 일부 값 삭제\n",
    "del data[\"age\"]\n",
    "print(data)\n",
    "\n",
    "# 모든 값 삭제\n",
    "data.clear()\n",
    "print(data)"
   ]
  },
  {
   "cell_type": "markdown",
   "id": "5addef8d",
   "metadata": {
    "id": "5addef8d"
   },
   "source": [
    "## **(3) 딕셔너리 주요 메서드**\n",
    "1. 모든 키 반환: `keys()`\n",
    "2. 모든 값 반환: `values()`\n",
    "3. 모든 키, 값 반환: `items()`\n",
    "4. 지정한 키값 반환: `get()`\n",
    "5. 지정한 키값 제거: `pop()`\n",
    "6. 딕셔너리 갱신: `update()`"
   ]
  },
  {
   "cell_type": "markdown",
   "id": "f7b0da68-f732-45c6-846a-613d56c5c1d5",
   "metadata": {},
   "source": [
    "### ***1. 모든 키 반환***\n",
    "### **`dict.keys()`**"
   ]
  },
  {
   "cell_type": "code",
   "execution_count": 5,
   "id": "b65bbc1a",
   "metadata": {
    "colab": {
     "base_uri": "https://localhost:8080/"
    },
    "executionInfo": {
     "elapsed": 10,
     "status": "ok",
     "timestamp": 1743582594611,
     "user": {
      "displayName": "Kim InSeop",
      "userId": "13965062148001194946"
     },
     "user_tz": -540
    },
    "id": "b65bbc1a",
    "outputId": "9ef8c33c-a6b2-41be-f042-0fb2ec4b6f1a"
   },
   "outputs": [
    {
     "name": "stdout",
     "output_type": "stream",
     "text": [
      "dict_keys(['name', 'age', 'city'])\n"
     ]
    }
   ],
   "source": [
    "person = {\"name\": \"Alice\", \"age\": 25, \"city\": \"New York\"}\n",
    "print(person.keys())"
   ]
  },
  {
   "cell_type": "markdown",
   "id": "51d15e8c-ba9a-45ca-b5c7-69641955e130",
   "metadata": {},
   "source": [
    "### ***2. 모든 값 반환***\n",
    "### **`dict.values()`**"
   ]
  },
  {
   "cell_type": "code",
   "execution_count": 51,
   "id": "e583bfa5-709c-44e9-b0b9-cc0f7afe18f3",
   "metadata": {},
   "outputs": [
    {
     "name": "stdout",
     "output_type": "stream",
     "text": [
      "dict_values(['Alice', 25, 'New York'])\n"
     ]
    }
   ],
   "source": [
    "person = {\"name\": \"Alice\", \"age\": 25, \"city\": \"New York\"}\n",
    "print(person.values())"
   ]
  },
  {
   "cell_type": "markdown",
   "id": "35aa6fb4-a7b5-4fb0-a52a-34db23a7f427",
   "metadata": {},
   "source": [
    "### ***3. 모든 키, 값 반환***\n",
    "### **`dict.items()`**"
   ]
  },
  {
   "cell_type": "code",
   "execution_count": 52,
   "id": "57ef43ae-ecd6-44df-b2ff-3426fd700ebe",
   "metadata": {},
   "outputs": [
    {
     "name": "stdout",
     "output_type": "stream",
     "text": [
      "dict_items([('name', 'Alice'), ('age', 25), ('city', 'New York')])\n"
     ]
    }
   ],
   "source": [
    "person = {\"name\": \"Alice\", \"age\": 25, \"city\": \"New York\"}\n",
    "print(person.items())"
   ]
  },
  {
   "cell_type": "markdown",
   "id": "938f9f27",
   "metadata": {
    "id": "938f9f27"
   },
   "source": [
    "### ***4. 지정한 키값 반환***\n",
    "### **`dict.get('key', '예외처리문')`**\n",
    "- 예외처리가 적용된 함수"
   ]
  },
  {
   "cell_type": "code",
   "execution_count": 53,
   "id": "d79154bc",
   "metadata": {
    "colab": {
     "base_uri": "https://localhost:8080/",
     "height": 181
    },
    "executionInfo": {
     "elapsed": 135,
     "status": "error",
     "timestamp": 1743582632493,
     "user": {
      "displayName": "Kim InSeop",
      "userId": "13965062148001194946"
     },
     "user_tz": -540
    },
    "id": "d79154bc",
    "outputId": "bc75d82e-4503-4ac8-d41f-3bfbc82f5663"
   },
   "outputs": [
    {
     "name": "stdout",
     "output_type": "stream",
     "text": [
      "값없음\n"
     ]
    }
   ],
   "source": [
    "person = {\"name\": \"Alice\", \"age\": 25}\n",
    "print(person.get(\"city\", \"값없음\"))"
   ]
  },
  {
   "cell_type": "markdown",
   "id": "a3c1471d",
   "metadata": {
    "id": "a3c1471d"
   },
   "source": [
    "### ***5. 지정한 키값 제거***\n",
    "### **`dict.pop('key')`**"
   ]
  },
  {
   "cell_type": "code",
   "execution_count": 58,
   "id": "0f767825",
   "metadata": {
    "id": "0f767825"
   },
   "outputs": [
    {
     "name": "stdout",
     "output_type": "stream",
     "text": [
      "25\n",
      "{'name': 'Alice'}\n"
     ]
    }
   ],
   "source": [
    "person = {\"name\": \"Alice\", \"age\": 25}\n",
    "age = person.pop(\"age\")\n",
    "print(age)\n",
    "print(person)"
   ]
  },
  {
   "cell_type": "markdown",
   "id": "2430a211",
   "metadata": {
    "id": "2430a211"
   },
   "source": [
    "### ***6. 딕셔너리 갱신***\n",
    "### **`dict.update({키:값}, {키:값})`**"
   ]
  },
  {
   "cell_type": "code",
   "execution_count": 59,
   "id": "497cc321",
   "metadata": {
    "colab": {
     "base_uri": "https://localhost:8080/"
    },
    "executionInfo": {
     "elapsed": 6,
     "status": "ok",
     "timestamp": 1743582735192,
     "user": {
      "displayName": "Kim InSeop",
      "userId": "13965062148001194946"
     },
     "user_tz": -540
    },
    "id": "497cc321",
    "outputId": "951d01bc-969e-486d-aa80-c36d437eca70"
   },
   "outputs": [
    {
     "name": "stdout",
     "output_type": "stream",
     "text": [
      "{'name': 'Alice', 'age': 26, 'city': 'New York'}\n"
     ]
    }
   ],
   "source": [
    "person = {\"name\": \"Alice\", \"age\": 25}\n",
    "print(f'워: {person}')\n",
    "\n",
    "person.update({\"city\": \"New York\", \"age\": 26})\n",
    "print(f'갱신 후: {person}')"
   ]
  }
 ],
 "metadata": {
  "colab": {
   "provenance": []
  },
  "kernelspec": {
   "display_name": "Python 3 (ipykernel)",
   "language": "python",
   "name": "python3"
  },
  "language_info": {
   "codemirror_mode": {
    "name": "ipython",
    "version": 3
   },
   "file_extension": ".py",
   "mimetype": "text/x-python",
   "name": "python",
   "nbconvert_exporter": "python",
   "pygments_lexer": "ipython3",
   "version": "3.13.5"
  }
 },
 "nbformat": 4,
 "nbformat_minor": 5
}
