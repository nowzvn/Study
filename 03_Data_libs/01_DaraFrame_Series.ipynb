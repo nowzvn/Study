{
 "cells": [
  {
   "cell_type": "markdown",
   "metadata": {
    "id": "Y3_UOEw2d__v"
   },
   "source": [
    "# 01_데이터프레임과 시리즈"
   ]
  },
  {
   "cell_type": "markdown",
   "metadata": {},
   "source": [
    "- [DataFrame 공식 문서](https://pandas.pydata.org/docs/reference/api/pandas.DataFrame.html)\n",
    "- [Series 공식 문서](https://pandas.pydata.org/docs/reference/api/pandas.Series.html)"
   ]
  },
  {
   "cell_type": "markdown",
   "metadata": {
    "id": "dxM2hCOcW3rc"
   },
   "source": [
    "## (1) 데이터 구조"
   ]
  },
  {
   "cell_type": "markdown",
   "metadata": {
    "id": "G60mMrDxQjrS"
   },
   "source": [
    "- 데이터프레임: 2차원 테이블\n",
    "- 시리즈: 1차원 테이블"
   ]
  },
  {
   "cell_type": "markdown",
   "metadata": {},
   "source": [
    "- `values`: 데이터\n",
    "- `index`: 행이름\n",
    "- `columns`: 열이름"
   ]
  },
  {
   "cell_type": "markdown",
   "metadata": {
    "id": "43gr8pAqUs3T"
   },
   "source": [
    "## (2) 데이터프레임, 시리즈 생성"
   ]
  },
  {
   "cell_type": "code",
   "execution_count": 1,
   "metadata": {},
   "outputs": [],
   "source": [
    "import pandas as pd"
   ]
  },
  {
   "cell_type": "markdown",
   "metadata": {},
   "source": [
    "### **데이터프레임**\n",
    "### `데이터프레임명 = pd.DataFrame(데이터, index=인덱스, columns=컬럼)`"
   ]
  },
  {
   "cell_type": "code",
   "execution_count": 2,
   "metadata": {
    "colab": {
     "base_uri": "https://localhost:8080/",
     "height": 238
    },
    "executionInfo": {
     "elapsed": 126,
     "status": "ok",
     "timestamp": 1669209971635,
     "user": {
      "displayName": "Panda Kim",
      "userId": "12926754989350056957"
     },
     "user_tz": -540
    },
    "id": "G045xo-BbzzI",
    "outputId": "84a5d1cd-6b7b-4a8b-8657-3ae4a916f6da"
   },
   "outputs": [
    {
     "data": {
      "text/html": [
       "<div>\n",
       "<style scoped>\n",
       "    .dataframe tbody tr th:only-of-type {\n",
       "        vertical-align: middle;\n",
       "    }\n",
       "\n",
       "    .dataframe tbody tr th {\n",
       "        vertical-align: top;\n",
       "    }\n",
       "\n",
       "    .dataframe thead th {\n",
       "        text-align: right;\n",
       "    }\n",
       "</style>\n",
       "<table border=\"1\" class=\"dataframe\">\n",
       "  <thead>\n",
       "    <tr style=\"text-align: right;\">\n",
       "      <th></th>\n",
       "      <th>국어</th>\n",
       "      <th>영어</th>\n",
       "      <th>수학</th>\n",
       "      <th>과학</th>\n",
       "    </tr>\n",
       "  </thead>\n",
       "  <tbody>\n",
       "    <tr>\n",
       "      <th>A</th>\n",
       "      <td>67</td>\n",
       "      <td>93</td>\n",
       "      <td>91</td>\n",
       "      <td>88</td>\n",
       "    </tr>\n",
       "    <tr>\n",
       "      <th>B</th>\n",
       "      <td>75</td>\n",
       "      <td>69</td>\n",
       "      <td>96</td>\n",
       "      <td>69</td>\n",
       "    </tr>\n",
       "    <tr>\n",
       "      <th>C</th>\n",
       "      <td>75</td>\n",
       "      <td>81</td>\n",
       "      <td>74</td>\n",
       "      <td>82</td>\n",
       "    </tr>\n",
       "    <tr>\n",
       "      <th>D</th>\n",
       "      <td>96</td>\n",
       "      <td>65</td>\n",
       "      <td>84</td>\n",
       "      <td>66</td>\n",
       "    </tr>\n",
       "  </tbody>\n",
       "</table>\n",
       "</div>"
      ],
      "text/plain": [
       "   국어  영어  수학  과학\n",
       "A  67  93  91  88\n",
       "B  75  69  96  69\n",
       "C  75  81  74  82\n",
       "D  96  65  84  66"
      ]
     },
     "execution_count": 2,
     "metadata": {},
     "output_type": "execute_result"
    }
   ],
   "source": [
    "data1 = [[67, 93, 91, 88],\n",
    "         [75, 69, 96, 69],\n",
    "         [75, 81, 74, 82],\n",
    "         [96, 65, 84, 66]]\n",
    "idx1 = ['A', 'B', 'C', 'D']\n",
    "col1 = ['국어', '영어', '수학', '과학']\n",
    "\n",
    "df = pd.DataFrame(data1, index=idx1, columns=col1)\n",
    "df"
   ]
  },
  {
   "cell_type": "markdown",
   "metadata": {},
   "source": [
    "### **시리즈**\n",
    "### `시리즈명 = pd.Series(데이터, index=['인덱스'])`"
   ]
  },
  {
   "cell_type": "code",
   "execution_count": 3,
   "metadata": {},
   "outputs": [
    {
     "data": {
      "text/plain": [
       "a    67\n",
       "b    75\n",
       "c    75\n",
       "d    96\n",
       "dtype: int64"
      ]
     },
     "execution_count": 3,
     "metadata": {},
     "output_type": "execute_result"
    }
   ],
   "source": [
    "data_2 = [67, 75, 75, 96]\n",
    "s = pd.Series(data_2, index=['a','b','c','d'])\n",
    "s"
   ]
  },
  {
   "cell_type": "markdown",
   "metadata": {
    "id": "7bYhkmlwU8PE"
   },
   "source": [
    "## (3) 속성(attribute)\n",
    "- `df.values`: 데이터 프레임의 값 가져오기\n",
    "- `df.index`: 데이터 프레임의 인덱스 가져오기\n",
    "- `df.columns`: 데이터 프레임의 컬럼 가져오기\n",
    "- 시리즈도 동일하나 컬럼이 없음"
   ]
  },
  {
   "cell_type": "code",
   "execution_count": 4,
   "metadata": {
    "colab": {
     "base_uri": "https://localhost:8080/"
    },
    "executionInfo": {
     "elapsed": 117,
     "status": "ok",
     "timestamp": 1669209971638,
     "user": {
      "displayName": "Panda Kim",
      "userId": "12926754989350056957"
     },
     "user_tz": -540
    },
    "id": "wmsrPx3hV7gn",
    "outputId": "a8024285-63e7-47f7-b1da-3bbf55bbf9d6"
   },
   "outputs": [
    {
     "data": {
      "text/plain": [
       "array([[67, 93, 91, 88],\n",
       "       [75, 69, 96, 69],\n",
       "       [75, 81, 74, 82],\n",
       "       [96, 65, 84, 66]])"
      ]
     },
     "execution_count": 4,
     "metadata": {},
     "output_type": "execute_result"
    }
   ],
   "source": [
    "df.values"
   ]
  },
  {
   "cell_type": "code",
   "execution_count": 5,
   "metadata": {
    "colab": {
     "base_uri": "https://localhost:8080/"
    },
    "executionInfo": {
     "elapsed": 111,
     "status": "ok",
     "timestamp": 1669209971640,
     "user": {
      "displayName": "Panda Kim",
      "userId": "12926754989350056957"
     },
     "user_tz": -540
    },
    "id": "ncHpISMiWCrR",
    "outputId": "21b3031c-8028-4450-8783-8e4f5d280912"
   },
   "outputs": [
    {
     "data": {
      "text/plain": [
       "Index(['A', 'B', 'C', 'D'], dtype='object')"
      ]
     },
     "execution_count": 5,
     "metadata": {},
     "output_type": "execute_result"
    }
   ],
   "source": [
    "df.index"
   ]
  },
  {
   "cell_type": "code",
   "execution_count": 6,
   "metadata": {
    "colab": {
     "base_uri": "https://localhost:8080/"
    },
    "executionInfo": {
     "elapsed": 99,
     "status": "ok",
     "timestamp": 1669209971643,
     "user": {
      "displayName": "Panda Kim",
      "userId": "12926754989350056957"
     },
     "user_tz": -540
    },
    "id": "oXVSb01BWFm1",
    "outputId": "eea46868-0433-4a38-f7c3-12df8d41ad35"
   },
   "outputs": [
    {
     "data": {
      "text/plain": [
       "Index(['국어', '영어', '수학', '과학'], dtype='object')"
      ]
     },
     "execution_count": 6,
     "metadata": {},
     "output_type": "execute_result"
    }
   ],
   "source": [
    "df.columns"
   ]
  },
  {
   "cell_type": "markdown",
   "metadata": {},
   "source": [
    "## (4) 백터화 연산"
   ]
  },
  {
   "cell_type": "markdown",
   "metadata": {},
   "source": [
    "### **데이터프레임**"
   ]
  },
  {
   "cell_type": "code",
   "execution_count": 7,
   "metadata": {},
   "outputs": [
    {
     "name": "stdout",
     "output_type": "stream",
     "text": [
      "   국어  영어  수학  과학\n",
      "A  67  93  91  88\n",
      "B  75  69  96  69\n",
      "C  75  81  74  82\n",
      "D  96  65  84  66\n",
      "      국어     영어     수학     과학\n",
      "A  False   True   True   True\n",
      "B  False  False   True  False\n",
      "C  False   True  False   True\n",
      "D   True  False   True  False\n"
     ]
    }
   ],
   "source": [
    "print(df)\n",
    "print(df > 80)"
   ]
  },
  {
   "cell_type": "code",
   "execution_count": 8,
   "metadata": {},
   "outputs": [
    {
     "data": {
      "text/html": [
       "<div>\n",
       "<style scoped>\n",
       "    .dataframe tbody tr th:only-of-type {\n",
       "        vertical-align: middle;\n",
       "    }\n",
       "\n",
       "    .dataframe tbody tr th {\n",
       "        vertical-align: top;\n",
       "    }\n",
       "\n",
       "    .dataframe thead th {\n",
       "        text-align: right;\n",
       "    }\n",
       "</style>\n",
       "<table border=\"1\" class=\"dataframe\">\n",
       "  <thead>\n",
       "    <tr style=\"text-align: right;\">\n",
       "      <th></th>\n",
       "      <th>국어</th>\n",
       "      <th>영어</th>\n",
       "      <th>수학</th>\n",
       "      <th>과학</th>\n",
       "    </tr>\n",
       "  </thead>\n",
       "  <tbody>\n",
       "    <tr>\n",
       "      <th>A</th>\n",
       "      <td>0</td>\n",
       "      <td>93</td>\n",
       "      <td>91</td>\n",
       "      <td>88</td>\n",
       "    </tr>\n",
       "    <tr>\n",
       "      <th>B</th>\n",
       "      <td>75</td>\n",
       "      <td>0</td>\n",
       "      <td>96</td>\n",
       "      <td>0</td>\n",
       "    </tr>\n",
       "    <tr>\n",
       "      <th>C</th>\n",
       "      <td>75</td>\n",
       "      <td>81</td>\n",
       "      <td>74</td>\n",
       "      <td>82</td>\n",
       "    </tr>\n",
       "    <tr>\n",
       "      <th>D</th>\n",
       "      <td>96</td>\n",
       "      <td>0</td>\n",
       "      <td>84</td>\n",
       "      <td>0</td>\n",
       "    </tr>\n",
       "  </tbody>\n",
       "</table>\n",
       "</div>"
      ],
      "text/plain": [
       "   국어  영어  수학  과학\n",
       "A   0  93  91  88\n",
       "B  75   0  96   0\n",
       "C  75  81  74  82\n",
       "D  96   0  84   0"
      ]
     },
     "execution_count": 8,
     "metadata": {},
     "output_type": "execute_result"
    }
   ],
   "source": [
    "# 70 이상\n",
    "result = df * (df >= 70)\n",
    "result"
   ]
  },
  {
   "cell_type": "markdown",
   "metadata": {},
   "source": [
    "### **시리즈**"
   ]
  },
  {
   "cell_type": "code",
   "execution_count": 9,
   "metadata": {},
   "outputs": [
    {
     "name": "stdout",
     "output_type": "stream",
     "text": [
      "a    67\n",
      "b    75\n",
      "c    75\n",
      "d    96\n",
      "dtype: int64\n"
     ]
    },
    {
     "data": {
      "text/plain": [
       "a    False\n",
       "b    False\n",
       "c    False\n",
       "d     True\n",
       "dtype: bool"
      ]
     },
     "execution_count": 9,
     "metadata": {},
     "output_type": "execute_result"
    }
   ],
   "source": [
    "print(s)\n",
    "s > 80"
   ]
  },
  {
   "cell_type": "code",
   "execution_count": 10,
   "metadata": {},
   "outputs": [
    {
     "data": {
      "text/plain": [
       "a     0\n",
       "b    75\n",
       "c    75\n",
       "d    96\n",
       "dtype: int64"
      ]
     },
     "execution_count": 10,
     "metadata": {},
     "output_type": "execute_result"
    }
   ],
   "source": [
    "# 70 이상\n",
    "result = s * (s >= 70)\n",
    "result"
   ]
  }
 ],
 "metadata": {
  "colab": {
   "authorship_tag": "ABX9TyPilmsOrbYZwKc6dXsPnXDI",
   "provenance": []
  },
  "kernelspec": {
   "display_name": "Python 3 (ipykernel)",
   "language": "python",
   "name": "python3"
  },
  "language_info": {
   "codemirror_mode": {
    "name": "ipython",
    "version": 3
   },
   "file_extension": ".py",
   "mimetype": "text/x-python",
   "name": "python",
   "nbconvert_exporter": "python",
   "pygments_lexer": "ipython3",
   "version": "3.13.5"
  }
 },
 "nbformat": 4,
 "nbformat_minor": 4
}
