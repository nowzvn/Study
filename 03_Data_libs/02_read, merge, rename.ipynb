{
 "cells": [
  {
   "cell_type": "markdown",
   "metadata": {
    "id": "DIIAyrXf3DOX"
   },
   "source": [
    "# 02_read, merge, to, rename"
   ]
  },
  {
   "cell_type": "markdown",
   "metadata": {
    "id": "bJ_Dt5Cg3T9E"
   },
   "source": [
    "## (1) 데이터 불러오기 - read_excel"
   ]
  },
  {
   "cell_type": "markdown",
   "metadata": {
    "id": "_Pxan6SR2Apk"
   },
   "source": [
    "### `pd.read_excel(io, sheet_name = , header = , names = , index_col = )`\n",
    "- 엑셀파일을 데이터프레임으로 불러오는 함수\n",
    "- io: 파일의 경로명\n",
    "- sheet_name: 불러올 시트를 지정하는 인자 (기본값: 0)\n",
    "    - 1: 2번째 시트를 불러온다\n",
    "    - \"Sheet1\": \"Sheet1\"이라는 이름의 시트를 불러온다\n",
    "    - None: 모든 시트를 딕셔너리로 통합해 가져온다.\n",
    "- header: columns를 지정하는 인자.\n",
    "- index_col: index를 지정하는 인자. 지정하지 않으면 RangeIndex가 index로 부여된다.\n",
    "- [read_excel 판다스 공식 문서](https://pandas.pydata.org/docs/reference/api/pandas.read_excel.html)"
   ]
  },
  {
   "cell_type": "code",
   "execution_count": 1,
   "metadata": {
    "id": "Jj3qJriO0jPp"
   },
   "outputs": [],
   "source": [
    "import pandas as pd\n",
    "\n",
    "# 출력옵션 조절\n",
    "pd.set_option('display.max_rows', 6)"
   ]
  },
  {
   "cell_type": "code",
   "execution_count": 2,
   "metadata": {
    "colab": {
     "base_uri": "https://localhost:8080/",
     "height": 175
    },
    "id": "bUhejFYbj6hv",
    "outputId": "af5d5169-33ee-4a75-d877-28688fa51fff"
   },
   "outputs": [
    {
     "data": {
      "text/html": [
       "<div>\n",
       "<style scoped>\n",
       "    .dataframe tbody tr th:only-of-type {\n",
       "        vertical-align: middle;\n",
       "    }\n",
       "\n",
       "    .dataframe tbody tr th {\n",
       "        vertical-align: top;\n",
       "    }\n",
       "\n",
       "    .dataframe thead th {\n",
       "        text-align: right;\n",
       "    }\n",
       "</style>\n",
       "<table border=\"1\" class=\"dataframe\">\n",
       "  <thead>\n",
       "    <tr style=\"text-align: right;\">\n",
       "      <th></th>\n",
       "      <th>이름</th>\n",
       "      <th>국어</th>\n",
       "      <th>영어</th>\n",
       "      <th>수학</th>\n",
       "    </tr>\n",
       "  </thead>\n",
       "  <tbody>\n",
       "    <tr>\n",
       "      <th>0</th>\n",
       "      <td>송중기</td>\n",
       "      <td>63</td>\n",
       "      <td>93</td>\n",
       "      <td>97</td>\n",
       "    </tr>\n",
       "    <tr>\n",
       "      <th>1</th>\n",
       "      <td>김나현</td>\n",
       "      <td>89</td>\n",
       "      <td>83</td>\n",
       "      <td>71</td>\n",
       "    </tr>\n",
       "    <tr>\n",
       "      <th>2</th>\n",
       "      <td>권보아</td>\n",
       "      <td>83</td>\n",
       "      <td>76</td>\n",
       "      <td>92</td>\n",
       "    </tr>\n",
       "    <tr>\n",
       "      <th>3</th>\n",
       "      <td>박효신</td>\n",
       "      <td>94</td>\n",
       "      <td>88</td>\n",
       "      <td>73</td>\n",
       "    </tr>\n",
       "  </tbody>\n",
       "</table>\n",
       "</div>"
      ],
      "text/plain": [
       "    이름  국어  영어  수학\n",
       "0  송중기  63  93  97\n",
       "1  김나현  89  83  71\n",
       "2  권보아  83  76  92\n",
       "3  박효신  94  88  73"
      ]
     },
     "execution_count": 2,
     "metadata": {},
     "output_type": "execute_result"
    }
   ],
   "source": [
    "url = 'data/read_excel.xlsx'\n",
    "df = pd.read_excel('data/read_excel.xlsx')\n",
    "df\n",
    "\n",
    "# import os\n",
    "# os.getcwd()"
   ]
  },
  {
   "cell_type": "code",
   "execution_count": 3,
   "metadata": {
    "colab": {
     "base_uri": "https://localhost:8080/",
     "height": 175
    },
    "id": "nhiSJ2wOncUK",
    "outputId": "dc51f130-432e-463e-eb1e-d26e9b9190f3"
   },
   "outputs": [
    {
     "data": {
      "text/html": [
       "<div>\n",
       "<style scoped>\n",
       "    .dataframe tbody tr th:only-of-type {\n",
       "        vertical-align: middle;\n",
       "    }\n",
       "\n",
       "    .dataframe tbody tr th {\n",
       "        vertical-align: top;\n",
       "    }\n",
       "\n",
       "    .dataframe thead th {\n",
       "        text-align: right;\n",
       "    }\n",
       "</style>\n",
       "<table border=\"1\" class=\"dataframe\">\n",
       "  <thead>\n",
       "    <tr style=\"text-align: right;\">\n",
       "      <th></th>\n",
       "      <th>국어</th>\n",
       "      <th>영어</th>\n",
       "      <th>수학</th>\n",
       "    </tr>\n",
       "  </thead>\n",
       "  <tbody>\n",
       "    <tr>\n",
       "      <th>송중기</th>\n",
       "      <td>63</td>\n",
       "      <td>93</td>\n",
       "      <td>97</td>\n",
       "    </tr>\n",
       "    <tr>\n",
       "      <th>김나현</th>\n",
       "      <td>89</td>\n",
       "      <td>83</td>\n",
       "      <td>71</td>\n",
       "    </tr>\n",
       "    <tr>\n",
       "      <th>권보아</th>\n",
       "      <td>83</td>\n",
       "      <td>76</td>\n",
       "      <td>92</td>\n",
       "    </tr>\n",
       "    <tr>\n",
       "      <th>박효신</th>\n",
       "      <td>94</td>\n",
       "      <td>88</td>\n",
       "      <td>73</td>\n",
       "    </tr>\n",
       "  </tbody>\n",
       "</table>\n",
       "</div>"
      ],
      "text/plain": [
       "     국어  영어  수학\n",
       "송중기  63  93  97\n",
       "김나현  89  83  71\n",
       "권보아  83  76  92\n",
       "박효신  94  88  73"
      ]
     },
     "execution_count": 3,
     "metadata": {},
     "output_type": "execute_result"
    }
   ],
   "source": [
    "# 네번째 시트를 불러오기\n",
    "# 첫번째 열을 index로 지정하기\n",
    "pd.read_excel(url, sheet_name = 3, index_col = 0)"
   ]
  },
  {
   "cell_type": "markdown",
   "metadata": {
    "id": "KTBWP_cB3yPE"
   },
   "source": [
    "## (2) 데이터 병합하기 - merge"
   ]
  },
  {
   "cell_type": "markdown",
   "metadata": {
    "id": "_zxSljkv31Fx"
   },
   "source": [
    "### `df1.merge(df2, how = , on = )`\n",
    "- df2: 병합할 객체\n",
    "- how: 병합할 방식을 결정하는 인자 (기본값: 'inner')\n",
    "    - left: 왼쪽 데이터프레임의 키(key)만을 병합에 사용한다.(엑셀의 vlookup과 유사)\n",
    "    - right: 오른쪽 데이터프레임의 키(key)만을 병합에 사용한다.\n",
    "    - outer: 양쪽 데이터프레임의 키(key)들의 합집합을 병합에 사용한다.\n",
    "    - inner: 양쪽 데이터프레임의 키(key)들의 교집합을 병합에 사용한다.\n",
    "    - cross: 양쪽 데이터프레임의 곱집합(cartesian product)을 생성한다.\n",
    "- on: 병합의 기준이 되는 열을 지정하는 인자 (기본값: 양쪽 데이터프레임에서 이름이 공통인 열들)\n",
    "- [merge 판다스 공식 문서](https://pandas.pydata.org/docs/reference/api/pandas.DataFrame.merge.html)"
   ]
  },
  {
   "cell_type": "markdown",
   "metadata": {},
   "source": [
    "### **단일요건 merge**"
   ]
  },
  {
   "cell_type": "code",
   "execution_count": 4,
   "metadata": {
    "colab": {
     "base_uri": "https://localhost:8080/",
     "height": 298
    },
    "id": "T4Kzw3lT6raW",
    "outputId": "ce7a443b-63d1-4685-9377-ae88dbc2fb41"
   },
   "outputs": [
    {
     "data": {
      "text/html": [
       "<div>\n",
       "<style scoped>\n",
       "    .dataframe tbody tr th:only-of-type {\n",
       "        vertical-align: middle;\n",
       "    }\n",
       "\n",
       "    .dataframe tbody tr th {\n",
       "        vertical-align: top;\n",
       "    }\n",
       "\n",
       "    .dataframe thead th {\n",
       "        text-align: right;\n",
       "    }\n",
       "</style>\n",
       "<table border=\"1\" class=\"dataframe\">\n",
       "  <thead>\n",
       "    <tr style=\"text-align: right;\">\n",
       "      <th></th>\n",
       "      <th>이름</th>\n",
       "      <th>제품</th>\n",
       "    </tr>\n",
       "  </thead>\n",
       "  <tbody>\n",
       "    <tr>\n",
       "      <th>0</th>\n",
       "      <td>백철민</td>\n",
       "      <td>아이스티</td>\n",
       "    </tr>\n",
       "    <tr>\n",
       "      <th>1</th>\n",
       "      <td>박태인</td>\n",
       "      <td>레몬에이드</td>\n",
       "    </tr>\n",
       "    <tr>\n",
       "      <th>2</th>\n",
       "      <td>국지용</td>\n",
       "      <td>아메리카노</td>\n",
       "    </tr>\n",
       "    <tr>\n",
       "      <th>...</th>\n",
       "      <td>...</td>\n",
       "      <td>...</td>\n",
       "    </tr>\n",
       "    <tr>\n",
       "      <th>371</th>\n",
       "      <td>기주봉</td>\n",
       "      <td>아이스티</td>\n",
       "    </tr>\n",
       "    <tr>\n",
       "      <th>372</th>\n",
       "      <td>백승환</td>\n",
       "      <td>바닐라라떼</td>\n",
       "    </tr>\n",
       "    <tr>\n",
       "      <th>373</th>\n",
       "      <td>계승현</td>\n",
       "      <td>레몬에이드</td>\n",
       "    </tr>\n",
       "  </tbody>\n",
       "</table>\n",
       "<p>374 rows × 2 columns</p>\n",
       "</div>"
      ],
      "text/plain": [
       "      이름     제품\n",
       "0    백철민   아이스티\n",
       "1    박태인  레몬에이드\n",
       "2    국지용  아메리카노\n",
       "..   ...    ...\n",
       "371  기주봉   아이스티\n",
       "372  백승환  바닐라라떼\n",
       "373  계승현  레몬에이드\n",
       "\n",
       "[374 rows x 2 columns]"
      ]
     },
     "execution_count": 4,
     "metadata": {},
     "output_type": "execute_result"
    }
   ],
   "source": [
    "url = 'data/merge01.xlsx'\n",
    "df1 = pd.read_excel(url)\n",
    "df1"
   ]
  },
  {
   "cell_type": "code",
   "execution_count": 5,
   "metadata": {
    "colab": {
     "base_uri": "https://localhost:8080/",
     "height": 298
    },
    "id": "4dvVxpN376Gg",
    "outputId": "7cdf8741-bf67-4a9c-fd26-10eb2f8bd9b7"
   },
   "outputs": [
    {
     "data": {
      "text/html": [
       "<div>\n",
       "<style scoped>\n",
       "    .dataframe tbody tr th:only-of-type {\n",
       "        vertical-align: middle;\n",
       "    }\n",
       "\n",
       "    .dataframe tbody tr th {\n",
       "        vertical-align: top;\n",
       "    }\n",
       "\n",
       "    .dataframe thead th {\n",
       "        text-align: right;\n",
       "    }\n",
       "</style>\n",
       "<table border=\"1\" class=\"dataframe\">\n",
       "  <thead>\n",
       "    <tr style=\"text-align: right;\">\n",
       "      <th></th>\n",
       "      <th>제품</th>\n",
       "      <th>가격</th>\n",
       "    </tr>\n",
       "  </thead>\n",
       "  <tbody>\n",
       "    <tr>\n",
       "      <th>0</th>\n",
       "      <td>아메리카노</td>\n",
       "      <td>3900</td>\n",
       "    </tr>\n",
       "    <tr>\n",
       "      <th>1</th>\n",
       "      <td>바닐라라떼</td>\n",
       "      <td>3900</td>\n",
       "    </tr>\n",
       "    <tr>\n",
       "      <th>2</th>\n",
       "      <td>까페라떼</td>\n",
       "      <td>3900</td>\n",
       "    </tr>\n",
       "    <tr>\n",
       "      <th>...</th>\n",
       "      <td>...</td>\n",
       "      <td>...</td>\n",
       "    </tr>\n",
       "    <tr>\n",
       "      <th>7</th>\n",
       "      <td>자몽티</td>\n",
       "      <td>4100</td>\n",
       "    </tr>\n",
       "    <tr>\n",
       "      <th>8</th>\n",
       "      <td>레몬에이드</td>\n",
       "      <td>4400</td>\n",
       "    </tr>\n",
       "    <tr>\n",
       "      <th>9</th>\n",
       "      <td>오렌지주스</td>\n",
       "      <td>3600</td>\n",
       "    </tr>\n",
       "  </tbody>\n",
       "</table>\n",
       "<p>10 rows × 2 columns</p>\n",
       "</div>"
      ],
      "text/plain": [
       "       제품    가격\n",
       "0   아메리카노  3900\n",
       "1   바닐라라떼  3900\n",
       "2    까페라떼  3900\n",
       "..    ...   ...\n",
       "7     자몽티  4100\n",
       "8   레몬에이드  4400\n",
       "9   오렌지주스  3600\n",
       "\n",
       "[10 rows x 2 columns]"
      ]
     },
     "execution_count": 5,
     "metadata": {},
     "output_type": "execute_result"
    }
   ],
   "source": [
    "df2 = pd.read_excel(url, sheet_name = 1)\n",
    "df2"
   ]
  },
  {
   "cell_type": "code",
   "execution_count": 6,
   "metadata": {
    "colab": {
     "base_uri": "https://localhost:8080/",
     "height": 298
    },
    "id": "HC2IsZ779GMz",
    "outputId": "4f67ff9c-dd6b-429a-92a9-f28f2767c605"
   },
   "outputs": [
    {
     "data": {
      "text/html": [
       "<div>\n",
       "<style scoped>\n",
       "    .dataframe tbody tr th:only-of-type {\n",
       "        vertical-align: middle;\n",
       "    }\n",
       "\n",
       "    .dataframe tbody tr th {\n",
       "        vertical-align: top;\n",
       "    }\n",
       "\n",
       "    .dataframe thead th {\n",
       "        text-align: right;\n",
       "    }\n",
       "</style>\n",
       "<table border=\"1\" class=\"dataframe\">\n",
       "  <thead>\n",
       "    <tr style=\"text-align: right;\">\n",
       "      <th></th>\n",
       "      <th>이름</th>\n",
       "      <th>제품</th>\n",
       "      <th>가격</th>\n",
       "    </tr>\n",
       "  </thead>\n",
       "  <tbody>\n",
       "    <tr>\n",
       "      <th>0</th>\n",
       "      <td>백철민</td>\n",
       "      <td>아이스티</td>\n",
       "      <td>4400</td>\n",
       "    </tr>\n",
       "    <tr>\n",
       "      <th>1</th>\n",
       "      <td>박태인</td>\n",
       "      <td>레몬에이드</td>\n",
       "      <td>4400</td>\n",
       "    </tr>\n",
       "    <tr>\n",
       "      <th>2</th>\n",
       "      <td>국지용</td>\n",
       "      <td>아메리카노</td>\n",
       "      <td>3900</td>\n",
       "    </tr>\n",
       "    <tr>\n",
       "      <th>...</th>\n",
       "      <td>...</td>\n",
       "      <td>...</td>\n",
       "      <td>...</td>\n",
       "    </tr>\n",
       "    <tr>\n",
       "      <th>371</th>\n",
       "      <td>기주봉</td>\n",
       "      <td>아이스티</td>\n",
       "      <td>4400</td>\n",
       "    </tr>\n",
       "    <tr>\n",
       "      <th>372</th>\n",
       "      <td>백승환</td>\n",
       "      <td>바닐라라떼</td>\n",
       "      <td>3900</td>\n",
       "    </tr>\n",
       "    <tr>\n",
       "      <th>373</th>\n",
       "      <td>계승현</td>\n",
       "      <td>레몬에이드</td>\n",
       "      <td>4400</td>\n",
       "    </tr>\n",
       "  </tbody>\n",
       "</table>\n",
       "<p>374 rows × 3 columns</p>\n",
       "</div>"
      ],
      "text/plain": [
       "      이름     제품    가격\n",
       "0    백철민   아이스티  4400\n",
       "1    박태인  레몬에이드  4400\n",
       "2    국지용  아메리카노  3900\n",
       "..   ...    ...   ...\n",
       "371  기주봉   아이스티  4400\n",
       "372  백승환  바닐라라떼  3900\n",
       "373  계승현  레몬에이드  4400\n",
       "\n",
       "[374 rows x 3 columns]"
      ]
     },
     "execution_count": 6,
     "metadata": {},
     "output_type": "execute_result"
    }
   ],
   "source": [
    "# df1과 df2를 vlookup 방식으로 병합\n",
    "df3 = df1.merge(df2, how = 'left', on = '제품')\n",
    "df3"
   ]
  },
  {
   "cell_type": "markdown",
   "metadata": {
    "id": "nEJtAQK05lwt"
   },
   "source": [
    "### **다중요건 merge**"
   ]
  },
  {
   "cell_type": "code",
   "execution_count": 7,
   "metadata": {
    "id": "TYSV7b2MD3JC"
   },
   "outputs": [
    {
     "data": {
      "text/html": [
       "<div>\n",
       "<style scoped>\n",
       "    .dataframe tbody tr th:only-of-type {\n",
       "        vertical-align: middle;\n",
       "    }\n",
       "\n",
       "    .dataframe tbody tr th {\n",
       "        vertical-align: top;\n",
       "    }\n",
       "\n",
       "    .dataframe thead th {\n",
       "        text-align: right;\n",
       "    }\n",
       "</style>\n",
       "<table border=\"1\" class=\"dataframe\">\n",
       "  <thead>\n",
       "    <tr style=\"text-align: right;\">\n",
       "      <th></th>\n",
       "      <th>이름</th>\n",
       "      <th>제품</th>\n",
       "      <th>업체</th>\n",
       "    </tr>\n",
       "  </thead>\n",
       "  <tbody>\n",
       "    <tr>\n",
       "      <th>0</th>\n",
       "      <td>백민</td>\n",
       "      <td>산채비빔밥</td>\n",
       "      <td>종가도시락</td>\n",
       "    </tr>\n",
       "    <tr>\n",
       "      <th>1</th>\n",
       "      <td>권상우</td>\n",
       "      <td>치킨도시락</td>\n",
       "      <td>두솥도시락</td>\n",
       "    </tr>\n",
       "    <tr>\n",
       "      <th>2</th>\n",
       "      <td>강인서</td>\n",
       "      <td>돈까스정식</td>\n",
       "      <td>두솥도시락</td>\n",
       "    </tr>\n",
       "    <tr>\n",
       "      <th>...</th>\n",
       "      <td>...</td>\n",
       "      <td>...</td>\n",
       "      <td>...</td>\n",
       "    </tr>\n",
       "    <tr>\n",
       "      <th>371</th>\n",
       "      <td>백철민</td>\n",
       "      <td>돈까스정식</td>\n",
       "      <td>두솥도시락</td>\n",
       "    </tr>\n",
       "    <tr>\n",
       "      <th>372</th>\n",
       "      <td>김두진</td>\n",
       "      <td>산채비빔밥</td>\n",
       "      <td>종가도시락</td>\n",
       "    </tr>\n",
       "    <tr>\n",
       "      <th>373</th>\n",
       "      <td>김동수</td>\n",
       "      <td>돈까스정식</td>\n",
       "      <td>두솥도시락</td>\n",
       "    </tr>\n",
       "  </tbody>\n",
       "</table>\n",
       "<p>374 rows × 3 columns</p>\n",
       "</div>"
      ],
      "text/plain": [
       "      이름     제품     업체\n",
       "0     백민  산채비빔밥  종가도시락\n",
       "1    권상우  치킨도시락  두솥도시락\n",
       "2    강인서  돈까스정식  두솥도시락\n",
       "..   ...    ...    ...\n",
       "371  백철민  돈까스정식  두솥도시락\n",
       "372  김두진  산채비빔밥  종가도시락\n",
       "373  김동수  돈까스정식  두솥도시락\n",
       "\n",
       "[374 rows x 3 columns]"
      ]
     },
     "execution_count": 7,
     "metadata": {},
     "output_type": "execute_result"
    }
   ],
   "source": [
    "df4 = pd.read_excel('data/merge02.xlsx')\n",
    "df4"
   ]
  },
  {
   "cell_type": "code",
   "execution_count": 8,
   "metadata": {},
   "outputs": [
    {
     "data": {
      "text/html": [
       "<div>\n",
       "<style scoped>\n",
       "    .dataframe tbody tr th:only-of-type {\n",
       "        vertical-align: middle;\n",
       "    }\n",
       "\n",
       "    .dataframe tbody tr th {\n",
       "        vertical-align: top;\n",
       "    }\n",
       "\n",
       "    .dataframe thead th {\n",
       "        text-align: right;\n",
       "    }\n",
       "</style>\n",
       "<table border=\"1\" class=\"dataframe\">\n",
       "  <thead>\n",
       "    <tr style=\"text-align: right;\">\n",
       "      <th></th>\n",
       "      <th>업체</th>\n",
       "      <th>제품</th>\n",
       "      <th>가격</th>\n",
       "      <th>구분</th>\n",
       "    </tr>\n",
       "  </thead>\n",
       "  <tbody>\n",
       "    <tr>\n",
       "      <th>0</th>\n",
       "      <td>두솥도시락</td>\n",
       "      <td>돈까스정식</td>\n",
       "      <td>5700</td>\n",
       "      <td>일식</td>\n",
       "    </tr>\n",
       "    <tr>\n",
       "      <th>1</th>\n",
       "      <td>두솥도시락</td>\n",
       "      <td>산채비빔밥</td>\n",
       "      <td>5200</td>\n",
       "      <td>한식</td>\n",
       "    </tr>\n",
       "    <tr>\n",
       "      <th>2</th>\n",
       "      <td>두솥도시락</td>\n",
       "      <td>치킨도시락</td>\n",
       "      <td>6300</td>\n",
       "      <td>한식</td>\n",
       "    </tr>\n",
       "    <tr>\n",
       "      <th>3</th>\n",
       "      <td>종가도시락</td>\n",
       "      <td>돈까스정식</td>\n",
       "      <td>6600</td>\n",
       "      <td>일식</td>\n",
       "    </tr>\n",
       "    <tr>\n",
       "      <th>4</th>\n",
       "      <td>종가도시락</td>\n",
       "      <td>산채비빔밥</td>\n",
       "      <td>6700</td>\n",
       "      <td>한식</td>\n",
       "    </tr>\n",
       "    <tr>\n",
       "      <th>5</th>\n",
       "      <td>종가도시락</td>\n",
       "      <td>치킨도시락</td>\n",
       "      <td>5600</td>\n",
       "      <td>한식</td>\n",
       "    </tr>\n",
       "  </tbody>\n",
       "</table>\n",
       "</div>"
      ],
      "text/plain": [
       "      업체     제품    가격  구분\n",
       "0  두솥도시락  돈까스정식  5700  일식\n",
       "1  두솥도시락  산채비빔밥  5200  한식\n",
       "2  두솥도시락  치킨도시락  6300  한식\n",
       "3  종가도시락  돈까스정식  6600  일식\n",
       "4  종가도시락  산채비빔밥  6700  한식\n",
       "5  종가도시락  치킨도시락  5600  한식"
      ]
     },
     "execution_count": 8,
     "metadata": {},
     "output_type": "execute_result"
    }
   ],
   "source": [
    "df5 = pd.read_excel('data/merge02.xlsx', sheet_name = 1)\n",
    "df5"
   ]
  },
  {
   "cell_type": "code",
   "execution_count": 9,
   "metadata": {
    "colab": {
     "base_uri": "https://localhost:8080/",
     "height": 206
    },
    "id": "25PIxmKH_QCC",
    "outputId": "3302892d-a26c-4288-a8da-e88d12b44b89"
   },
   "outputs": [
    {
     "data": {
      "text/html": [
       "<div>\n",
       "<style scoped>\n",
       "    .dataframe tbody tr th:only-of-type {\n",
       "        vertical-align: middle;\n",
       "    }\n",
       "\n",
       "    .dataframe tbody tr th {\n",
       "        vertical-align: top;\n",
       "    }\n",
       "\n",
       "    .dataframe thead th {\n",
       "        text-align: right;\n",
       "    }\n",
       "</style>\n",
       "<table border=\"1\" class=\"dataframe\">\n",
       "  <thead>\n",
       "    <tr style=\"text-align: right;\">\n",
       "      <th></th>\n",
       "      <th>이름</th>\n",
       "      <th>제품</th>\n",
       "      <th>업체</th>\n",
       "      <th>가격</th>\n",
       "      <th>구분</th>\n",
       "    </tr>\n",
       "  </thead>\n",
       "  <tbody>\n",
       "    <tr>\n",
       "      <th>0</th>\n",
       "      <td>백민</td>\n",
       "      <td>산채비빔밥</td>\n",
       "      <td>종가도시락</td>\n",
       "      <td>6700</td>\n",
       "      <td>한식</td>\n",
       "    </tr>\n",
       "    <tr>\n",
       "      <th>1</th>\n",
       "      <td>권상우</td>\n",
       "      <td>치킨도시락</td>\n",
       "      <td>두솥도시락</td>\n",
       "      <td>6300</td>\n",
       "      <td>한식</td>\n",
       "    </tr>\n",
       "    <tr>\n",
       "      <th>2</th>\n",
       "      <td>강인서</td>\n",
       "      <td>돈까스정식</td>\n",
       "      <td>두솥도시락</td>\n",
       "      <td>5700</td>\n",
       "      <td>일식</td>\n",
       "    </tr>\n",
       "    <tr>\n",
       "      <th>...</th>\n",
       "      <td>...</td>\n",
       "      <td>...</td>\n",
       "      <td>...</td>\n",
       "      <td>...</td>\n",
       "      <td>...</td>\n",
       "    </tr>\n",
       "    <tr>\n",
       "      <th>371</th>\n",
       "      <td>백철민</td>\n",
       "      <td>돈까스정식</td>\n",
       "      <td>두솥도시락</td>\n",
       "      <td>5700</td>\n",
       "      <td>일식</td>\n",
       "    </tr>\n",
       "    <tr>\n",
       "      <th>372</th>\n",
       "      <td>김두진</td>\n",
       "      <td>산채비빔밥</td>\n",
       "      <td>종가도시락</td>\n",
       "      <td>6700</td>\n",
       "      <td>한식</td>\n",
       "    </tr>\n",
       "    <tr>\n",
       "      <th>373</th>\n",
       "      <td>김동수</td>\n",
       "      <td>돈까스정식</td>\n",
       "      <td>두솥도시락</td>\n",
       "      <td>5700</td>\n",
       "      <td>일식</td>\n",
       "    </tr>\n",
       "  </tbody>\n",
       "</table>\n",
       "<p>374 rows × 5 columns</p>\n",
       "</div>"
      ],
      "text/plain": [
       "      이름     제품     업체    가격  구분\n",
       "0     백민  산채비빔밥  종가도시락  6700  한식\n",
       "1    권상우  치킨도시락  두솥도시락  6300  한식\n",
       "2    강인서  돈까스정식  두솥도시락  5700  일식\n",
       "..   ...    ...    ...   ...  ..\n",
       "371  백철민  돈까스정식  두솥도시락  5700  일식\n",
       "372  김두진  산채비빔밥  종가도시락  6700  한식\n",
       "373  김동수  돈까스정식  두솥도시락  5700  일식\n",
       "\n",
       "[374 rows x 5 columns]"
      ]
     },
     "execution_count": 9,
     "metadata": {},
     "output_type": "execute_result"
    }
   ],
   "source": [
    "df6 = df4.merge(df5, how='left')\n",
    "df6"
   ]
  },
  {
   "cell_type": "markdown",
   "metadata": {},
   "source": [
    "## (3) 데이터 파일로 저장하기 - to\n",
    "## `df.to_excel(url)`\n",
    "- url: 파일 저장 경로"
   ]
  },
  {
   "cell_type": "code",
   "execution_count": 10,
   "metadata": {},
   "outputs": [],
   "source": [
    "df3.to_excel('data/merge01_result.xlsx')"
   ]
  },
  {
   "cell_type": "code",
   "execution_count": 11,
   "metadata": {},
   "outputs": [],
   "source": [
    "df6.to_excel('data/merge02_result.xlsx')"
   ]
  },
  {
   "cell_type": "markdown",
   "metadata": {
    "id": "gsecGUQv70Cp"
   },
   "source": [
    "## (4) 이름 변경 - rename"
   ]
  },
  {
   "cell_type": "markdown",
   "metadata": {
    "id": "OmqpEsQE8AW_"
   },
   "source": [
    "## `df.rename(index = , columns= , level = )`\n",
    "- index: index의 이름을 바꾸는 인자\n",
    "- columns: columns의 이름을 바꾸는 인자 \n",
    "- level: 멀티인덱스에서 이름을 바꿀 레벨을 지정하는 인자. (기본값: 모든 level에서 이름을 바꾼다.)\n",
    "- [rename 판다스 공식문서](https://pandas.pydata.org/docs/reference/api/pandas.DataFrame.rename.html)"
   ]
  },
  {
   "cell_type": "code",
   "execution_count": 12,
   "metadata": {
    "id": "PfNcwXSJnMEg"
   },
   "outputs": [
    {
     "data": {
      "text/html": [
       "<div>\n",
       "<style scoped>\n",
       "    .dataframe tbody tr th:only-of-type {\n",
       "        vertical-align: middle;\n",
       "    }\n",
       "\n",
       "    .dataframe tbody tr th {\n",
       "        vertical-align: top;\n",
       "    }\n",
       "\n",
       "    .dataframe thead th {\n",
       "        text-align: right;\n",
       "    }\n",
       "</style>\n",
       "<table border=\"1\" class=\"dataframe\">\n",
       "  <thead>\n",
       "    <tr style=\"text-align: right;\">\n",
       "      <th></th>\n",
       "      <th>이름</th>\n",
       "      <th>업체</th>\n",
       "      <th>음료</th>\n",
       "    </tr>\n",
       "  </thead>\n",
       "  <tbody>\n",
       "    <tr>\n",
       "      <th>0</th>\n",
       "      <td>송중기</td>\n",
       "      <td>별다방</td>\n",
       "      <td>아이스티</td>\n",
       "    </tr>\n",
       "    <tr>\n",
       "      <th>1</th>\n",
       "      <td>김나현</td>\n",
       "      <td>콩다방</td>\n",
       "      <td>카페오레</td>\n",
       "    </tr>\n",
       "    <tr>\n",
       "      <th>2</th>\n",
       "      <td>권보아</td>\n",
       "      <td>별다방</td>\n",
       "      <td>카페오레</td>\n",
       "    </tr>\n",
       "    <tr>\n",
       "      <th>3</th>\n",
       "      <td>박효신</td>\n",
       "      <td>콩다방</td>\n",
       "      <td>아이스티</td>\n",
       "    </tr>\n",
       "    <tr>\n",
       "      <th>4</th>\n",
       "      <td>김범수</td>\n",
       "      <td>별다방</td>\n",
       "      <td>카페오레</td>\n",
       "    </tr>\n",
       "  </tbody>\n",
       "</table>\n",
       "</div>"
      ],
      "text/plain": [
       "    이름   업체    음료\n",
       "0  송중기  별다방  아이스티\n",
       "1  김나현  콩다방  카페오레\n",
       "2  권보아  별다방  카페오레\n",
       "3  박효신  콩다방  아이스티\n",
       "4  김범수  별다방  카페오레"
      ]
     },
     "execution_count": 12,
     "metadata": {},
     "output_type": "execute_result"
    }
   ],
   "source": [
    "data1 = [['송중기', '별다방', '아이스티'],\n",
    "         ['김나현', '콩다방', '카페오레'],\n",
    "         ['권보아', '별다방', '카페오레'],\n",
    "         ['박효신', '콩다방', '아이스티'],\n",
    "         ['김범수', '별다방', '카페오레']]\n",
    "df1 = pd.DataFrame(data1, columns=['이름', '업체', '음료'])\n",
    "df1"
   ]
  },
  {
   "cell_type": "code",
   "execution_count": 13,
   "metadata": {},
   "outputs": [
    {
     "data": {
      "text/html": [
       "<div>\n",
       "<style scoped>\n",
       "    .dataframe tbody tr th:only-of-type {\n",
       "        vertical-align: middle;\n",
       "    }\n",
       "\n",
       "    .dataframe tbody tr th {\n",
       "        vertical-align: top;\n",
       "    }\n",
       "\n",
       "    .dataframe thead th {\n",
       "        text-align: right;\n",
       "    }\n",
       "</style>\n",
       "<table border=\"1\" class=\"dataframe\">\n",
       "  <thead>\n",
       "    <tr style=\"text-align: right;\">\n",
       "      <th></th>\n",
       "      <th>업체</th>\n",
       "      <th>제품</th>\n",
       "      <th>가격</th>\n",
       "    </tr>\n",
       "  </thead>\n",
       "  <tbody>\n",
       "    <tr>\n",
       "      <th>0</th>\n",
       "      <td>별다방</td>\n",
       "      <td>아이스티</td>\n",
       "      <td>4500</td>\n",
       "    </tr>\n",
       "    <tr>\n",
       "      <th>1</th>\n",
       "      <td>별다방</td>\n",
       "      <td>카페오레</td>\n",
       "      <td>4000</td>\n",
       "    </tr>\n",
       "    <tr>\n",
       "      <th>2</th>\n",
       "      <td>콩다방</td>\n",
       "      <td>아이스티</td>\n",
       "      <td>6000</td>\n",
       "    </tr>\n",
       "    <tr>\n",
       "      <th>3</th>\n",
       "      <td>콩다방</td>\n",
       "      <td>카페오레</td>\n",
       "      <td>5500</td>\n",
       "    </tr>\n",
       "  </tbody>\n",
       "</table>\n",
       "</div>"
      ],
      "text/plain": [
       "    업체    제품    가격\n",
       "0  별다방  아이스티  4500\n",
       "1  별다방  카페오레  4000\n",
       "2  콩다방  아이스티  6000\n",
       "3  콩다방  카페오레  5500"
      ]
     },
     "execution_count": 13,
     "metadata": {},
     "output_type": "execute_result"
    }
   ],
   "source": [
    "data2 = [['별다방', '아이스티', 4500],\n",
    "         ['별다방', '카페오레', 4000],\n",
    "         ['콩다방', '아이스티', 6000],\n",
    "         ['콩다방', '카페오레', 5500]]\n",
    "df2 = pd.DataFrame(data2, columns=['업체', '제품', '가격'])\n",
    "df2"
   ]
  },
  {
   "cell_type": "code",
   "execution_count": 14,
   "metadata": {
    "colab": {
     "base_uri": "https://localhost:8080/",
     "height": 175
    },
    "id": "T8Vbr1cvhtRL",
    "outputId": "f6039a80-27a2-4623-b956-a280a453b94d"
   },
   "outputs": [
    {
     "data": {
      "text/html": [
       "<div>\n",
       "<style scoped>\n",
       "    .dataframe tbody tr th:only-of-type {\n",
       "        vertical-align: middle;\n",
       "    }\n",
       "\n",
       "    .dataframe tbody tr th {\n",
       "        vertical-align: top;\n",
       "    }\n",
       "\n",
       "    .dataframe thead th {\n",
       "        text-align: right;\n",
       "    }\n",
       "</style>\n",
       "<table border=\"1\" class=\"dataframe\">\n",
       "  <thead>\n",
       "    <tr style=\"text-align: right;\">\n",
       "      <th></th>\n",
       "      <th>업체</th>\n",
       "      <th>제품</th>\n",
       "      <th>가격</th>\n",
       "    </tr>\n",
       "  </thead>\n",
       "  <tbody>\n",
       "    <tr>\n",
       "      <th>0</th>\n",
       "      <td>별다방</td>\n",
       "      <td>아이스티</td>\n",
       "      <td>4500</td>\n",
       "    </tr>\n",
       "    <tr>\n",
       "      <th>1</th>\n",
       "      <td>별다방</td>\n",
       "      <td>카페오레</td>\n",
       "      <td>4000</td>\n",
       "    </tr>\n",
       "    <tr>\n",
       "      <th>2</th>\n",
       "      <td>콩다방</td>\n",
       "      <td>아이스티</td>\n",
       "      <td>6000</td>\n",
       "    </tr>\n",
       "    <tr>\n",
       "      <th>3</th>\n",
       "      <td>콩다방</td>\n",
       "      <td>카페오레</td>\n",
       "      <td>5500</td>\n",
       "    </tr>\n",
       "  </tbody>\n",
       "</table>\n",
       "</div>"
      ],
      "text/plain": [
       "    업체    제품    가격\n",
       "0  별다방  아이스티  4500\n",
       "1  별다방  카페오레  4000\n",
       "2  콩다방  아이스티  6000\n",
       "3  콩다방  카페오레  5500"
      ]
     },
     "execution_count": 14,
     "metadata": {},
     "output_type": "execute_result"
    }
   ],
   "source": [
    "# '제품' -> '음료'로 변경\n",
    "df2.rename(columns = {'제품':'음료'})\n",
    "df2 # 함수의 결과는 원본을 덮어쓰지 않는다"
   ]
  },
  {
   "cell_type": "code",
   "execution_count": 15,
   "metadata": {
    "colab": {
     "base_uri": "https://localhost:8080/",
     "height": 175
    },
    "id": "qbdZpEUnh2Iz",
    "outputId": "80adbac0-6cf8-458d-b4ea-39750d2d1bec"
   },
   "outputs": [
    {
     "data": {
      "text/html": [
       "<div>\n",
       "<style scoped>\n",
       "    .dataframe tbody tr th:only-of-type {\n",
       "        vertical-align: middle;\n",
       "    }\n",
       "\n",
       "    .dataframe tbody tr th {\n",
       "        vertical-align: top;\n",
       "    }\n",
       "\n",
       "    .dataframe thead th {\n",
       "        text-align: right;\n",
       "    }\n",
       "</style>\n",
       "<table border=\"1\" class=\"dataframe\">\n",
       "  <thead>\n",
       "    <tr style=\"text-align: right;\">\n",
       "      <th></th>\n",
       "      <th>업체</th>\n",
       "      <th>음료</th>\n",
       "      <th>가격</th>\n",
       "    </tr>\n",
       "  </thead>\n",
       "  <tbody>\n",
       "    <tr>\n",
       "      <th>0</th>\n",
       "      <td>별다방</td>\n",
       "      <td>아이스티</td>\n",
       "      <td>4500</td>\n",
       "    </tr>\n",
       "    <tr>\n",
       "      <th>1</th>\n",
       "      <td>별다방</td>\n",
       "      <td>카페오레</td>\n",
       "      <td>4000</td>\n",
       "    </tr>\n",
       "    <tr>\n",
       "      <th>2</th>\n",
       "      <td>콩다방</td>\n",
       "      <td>아이스티</td>\n",
       "      <td>6000</td>\n",
       "    </tr>\n",
       "    <tr>\n",
       "      <th>3</th>\n",
       "      <td>콩다방</td>\n",
       "      <td>카페오레</td>\n",
       "      <td>5500</td>\n",
       "    </tr>\n",
       "  </tbody>\n",
       "</table>\n",
       "</div>"
      ],
      "text/plain": [
       "    업체    음료    가격\n",
       "0  별다방  아이스티  4500\n",
       "1  별다방  카페오레  4000\n",
       "2  콩다방  아이스티  6000\n",
       "3  콩다방  카페오레  5500"
      ]
     },
     "execution_count": 15,
     "metadata": {},
     "output_type": "execute_result"
    }
   ],
   "source": [
    "df3 = df2.rename(columns = {'제품':'음료'})\n",
    "df3 # 이건 변경되어있음"
   ]
  },
  {
   "cell_type": "code",
   "execution_count": 16,
   "metadata": {
    "colab": {
     "base_uri": "https://localhost:8080/",
     "height": 206
    },
    "id": "6VFnEphohwxV",
    "outputId": "3cc58588-e97e-47b5-e928-941b62a2e4b8"
   },
   "outputs": [
    {
     "data": {
      "text/html": [
       "<div>\n",
       "<style scoped>\n",
       "    .dataframe tbody tr th:only-of-type {\n",
       "        vertical-align: middle;\n",
       "    }\n",
       "\n",
       "    .dataframe tbody tr th {\n",
       "        vertical-align: top;\n",
       "    }\n",
       "\n",
       "    .dataframe thead th {\n",
       "        text-align: right;\n",
       "    }\n",
       "</style>\n",
       "<table border=\"1\" class=\"dataframe\">\n",
       "  <thead>\n",
       "    <tr style=\"text-align: right;\">\n",
       "      <th></th>\n",
       "      <th>이름</th>\n",
       "      <th>업체</th>\n",
       "      <th>음료</th>\n",
       "      <th>가격</th>\n",
       "    </tr>\n",
       "  </thead>\n",
       "  <tbody>\n",
       "    <tr>\n",
       "      <th>0</th>\n",
       "      <td>송중기</td>\n",
       "      <td>별다방</td>\n",
       "      <td>아이스티</td>\n",
       "      <td>4500</td>\n",
       "    </tr>\n",
       "    <tr>\n",
       "      <th>1</th>\n",
       "      <td>김나현</td>\n",
       "      <td>콩다방</td>\n",
       "      <td>카페오레</td>\n",
       "      <td>5500</td>\n",
       "    </tr>\n",
       "    <tr>\n",
       "      <th>2</th>\n",
       "      <td>권보아</td>\n",
       "      <td>별다방</td>\n",
       "      <td>카페오레</td>\n",
       "      <td>4000</td>\n",
       "    </tr>\n",
       "    <tr>\n",
       "      <th>3</th>\n",
       "      <td>박효신</td>\n",
       "      <td>콩다방</td>\n",
       "      <td>아이스티</td>\n",
       "      <td>6000</td>\n",
       "    </tr>\n",
       "    <tr>\n",
       "      <th>4</th>\n",
       "      <td>김범수</td>\n",
       "      <td>별다방</td>\n",
       "      <td>카페오레</td>\n",
       "      <td>4000</td>\n",
       "    </tr>\n",
       "  </tbody>\n",
       "</table>\n",
       "</div>"
      ],
      "text/plain": [
       "    이름   업체    음료    가격\n",
       "0  송중기  별다방  아이스티  4500\n",
       "1  김나현  콩다방  카페오레  5500\n",
       "2  권보아  별다방  카페오레  4000\n",
       "3  박효신  콩다방  아이스티  6000\n",
       "4  김범수  별다방  카페오레  4000"
      ]
     },
     "execution_count": 16,
     "metadata": {},
     "output_type": "execute_result"
    }
   ],
   "source": [
    "# 병합하기\n",
    "df1.merge(df3, how='left')"
   ]
  },
  {
   "cell_type": "code",
   "execution_count": 17,
   "metadata": {
    "colab": {
     "base_uri": "https://localhost:8080/",
     "height": 206
    },
    "id": "MwX4P8XOQtda",
    "outputId": "e213ab43-7c9d-4bd0-8acb-91fade131c3a"
   },
   "outputs": [
    {
     "data": {
      "text/html": [
       "<div>\n",
       "<style scoped>\n",
       "    .dataframe tbody tr th:only-of-type {\n",
       "        vertical-align: middle;\n",
       "    }\n",
       "\n",
       "    .dataframe tbody tr th {\n",
       "        vertical-align: top;\n",
       "    }\n",
       "\n",
       "    .dataframe thead th {\n",
       "        text-align: right;\n",
       "    }\n",
       "</style>\n",
       "<table border=\"1\" class=\"dataframe\">\n",
       "  <thead>\n",
       "    <tr style=\"text-align: right;\">\n",
       "      <th></th>\n",
       "      <th>이름</th>\n",
       "      <th>업체</th>\n",
       "      <th>음료</th>\n",
       "      <th>가격</th>\n",
       "    </tr>\n",
       "  </thead>\n",
       "  <tbody>\n",
       "    <tr>\n",
       "      <th>0</th>\n",
       "      <td>송중기</td>\n",
       "      <td>별다방</td>\n",
       "      <td>아이스티</td>\n",
       "      <td>4500</td>\n",
       "    </tr>\n",
       "    <tr>\n",
       "      <th>1</th>\n",
       "      <td>김나현</td>\n",
       "      <td>콩다방</td>\n",
       "      <td>카페오레</td>\n",
       "      <td>5500</td>\n",
       "    </tr>\n",
       "    <tr>\n",
       "      <th>2</th>\n",
       "      <td>권보아</td>\n",
       "      <td>별다방</td>\n",
       "      <td>카페오레</td>\n",
       "      <td>4000</td>\n",
       "    </tr>\n",
       "    <tr>\n",
       "      <th>3</th>\n",
       "      <td>박효신</td>\n",
       "      <td>콩다방</td>\n",
       "      <td>아이스티</td>\n",
       "      <td>6000</td>\n",
       "    </tr>\n",
       "    <tr>\n",
       "      <th>4</th>\n",
       "      <td>김범수</td>\n",
       "      <td>별다방</td>\n",
       "      <td>카페오레</td>\n",
       "      <td>4000</td>\n",
       "    </tr>\n",
       "  </tbody>\n",
       "</table>\n",
       "</div>"
      ],
      "text/plain": [
       "    이름   업체    음료    가격\n",
       "0  송중기  별다방  아이스티  4500\n",
       "1  김나현  콩다방  카페오레  5500\n",
       "2  권보아  별다방  카페오레  4000\n",
       "3  박효신  콩다방  아이스티  6000\n",
       "4  김범수  별다방  카페오레  4000"
      ]
     },
     "execution_count": 17,
     "metadata": {},
     "output_type": "execute_result"
    }
   ],
   "source": [
    "# 이렇게도 사용 가능\n",
    "df1.merge(df2.rename(columns={'제품':'음료'}), how='left')"
   ]
  }
 ],
 "metadata": {
  "colab": {
   "provenance": []
  },
  "kernelspec": {
   "display_name": "Python 3 (ipykernel)",
   "language": "python",
   "name": "python3"
  },
  "language_info": {
   "codemirror_mode": {
    "name": "ipython",
    "version": 3
   },
   "file_extension": ".py",
   "mimetype": "text/x-python",
   "name": "python",
   "nbconvert_exporter": "python",
   "pygments_lexer": "ipython3",
   "version": "3.13.5"
  }
 },
 "nbformat": 4,
 "nbformat_minor": 4
}
