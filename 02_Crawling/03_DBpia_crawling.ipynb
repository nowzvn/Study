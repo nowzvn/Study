{
 "cells": [
  {
   "cell_type": "markdown",
   "id": "5b0c73f1-2be1-4456-a3af-08ea64cd3a29",
   "metadata": {},
   "source": [
    "# 03_DBpia 논문 크롤링"
   ]
  },
  {
   "cell_type": "code",
   "execution_count": 1,
   "id": "6b961297-e28c-4a00-806f-7dc729a4897b",
   "metadata": {},
   "outputs": [],
   "source": [
    "from selenium import webdriver\n",
    "from selenium.webdriver.chrome.options import Options\n",
    "from selenium.webdriver.chrome.service import Service\n",
    "from webdriver_manager.chrome import ChromeDriverManager\n",
    "from selenium.webdriver.common.by import By\n",
    "import pandas as pd"
   ]
  },
  {
   "cell_type": "code",
   "execution_count": 2,
   "id": "f3057b2c-d044-44a5-b0ce-1abbcc5a29df",
   "metadata": {},
   "outputs": [],
   "source": [
    "# ChromeDriver 설치 및 경로 설정\n",
    "service = Service(ChromeDriverManager().install())"
   ]
  },
  {
   "cell_type": "code",
   "execution_count": 3,
   "id": "5912e705-7135-471c-bd92-7da71c4c9765",
   "metadata": {},
   "outputs": [],
   "source": [
    "# 옵션 설정\n",
    "options = Options()\n",
    "options.add_experimental_option(\"detach\", True)  # 브라우저 자동 종료 방지\n",
    "options.add_experimental_option(\"excludeSwitches\", [\"enable-logging\"])  # 로그 제거"
   ]
  },
  {
   "cell_type": "code",
   "execution_count": 4,
   "id": "49fcd2a3-0200-42ac-8cda-0ec106abb256",
   "metadata": {},
   "outputs": [],
   "source": [
    "# DBpia 페이지 오픈\n",
    "browser = webdriver.Chrome(service=service, options=options)\n",
    "browser.get(\"https://www.dbpia.co.kr/search/topSearch?searchOption=all&query=%EC%86%8C%EB%B9%84%EC%9E%90%EC%8B%AC%EB%A6%AC%ED%95%99\")"
   ]
  },
  {
   "cell_type": "code",
   "execution_count": 5,
   "id": "5df96bdc-3325-4f54-85d8-0d9d2396ba84",
   "metadata": {},
   "outputs": [
    {
     "name": "stdout",
     "output_type": "stream",
     "text": [
      "https://www.dbpia.co.kr/journal/articleDetail?nodeId=NODE11097620\n"
     ]
    }
   ],
   "source": [
    "# 싱글 데이터 수집\n",
    "link = browser.find_element(By.CLASS_NAME, 'thesis__pageLink').get_attribute('href')\n",
    "print(link)"
   ]
  },
  {
   "cell_type": "code",
   "execution_count": 6,
   "id": "0ba913fa",
   "metadata": {},
   "outputs": [
    {
     "name": "stdout",
     "output_type": "stream",
     "text": [
      "20\n",
      "https://www.dbpia.co.kr/journal/articleDetail?nodeId=NODE11097620\n",
      "https://www.dbpia.co.kr/journal/articleDetail?nodeId=NODE07580344\n",
      "https://www.dbpia.co.kr/journal/articleDetail?nodeId=NODE12158500\n",
      "https://www.dbpia.co.kr/journal/articleDetail?nodeId=NODE08823776\n",
      "https://www.dbpia.co.kr/journal/articleDetail?nodeId=NODE07407887\n",
      "https://www.dbpia.co.kr/journal/articleDetail?nodeId=NODE12059910\n",
      "https://www.dbpia.co.kr/journal/articleDetail?nodeId=NODE11973056\n",
      "https://www.dbpia.co.kr/journal/articleDetail?nodeId=NODE07106350\n",
      "https://www.dbpia.co.kr/journal/articleDetail?nodeId=NODE11097604\n",
      "https://www.dbpia.co.kr/journal/articleDetail?nodeId=NODE11728958\n",
      "https://www.dbpia.co.kr/journal/articleDetail?nodeId=NODE11582810\n",
      "https://www.dbpia.co.kr/journal/articleDetail?nodeId=NODE11582809\n",
      "https://www.dbpia.co.kr/journal/articleDetail?nodeId=NODE11246294\n",
      "https://www.dbpia.co.kr/journal/articleDetail?nodeId=NODE11246282\n",
      "https://www.dbpia.co.kr/journal/articleDetail?nodeId=NODE11246283\n",
      "https://www.dbpia.co.kr/journal/detail?nodeId=T17054795\n",
      "https://www.dbpia.co.kr/journal/detail?nodeId=T17072540\n",
      "https://www.dbpia.co.kr/journal/detail?nodeId=T17072778\n",
      "https://www.dbpia.co.kr/journal/articleDetail?nodeId=NODE11246280\n",
      "https://www.dbpia.co.kr/journal/detail?nodeId=T16833054\n"
     ]
    }
   ],
   "source": [
    "con = browser.find_element(By.ID, 'paper-cards-section').find_elements(By.CLASS_NAME, 'thesis__subject')\n",
    "print(len(con))\n",
    "\n",
    "url_list = []\n",
    "data = []\n",
    "\n",
    "for i in con:\n",
    "    url = print(i.find_element(By.CLASS_NAME, 'thesis__pageLink').get_attribute('href'))\n",
    "    url_list.append(url)"
   ]
  },
  {
   "cell_type": "code",
   "execution_count": 7,
   "id": "c2b931d2",
   "metadata": {},
   "outputs": [
    {
     "name": "stdout",
     "output_type": "stream",
     "text": [
      "https://www.dbpia.co.kr/journal/articleDetail?nodeId=NODE11097620\n",
      "https://www.dbpia.co.kr/journal/articleDetail?nodeId=NODE07580344\n",
      "https://www.dbpia.co.kr/journal/articleDetail?nodeId=NODE12158500\n",
      "https://www.dbpia.co.kr/journal/articleDetail?nodeId=NODE08823776\n",
      "https://www.dbpia.co.kr/journal/articleDetail?nodeId=NODE07407887\n",
      "https://www.dbpia.co.kr/journal/articleDetail?nodeId=NODE12059910\n",
      "https://www.dbpia.co.kr/journal/articleDetail?nodeId=NODE11973056\n",
      "https://www.dbpia.co.kr/journal/articleDetail?nodeId=NODE07106350\n",
      "https://www.dbpia.co.kr/journal/articleDetail?nodeId=NODE11097604\n",
      "https://www.dbpia.co.kr/journal/articleDetail?nodeId=NODE11728958\n",
      "https://www.dbpia.co.kr/journal/articleDetail?nodeId=NODE11582810\n",
      "https://www.dbpia.co.kr/journal/articleDetail?nodeId=NODE11582809\n",
      "https://www.dbpia.co.kr/journal/articleDetail?nodeId=NODE11246294\n",
      "https://www.dbpia.co.kr/journal/articleDetail?nodeId=NODE11246282\n",
      "https://www.dbpia.co.kr/journal/articleDetail?nodeId=NODE11246283\n",
      "https://www.dbpia.co.kr/journal/detail?nodeId=T17054795\n",
      "https://www.dbpia.co.kr/journal/detail?nodeId=T17072540\n",
      "https://www.dbpia.co.kr/journal/detail?nodeId=T17072778\n",
      "https://www.dbpia.co.kr/journal/articleDetail?nodeId=NODE11246280\n",
      "https://www.dbpia.co.kr/journal/detail?nodeId=T16833054\n"
     ]
    }
   ],
   "source": [
    "import time\n",
    "\n",
    "containers = browser.find_element(By.ID, 'paper-cards-section').find_elements(By.CLASS_NAME, 'thesis__subject')\n",
    "url_list = []\n",
    "data = []\n",
    "\n",
    "for i in containers:\n",
    "    url = i.find_element(By.CLASS_NAME, 'thesis__pageLink').get_attribute('href')\n",
    "    print(url)\n",
    "    url_list.append(url)\n",
    "\n",
    "for url in url_list:\n",
    "    browser.get(url)\n",
    "    time.sleep(1)\n",
    "\n",
    "    try:\n",
    "        제목 = browser.find_element(By.CLASS_NAME, 'thesisDetail__tit').text\n",
    "        부제목 = browser.find_element(By.ID, 'thesisEqualTitle').text\n",
    "        초록 = browser.find_element(By.CLASS_NAME, 'abstractTxt').text\n",
    "    except:\n",
    "        pass\n",
    "\n",
    "    data.append({\n",
    "        '제목': 제목,\n",
    "        '부제목': 부제목,\n",
    "        '초록': 초록\n",
    "    })"
   ]
  },
  {
   "cell_type": "code",
   "execution_count": 8,
   "id": "50f526fa",
   "metadata": {},
   "outputs": [],
   "source": [
    "# 상세 페이지에서 제목, 부제목, 초록 크롤링\n",
    "for url in url_list:\n",
    "    browser.get(url)\n",
    "    time.sleep(1)\n",
    "\n",
    "    try:\n",
    "        제목 = browser.find_element(By.CLASS_NAME, 'thesisDetail__tit').text\n",
    "        부제목 = browser.find_element(By.ID, 'thesisEqualTitle').text\n",
    "        초록 = browser.find_element(By.CLASS_NAME, 'abstractTxt').text\n",
    "    except:\n",
    "        pass\n",
    "        \n",
    "    data.append({\n",
    "        '제목': 제목,\n",
    "        '부제목': 부제목,\n",
    "        '초록': 초록\n",
    "    })"
   ]
  },
  {
   "cell_type": "code",
   "execution_count": 9,
   "id": "731741d5",
   "metadata": {},
   "outputs": [],
   "source": [
    "df = pd.DataFrame(data)\n",
    "df.to_csv('data/DBpia_논문.csv', encoding='utf-8-sig', index=False)"
   ]
  },
  {
   "cell_type": "code",
   "execution_count": 10,
   "id": "912b6b6a",
   "metadata": {},
   "outputs": [],
   "source": [
    "url = 'https://www.dbpia.co.kr/search/topSearch?searchOption=all&query=%EC%86%8C%EB%B9%84%EC%9E%90%EC%8B%AC%EB%A6%AC%ED%95%99'\n",
    "browser.get(url)"
   ]
  },
  {
   "cell_type": "code",
   "execution_count": 11,
   "id": "9db3b66b",
   "metadata": {},
   "outputs": [],
   "source": [
    "containers = browser.find_element(By.ID, 'paper-cards-section').find_elements(By.CLASS_NAME, 'thesis__subject')\n",
    "url_list = []\n",
    "data = []\n",
    "\n",
    "for i in containers:\n",
    "    url = i.find_element(By.CLASS_NAME, 'thesis__pageLink').get_attribute('href')\n",
    "    print(url)\n",
    "\n",
    "    url_list.append(url)\n",
    "\n",
    "for final_url in url_list:\n",
    "    browser.get(final_url)\n",
    "    time.sleep(3)\n",
    "    \n",
    "    try:\n",
    "        제목 = browser.find_element(By.CLASS_NAME, 'thesisDetail__tit').text\n",
    "    except:\n",
    "        제목 = ''\n",
    "\n",
    "    try:\n",
    "        부제목 = browser.find_element(By.ID, 'thesisEqualTitle').text\n",
    "    except:\n",
    "        부제목 = ''\n",
    "\n",
    "    try:\n",
    "        초록 = browser.find_element(By.CLASS_NAME, 'abstractTxt').text\n",
    "    except:\n",
    "        초록 = ''\n",
    "\n",
    "    data.append({\n",
    "        '제목' : 제목,\n",
    "        '부제목' : 부제목,\n",
    "        '초록' : 초록\n",
    "    })"
   ]
  }
 ],
 "metadata": {
  "kernelspec": {
   "display_name": "Python 3 (ipykernel)",
   "language": "python",
   "name": "python3"
  },
  "language_info": {
   "codemirror_mode": {
    "name": "ipython",
    "version": 3
   },
   "file_extension": ".py",
   "mimetype": "text/x-python",
   "name": "python",
   "nbconvert_exporter": "python",
   "pygments_lexer": "ipython3",
   "version": "3.13.5"
  }
 },
 "nbformat": 4,
 "nbformat_minor": 5
}
