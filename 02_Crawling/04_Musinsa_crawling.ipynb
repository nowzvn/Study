{
 "cells": [
  {
   "cell_type": "markdown",
   "id": "3788280c",
   "metadata": {},
   "source": [
    "# 04_무신사 반팔 데이터"
   ]
  },
  {
   "cell_type": "code",
   "execution_count": 1,
   "id": "52509d87-2454-41fa-840e-1aa33c32890f",
   "metadata": {},
   "outputs": [],
   "source": [
    "from selenium import webdriver\n",
    "from selenium.webdriver.chrome.options import Options\n",
    "from selenium.webdriver.chrome.service import Service\n",
    "from webdriver_manager.chrome import ChromeDriverManager\n",
    "from selenium.webdriver.common.by import By\n",
    "import pandas as pd\n",
    "import time"
   ]
  },
  {
   "cell_type": "code",
   "execution_count": 2,
   "id": "49b21732-9047-4edc-8247-ac51097961d9",
   "metadata": {},
   "outputs": [],
   "source": [
    "# ChromeDriver 설치 및 경로 설정\n",
    "service = Service(ChromeDriverManager().install())"
   ]
  },
  {
   "cell_type": "code",
   "execution_count": 3,
   "id": "aefa9ca3-7cd7-4d7f-9ad5-29cbdeb33e3a",
   "metadata": {},
   "outputs": [],
   "source": [
    "# 옵션 설정\n",
    "options = Options()\n",
    "options.add_experimental_option(\"detach\", True)  # 브라우저 자동 종료 방지\n",
    "options.add_experimental_option(\"excludeSwitches\", [\"enable-logging\"])  # 로그 제거"
   ]
  },
  {
   "cell_type": "code",
   "execution_count": 4,
   "id": "7da3a72a-ef5c-4bcf-a4c2-7060a306357c",
   "metadata": {},
   "outputs": [],
   "source": [
    "# 페이지 오픈\n",
    "driver = webdriver.Chrome(service=service, options=options)\n",
    "driver.get(\"https://www.musinsa.com/search/goods?keyword=%EB%B0%98%ED%8C%94&keywordType=popular&gf=A\")\n",
    "time.sleep(5)"
   ]
  },
  {
   "cell_type": "code",
   "execution_count": 5,
   "id": "c2fdac0a",
   "metadata": {},
   "outputs": [
    {
     "name": "stdout",
     "output_type": "stream",
     "text": [
      "[INFO] 스크롤 완료, 데이터 수집 시작\n",
      "[INFO] 총 30개의 상품을 찾았습니다.\n",
      "[1] 오퍼스 0012 | Op. 07 IXO T-SHIRTS WHITE | 멤버스데이\n",
      "[2] 지프 | [190g] M-Logo 그래픽 반팔 티 (JR5TSU173WH) | 멤버스데이\n",
      "[3] 오언더알 | RIDING BIKE CAT 오버핏 반팔 티셔츠 (화이트) | 멤버스데이\n",
      "[4] 리 | 스몰 트위치 로고 2PACK 티셔츠 컬러 믹스 | 멤버스데이\n",
      "[5] 로긴 앤 로지 | Ribbon Printed Slim Ringer T-shirt Ivory | 멤버스데이\n",
      "[ERROR] 6번째 아이템 처리 중 오류: Message: no such element: Unable to locate element: {\"method\":\"css selector\",\"selector\":\"a[aria-label*='샵으로 이동']\"}\n",
      "  (Session info: chrome=138.0.7204.184); For documentation on this error, please visit: https://www.selenium.dev/documentation/webdriver/troubleshooting/errors#nosuchelementexception\n",
      "Stacktrace:\n",
      "0   chromedriver                        0x00000001031b8b38 cxxbridge1$str$ptr + 2722088\n",
      "1   chromedriver                        0x00000001031b0aa8 cxxbridge1$str$ptr + 2689176\n",
      "2   chromedriver                        0x0000000102d0233c cxxbridge1$string$len + 90648\n",
      "3   chromedriver                        0x0000000102d49494 cxxbridge1$string$len + 381808\n",
      "4   chromedriver                        0x0000000102d3ed34 cxxbridge1$string$len + 338960\n",
      "5   chromedriver                        0x0000000102d8a880 cxxbridge1$string$len + 649052\n",
      "6   chromedriver                        0x0000000102d3d784 cxxbridge1$string$len + 333408\n",
      "7   chromedriver                        0x000000010317beb4 cxxbridge1$str$ptr + 2473124\n",
      "8   chromedriver                        0x000000010317f120 cxxbridge1$str$ptr + 2486032\n",
      "9   chromedriver                        0x000000010315d6b4 cxxbridge1$str$ptr + 2348196\n",
      "10  chromedriver                        0x000000010317f9dc cxxbridge1$str$ptr + 2488268\n",
      "11  chromedriver                        0x000000010314e730 cxxbridge1$str$ptr + 2286880\n",
      "12  chromedriver                        0x000000010319f5f8 cxxbridge1$str$ptr + 2618344\n",
      "13  chromedriver                        0x000000010319f784 cxxbridge1$str$ptr + 2618740\n",
      "14  chromedriver                        0x00000001031b06e4 cxxbridge1$str$ptr + 2688212\n",
      "15  libsystem_pthread.dylib             0x0000000188bbac0c _pthread_start + 136\n",
      "16  libsystem_pthread.dylib             0x0000000188bb5b80 thread_start + 8\n",
      "\n",
      "[7] 어반디타입 | 썬 아웃 레터링 테리 링거 티셔츠_3color | 멤버스데이\n",
      "[8] 이자벨마랑 | 즈웰 반소매 티셔츠 - 화이트 / TS0001FBA1N09E20WH | 이자벨마랑\n",
      "[9] 위드썸 | 현생 사는 법 성실함 티셔츠 | 위드썸\n",
      "[10] 로긴 앤 로지 | Logo Spell Point Starry Ringer T-shirt Blue | 멤버스데이\n",
      "[11] 비바라비다 | Austin 반팔 티셔츠 | 멤버스데이\n",
      "[12] 렌세 | Back Point Boat Neck Half Tee Red | 멤버스데이\n",
      "[13] 더콜디스트모먼트 | TCM starfish logo crop T (sky blue) | 멤버스데이\n",
      "[14] 필루미네이트 | 오버핏 하트 티셔츠-화이트 | 필루미네이트\n",
      "[15] 더콜디스트모먼트 | TCM forest T (white) | 멤버스데이\n",
      "[16] 프렌다 | 97PDC LOGO LACE NECK TEE SKY BLUE | 멤버스데이\n",
      "[17] 지프 | [2PACK] 190g 싱글 에어그램 반팔 티셔츠 (JR5TSU159BK) | 멤버스데이\n",
      "[18] 로긴 앤 로지 | Heart Printed Cotton Ragian T-shirt Gray-Navy | 멤버스데이\n",
      "[19] 디미트리블랙 | VLAD 2WAY 투톤 반팔 집업 니트_베이지 | 멤버스데이\n",
      "[20] 아메스 월드와이드 | ROUND HEM CROP TEE KHAKI | 멤버스데이\n",
      "[21] 어반디타입 | [미홀 PICK] 풋볼 져지 티셔츠_화이트 | 멤버스데이\n",
      "[22] 트래블 | 워크샵 스탠다드 피그먼트 반팔티 크림 | 트래블\n",
      "[23] 워크온바디오프 | 아쿠아빗 쿨링 솔리드 오버핏 반팔 티셔츠 [차콜] | 워크온바디오프\n",
      "[24] 튜드먼트 | [꼬민지PICK] CAKE BEAR TEE CHARCOAL | 멤버스데이\n",
      "[25] 챔피온 | 빅 로고 피그먼트 반팔 티셔츠 Blue | 멤버스데이\n",
      "[26] 라우디 | Rowdys Beach Bar T-Shirt_Oatmeal | 멤버스데이\n",
      "[27] 허프 | SMALL ARCH LOGO TEE [2colors] | 멤버스데이\n",
      "[28] 모즈모즈 | [SET] 그래픽 피그먼트 오버핏 반팔티셔츠 PART04 | 멤버스데이\n",
      "[29] 에드워드벌룬 | ESSENTIAL BASIC TEE_7color 에센셜 반팔 티셔츠 | 멤버스데이\n",
      "[30] 다미쉬 | 썬앤문 레터링 헨리넥_화이트 | 멤버스데이\n"
     ]
    }
   ],
   "source": [
    "# 스크롤 (더 많은 상품 로딩)\n",
    "scroll_pause_time = 2\n",
    "last_height = driver.execute_script(\"return document.body.scrollHeight\")\n",
    "\n",
    "for i in range(3):\n",
    "    driver.execute_script(\"window.scrollTo(0, document.body.scrollHeight);\")\n",
    "    time.sleep(scroll_pause_time)\n",
    "    new_height = driver.execute_script(\"return document.body.scrollHeight\")\n",
    "    if new_height == last_height:\n",
    "        break\n",
    "    last_height = new_height\n",
    "\n",
    "print(\"[INFO] 스크롤 완료, 데이터 수집 시작\")\n",
    "\n",
    "# 상품 컨테이너 찾기\n",
    "items = driver.find_elements(By.CLASS_NAME, \"sc-d36st-1\")\n",
    "print(f\"[INFO] 총 {len(items)}개의 상품을 찾았습니다.\")\n",
    "\n",
    "data = []\n",
    "for idx, item in enumerate(items, start=1):\n",
    "    try:\n",
    "        # 브랜드명\n",
    "        brand = item.find_element(By.CSS_SELECTOR, \"a[aria-label*='샵으로 이동']\").text.strip()\n",
    "        # 상품명\n",
    "        product_name = item.find_element(By.CSS_SELECTOR, \"a[aria-label*='상품상세로 이동'] span\").text.strip()\n",
    "        # 가격\n",
    "        price = item.find_element(By.CSS_SELECTOR, \"span[data-mds='Typography']\").text.strip()\n",
    "        # 상품 링크\n",
    "        product_link = item.find_element(By.CSS_SELECTOR, \"a[aria-label*='상품 상세로 이동']\").get_attribute(\"href\")\n",
    "        # 이미지 링크\n",
    "        image_link = item.find_element(By.TAG_NAME, \"img\").get_attribute(\"src\")\n",
    "\n",
    "        # 좋아요 수 (없을 수도 있음)\n",
    "        try:\n",
    "            like_count = item.find_element(By.CSS_SELECTOR, \"span.text-red\").text.strip()\n",
    "        except:\n",
    "            like_count = \"\"\n",
    "\n",
    "        # 평점 (없을 수도 있음)\n",
    "        try:\n",
    "            rating = item.find_element(By.CSS_SELECTOR, \"span.text-yellow\").text.strip()\n",
    "        except:\n",
    "            rating = \"\"\n",
    "\n",
    "        data.append({\n",
    "            \"브랜드\": brand,\n",
    "            \"상품명\": product_name,\n",
    "            \"가격\": price,\n",
    "            \"좋아요\": like_count,\n",
    "            \"평점\": rating,\n",
    "            \"상품 링크\": product_link,\n",
    "            \"이미지 링크\": image_link\n",
    "        })\n",
    "\n",
    "        print(f\"[{idx}] {brand} | {product_name} | {price}\")\n",
    "        \n",
    "    except Exception as e:\n",
    "        print(f\"[ERROR] {idx}번째 아이템 처리 중 오류: {e}\")"
   ]
  },
  {
   "cell_type": "code",
   "execution_count": 6,
   "id": "d39e791d-e130-4611-9a9e-7a12bd8f67f8",
   "metadata": {},
   "outputs": [],
   "source": [
    "df = pd.DataFrame(data)\n",
    "df.to_csv(\"data/무신사_반팔.csv\", index=False, encoding=\"utf-8-sig\")"
   ]
  },
  {
   "cell_type": "code",
   "execution_count": 7,
   "id": "e63083ce-8f97-4868-978b-90a3e3ab042f",
   "metadata": {},
   "outputs": [],
   "source": [
    "# 종료\n",
    "driver.quit()"
   ]
  }
 ],
 "metadata": {
  "kernelspec": {
   "display_name": "Python 3 (ipykernel)",
   "language": "python",
   "name": "python3"
  },
  "language_info": {
   "codemirror_mode": {
    "name": "ipython",
    "version": 3
   },
   "file_extension": ".py",
   "mimetype": "text/x-python",
   "name": "python",
   "nbconvert_exporter": "python",
   "pygments_lexer": "ipython3",
   "version": "3.13.5"
  }
 },
 "nbformat": 4,
 "nbformat_minor": 5
}
