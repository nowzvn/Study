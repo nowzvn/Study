{
 "cells": [
  {
   "cell_type": "markdown",
   "id": "4e0b7f7a",
   "metadata": {},
   "source": [
    "# 01_네이버 날씨, 부동산 크롤링"
   ]
  },
  {
   "cell_type": "code",
   "execution_count": 1,
   "id": "d571145d-f6a0-411f-8f23-10fc677e2adc",
   "metadata": {},
   "outputs": [],
   "source": [
    "from selenium import webdriver\n",
    "from selenium.webdriver.chrome.options import Options\n",
    "from selenium.webdriver.chrome.service import Service\n",
    "from webdriver_manager.chrome import ChromeDriverManager\n",
    "from selenium.webdriver.common.by import By"
   ]
  },
  {
   "cell_type": "code",
   "execution_count": 2,
   "id": "d4a1dc79-f6ec-48b9-9f33-2735cb884a28",
   "metadata": {},
   "outputs": [],
   "source": [
    "# ChromeDriver 설치 및 경로 설정\n",
    "service = Service(ChromeDriverManager().install())"
   ]
  },
  {
   "cell_type": "code",
   "execution_count": 3,
   "id": "2889aae2-6bc4-42e0-b1e9-fceab42c14a4",
   "metadata": {},
   "outputs": [],
   "source": [
    "# 옵션 설정\n",
    "options = Options()\n",
    "options.add_experimental_option(\"detach\", True)  # 브라우저 자동 종료 방지\n",
    "options.add_experimental_option(\"excludeSwitches\", [\"enable-logging\"])  # 로그 제거"
   ]
  },
  {
   "cell_type": "code",
   "execution_count": 4,
   "id": "65c733b1-0c76-4c2e-ac07-188e1413fdff",
   "metadata": {},
   "outputs": [],
   "source": [
    "# 브라우저 오픈\n",
    "browser = webdriver.Chrome(service=service, options=options)\n",
    "browser.get(\"https://www.naver.com\")"
   ]
  },
  {
   "cell_type": "code",
   "execution_count": 5,
   "id": "4f117d28-abfe-45a2-85e2-619a705b03bf",
   "metadata": {},
   "outputs": [],
   "source": [
    "# 네이버 날씨 페이지 이동\n",
    "url = \"http://weather.naver.com\"\n",
    "browser.get(url)"
   ]
  },
  {
   "cell_type": "code",
   "execution_count": 6,
   "id": "97ae9183",
   "metadata": {},
   "outputs": [
    {
     "name": "stdout",
     "output_type": "stream",
     "text": [
      "위치: 강남구 청담동\n",
      "온도: 33°\n"
     ]
    }
   ],
   "source": [
    "location = browser.find_element(By.CLASS_NAME, \"location_name\").text\n",
    "temperature = browser.find_element(By.CLASS_NAME, \"card_now_temperature\").text\n",
    "print(f'위치: {location}')\n",
    "print(f'온도: {temperature}')"
   ]
  },
  {
   "cell_type": "code",
   "execution_count": 7,
   "id": "14db47ea-af55-4947-b657-110d38a18777",
   "metadata": {},
   "outputs": [],
   "source": [
    "# 네이버 부동산 페이지 이동\n",
    "url = \"https://new.land.naver.com/complexes/12826?ms=37.5181459,127.0594676,17&a=PRE:APT&e=RETAIL\"\n",
    "browser.get(url)"
   ]
  },
  {
   "cell_type": "code",
   "execution_count": 8,
   "id": "5b4016ad-5323-48f8-ae01-7f6929d721f1",
   "metadata": {},
   "outputs": [
    {
     "data": {
      "text/plain": [
       "'유형 아파트 세대수 449세대 동수 총 3동 사용승인일 2004.03.18 면적 182.87㎡ ~ 345.15㎡'"
      ]
     },
     "execution_count": 8,
     "metadata": {},
     "output_type": "execute_result"
    }
   ],
   "source": [
    "# 정보 가져오기\n",
    "browser.find_element(By.CLASS_NAME, \"complex_feature\").text.replace(\"\\n\", \" \")"
   ]
  },
  {
   "cell_type": "code",
   "execution_count": 9,
   "id": "e0fd1fc8-6ad5-4d29-a426-b84cf78748ca",
   "metadata": {},
   "outputs": [
    {
     "data": {
      "text/plain": [
       "['최근 매매 실거래가', '78억', '2025.07.08, 42층, 182㎡']"
      ]
     },
     "execution_count": 9,
     "metadata": {},
     "output_type": "execute_result"
    }
   ],
   "source": [
    "browser.find_element(By.CLASS_NAME, \"complex_price--trade\").text.split('\\n')"
   ]
  },
  {
   "cell_type": "code",
   "execution_count": 10,
   "id": "d0c2615a-7a0c-4c26-97c9-43408aa26e95",
   "metadata": {},
   "outputs": [
    {
     "data": {
      "text/plain": [
       "'아이파크삼성 웨스트윙동'"
      ]
     },
     "execution_count": 10,
     "metadata": {},
     "output_type": "execute_result"
    }
   ],
   "source": [
    "# 매물 1개 데이터 수집 (동, 가격, 매물정보)\n",
    "browser.find_element(By.CLASS_NAME, \"item_title\").find_element(By.CLASS_NAME, \"text\").text"
   ]
  },
  {
   "cell_type": "code",
   "execution_count": 12,
   "id": "9acf6322-5860-451e-b9ec-73e7c5d770ae",
   "metadata": {},
   "outputs": [
    {
     "data": {
      "text/plain": [
       "'현장아이파크삼성 웨스트윙동'"
      ]
     },
     "execution_count": 12,
     "metadata": {},
     "output_type": "execute_result"
    }
   ],
   "source": [
    "# 두가지 방식으로 집주인을 자를수있음\n",
    "browser.find_element(By.CLASS_NAME, \"item_title\").text.replace('집주인','')"
   ]
  },
  {
   "cell_type": "code",
   "execution_count": 13,
   "id": "2432ffe7-7b08-433e-9829-a60c2e7a6570",
   "metadata": {},
   "outputs": [
    {
     "data": {
      "text/plain": [
       "'전세42억'"
      ]
     },
     "execution_count": 13,
     "metadata": {},
     "output_type": "execute_result"
    }
   ],
   "source": [
    "browser.find_element(By.CLASS_NAME, \"price_line\").text"
   ]
  },
  {
   "cell_type": "code",
   "execution_count": 14,
   "id": "a7ed43c5-c95c-4bc1-a301-dc9b89f3296b",
   "metadata": {},
   "outputs": [
    {
     "data": {
      "text/plain": [
       "'아파트216/175m², 고/46층, 남동향\\n한강조망 로얄층 입주협의 합리적가격 올 수리 예정'"
      ]
     },
     "execution_count": 14,
     "metadata": {},
     "output_type": "execute_result"
    }
   ],
   "source": [
    "browser.find_element(By.CLASS_NAME, 'info_area').text"
   ]
  },
  {
   "cell_type": "code",
   "execution_count": 16,
   "id": "b3111a7d-6159-4f50-958e-3c835a3f85b1",
   "metadata": {},
   "outputs": [
    {
     "name": "stdout",
     "output_type": "stream",
     "text": [
      "전세42억\n",
      "매매150억\n",
      "매매150억\n",
      "월세5억/2,000\n",
      "매매100억\n",
      "매매100억\n",
      "매매95억\n",
      "매매80억\n",
      "매매100억\n",
      "월세5억/2,000\n",
      "월세6억/2,000\n",
      "매매130억\n",
      "월세6억/2,000\n",
      "매매100억\n",
      "매매100억\n",
      "월세6억/2,000\n",
      "매매95억\n",
      "전세35억\n",
      "월세5억/2,000\n",
      "전세35억\n"
     ]
    }
   ],
   "source": [
    "# s가 붙는 순간 리스트로 바뀜\n",
    "data = browser.find_elements(By.CLASS_NAME, \"price_line\")\n",
    "for i in data:\n",
    "    print(i.text)"
   ]
  }
 ],
 "metadata": {
  "kernelspec": {
   "display_name": "Python 3 (ipykernel)",
   "language": "python",
   "name": "python3"
  },
  "language_info": {
   "codemirror_mode": {
    "name": "ipython",
    "version": 3
   },
   "file_extension": ".py",
   "mimetype": "text/x-python",
   "name": "python",
   "nbconvert_exporter": "python",
   "pygments_lexer": "ipython3",
   "version": "3.13.5"
  }
 },
 "nbformat": 4,
 "nbformat_minor": 5
}
