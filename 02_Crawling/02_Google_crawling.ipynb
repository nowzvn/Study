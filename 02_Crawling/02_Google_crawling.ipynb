{
 "cells": [
  {
   "cell_type": "markdown",
   "id": "5b0c73f1-2be1-4456-a3af-08ea64cd3a29",
   "metadata": {},
   "source": [
    "# 02_구글 뉴스 크롤링"
   ]
  },
  {
   "cell_type": "code",
   "execution_count": 1,
   "id": "6b961297-e28c-4a00-806f-7dc729a4897b",
   "metadata": {},
   "outputs": [],
   "source": [
    "from selenium import webdriver\n",
    "from selenium.webdriver.chrome.options import Options\n",
    "from selenium.webdriver.chrome.service import Service\n",
    "from webdriver_manager.chrome import ChromeDriverManager\n",
    "from selenium.webdriver.common.by import By\n",
    "import pandas as pd"
   ]
  },
  {
   "cell_type": "code",
   "execution_count": 2,
   "id": "12ec4e30-1856-4b82-8d4a-7b99d69fcb8c",
   "metadata": {},
   "outputs": [],
   "source": [
    "# ChromeDriver 설치 및 경로 설정\n",
    "service = Service(ChromeDriverManager().install())"
   ]
  },
  {
   "cell_type": "code",
   "execution_count": 3,
   "id": "d48c59db-16a8-4b79-8cc4-3e41cea3496d",
   "metadata": {},
   "outputs": [],
   "source": [
    "# 옵션 설정\n",
    "options = Options()\n",
    "options.add_experimental_option(\"detach\", True)  # 브라우저 자동 종료 방지\n",
    "options.add_experimental_option(\"excludeSwitches\", [\"enable-logging\"])  # 로그 제거"
   ]
  },
  {
   "cell_type": "code",
   "execution_count": 4,
   "id": "7b774117-151d-4925-b466-70065ba84fdc",
   "metadata": {},
   "outputs": [],
   "source": [
    "# 구글 뉴스 '데이터분석' 페이지 오픈\n",
    "browser = webdriver.Chrome(service=service, options=options)\n",
    "browser.get(\"https://www.google.com/search?sca_esv=9ae82e7bfb083ba5&q=%EB%8D%B0%EC%9D%B4%ED%84%B0%EB%B6%84%EC%84%9D&tbm=nws&source=lnms&fbs=AIIjpHyDg0Pef0CibV20xjIa-FRejxCuOmkq074km2sZXr7uq8hqY3b-NkqmHBgKS9xzRFvmt2Ynr6EwIiBCxWMhyupNseHQZnS7dDYmYbVaYWWv77Wfe-S1ycUpnsnXg3O2MXfUIADStDHSa8xOLS0PB7W0r2gw01oMrPFAUE_bNPLtTqUB-pQbqU_-qdw5p3iw0AS-rORF308hzymajv6y0y1A4BXAO-QPxdQAmCOxGR7j0ba7Vw0&sa=X&ved=2ahUKEwi_qpTAveeOAxW3slYBHehLNhEQ0pQJegQIIBAB&biw=1309&bih=700&dpr=2\")"
   ]
  },
  {
   "cell_type": "code",
   "execution_count": 5,
   "id": "5df96bdc-3325-4f54-85d8-0d9d2396ba84",
   "metadata": {},
   "outputs": [
    {
     "name": "stdout",
     "output_type": "stream",
     "text": [
      "Samsung SDS\n",
      "데이터 중심 시대: 빅데이터 분석의 비즈니스 혁신 사례 | 인사이트리포트 | 삼성SDS\n",
      "이 아티클에서는 AI 시대에 데이터가 가지고 있는 힘과 비즈니스적 가치, 새로운 사업에 대한 혁신 방안을 전망합니다.\n",
      "10시간 전\n",
      "https://www.samsungsds.com/kr/insights/data-driven-era-big-data-analytics.html\n"
     ]
    }
   ],
   "source": [
    "# 뉴스 수집\n",
    "언론사 = browser.find_element(By.CLASS_NAME, 'MgUUmf').text\n",
    "제목 = browser.find_element(By.CLASS_NAME, 'n0jPhd').text\n",
    "내용 = browser.find_element(By.CLASS_NAME, 'GI74Re').text\n",
    "작성일 = browser.find_element(By.CLASS_NAME, 'rbYSKb').text\n",
    "링크 = browser.find_element(By.CLASS_NAME, 'WlydOe').get_attribute('href')\n",
    "\n",
    "print(언론사)\n",
    "print(제목)\n",
    "print(내용)\n",
    "print(작성일)\n",
    "print(링크)"
   ]
  },
  {
   "cell_type": "code",
   "execution_count": 6,
   "id": "0ba913fa",
   "metadata": {},
   "outputs": [
    {
     "name": "stdout",
     "output_type": "stream",
     "text": [
      "데이터 중심 시대: 빅데이터 분석의 비즈니스 혁신 사례 | 인사이트리포트 | 삼성SDS\n",
      "포스코, 오라클 자율운영 DB 도입…데이터 분석 속도 2.4배 향상\n",
      "벼룩시장, 2025년 상반기 이력서 데이터 분석 결과 발표\n",
      "오라클, 포스코에 'ADW' 공급…\"DB 분석 2.4배 빨라\"\n",
      "성동구, 빅데이터 분석·활용해 도시 문제 해결할 준전문가 모집\n",
      "구글 딥마인드, 지구 관측 AI 알파어스 공개…위성 데이터 분석 혁신\n",
      "라면 브랜드평판 7월 빅데이터 분석···1위 신라면, 2위 불닭볶음면, 3위 짜파게티\n",
      "줄리어스 AI, 천만 달러 시드 투자유치…”말하면 데이터 분석과 차트 제작”\n",
      "포스코, 오라클 자율운영 데이터 웨어하우스 구축\n",
      "새만금개발청, 데이터 분석·활용 우수 사례 10건 선정\n"
     ]
    }
   ],
   "source": [
    "# 1페이지 전체 뉴스 데이터 수집 - 첫번째 방법\n",
    "titles = browser.find_elements(By.CLASS_NAME, 'n0jPhd')\n",
    "for i in titles:\n",
    "    print(i.text)"
   ]
  },
  {
   "cell_type": "code",
   "execution_count": 7,
   "id": "25c3e187",
   "metadata": {},
   "outputs": [
    {
     "name": "stdout",
     "output_type": "stream",
     "text": [
      "{1} 번째 데이터 수집중...\n",
      "{2} 번째 데이터 수집중...\n",
      "{3} 번째 데이터 수집중...\n",
      "{4} 번째 데이터 수집중...\n",
      "{5} 번째 데이터 수집중...\n",
      "{6} 번째 데이터 수집중...\n",
      "{7} 번째 데이터 수집중...\n",
      "{8} 번째 데이터 수집중...\n",
      "{9} 번째 데이터 수집중...\n",
      "{10} 번째 데이터 수집중...\n"
     ]
    }
   ],
   "source": [
    "# 1페이지 전체 뉴스 데이터 수집 - 두번째 방법\n",
    "# 컨테이너의 클래스 찾기 - SoaBEf\n",
    "\n",
    "# 이렇게도\n",
    "# browser.find_element(By.CLASS_NAME, 'SoaBEf').find_element(By.CLASS_NAME, 'MgUUmf').text\n",
    "\n",
    "# 이렇게도\n",
    "# browser.find_element(By.CLASS_NAME, 'SoaBEf').text\n",
    "\n",
    "con = browser.find_elements(By.CLASS_NAME, 'SoaBEf')\n",
    "data = []\n",
    "\n",
    "for index, i in enumerate(con):\n",
    "    print({index+1}, '번째 데이터 수집중...')\n",
    "    언론사 = i.find_element(By.CLASS_NAME, 'MgUUmf').text\n",
    "    제목 = i.find_element(By.CLASS_NAME, 'n0jPhd').text\n",
    "    내용 = i.find_element(By.CLASS_NAME, 'GI74Re').text\n",
    "    작성일 = i.find_element(By.CLASS_NAME, 'rbYSKb').text\n",
    "    링크 = i.find_element(By.CLASS_NAME, 'WlydOe').get_attribute('href')\n",
    "    \n",
    "    data.append({\n",
    "        '제목':제목,\n",
    "        '언론사':언론사,\n",
    "        '내용':내용,\n",
    "        '작성일':작성일,\n",
    "        '링크':링크\n",
    "    })\n"
   ]
  },
  {
   "cell_type": "code",
   "execution_count": 9,
   "id": "d5f7b839",
   "metadata": {},
   "outputs": [],
   "source": [
    "# 데이터 저장\n",
    "df = pd.DataFrame(data)\n",
    "df.to_csv('data/구글뉴스_1.csv', encoding='utf-8-sig')\n",
    "\n",
    "# import os\n",
    "# os.getcwd()"
   ]
  },
  {
   "cell_type": "code",
   "execution_count": 10,
   "id": "71bf0e95",
   "metadata": {},
   "outputs": [
    {
     "name": "stdout",
     "output_type": "stream",
     "text": [
      "키워드: 생성형 AI\n",
      "1페이지: 1번째 데이터 수집중...\n",
      "1페이지: 2번째 데이터 수집중...\n",
      "1페이지: 3번째 데이터 수집중...\n",
      "1페이지: 4번째 데이터 수집중...\n",
      "1페이지: 5번째 데이터 수집중...\n",
      "1페이지: 6번째 데이터 수집중...\n",
      "1페이지: 7번째 데이터 수집중...\n",
      "2페이지: 1번째 데이터 수집중...\n",
      "2페이지: 2번째 데이터 수집중...\n",
      "2페이지: 3번째 데이터 수집중...\n",
      "2페이지: 4번째 데이터 수집중...\n",
      "2페이지: 5번째 데이터 수집중...\n",
      "2페이지: 6번째 데이터 수집중...\n",
      "2페이지: 7번째 데이터 수집중...\n",
      "2페이지: 8번째 데이터 수집중...\n",
      "2페이지: 9번째 데이터 수집중...\n",
      "2페이지: 10번째 데이터 수집중...\n",
      "3페이지: 1번째 데이터 수집중...\n",
      "3페이지: 2번째 데이터 수집중...\n",
      "3페이지: 3번째 데이터 수집중...\n",
      "3페이지: 4번째 데이터 수집중...\n",
      "3페이지: 5번째 데이터 수집중...\n",
      "3페이지: 6번째 데이터 수집중...\n",
      "3페이지: 7번째 데이터 수집중...\n",
      "3페이지: 8번째 데이터 수집중...\n",
      "3페이지: 9번째 데이터 수집중...\n",
      "3페이지: 10번째 데이터 수집중...\n",
      "키워드: 데이터\n",
      "1페이지: 1번째 데이터 수집중...\n",
      "1페이지: 2번째 데이터 수집중...\n",
      "1페이지: 3번째 데이터 수집중...\n",
      "1페이지: 4번째 데이터 수집중...\n",
      "1페이지: 5번째 데이터 수집중...\n",
      "1페이지: 6번째 데이터 수집중...\n",
      "1페이지: 7번째 데이터 수집중...\n",
      "1페이지: 8번째 데이터 수집중...\n",
      "2페이지: 1번째 데이터 수집중...\n",
      "2페이지: 2번째 데이터 수집중...\n",
      "2페이지: 3번째 데이터 수집중...\n",
      "2페이지: 4번째 데이터 수집중...\n",
      "2페이지: 5번째 데이터 수집중...\n",
      "2페이지: 6번째 데이터 수집중...\n",
      "2페이지: 7번째 데이터 수집중...\n",
      "2페이지: 8번째 데이터 수집중...\n",
      "2페이지: 9번째 데이터 수집중...\n",
      "2페이지: 10번째 데이터 수집중...\n",
      "3페이지: 1번째 데이터 수집중...\n",
      "3페이지: 2번째 데이터 수집중...\n",
      "3페이지: 3번째 데이터 수집중...\n",
      "3페이지: 4번째 데이터 수집중...\n",
      "3페이지: 5번째 데이터 수집중...\n",
      "3페이지: 6번째 데이터 수집중...\n",
      "3페이지: 7번째 데이터 수집중...\n",
      "3페이지: 8번째 데이터 수집중...\n",
      "3페이지: 9번째 데이터 수집중...\n",
      "3페이지: 10번째 데이터 수집중...\n"
     ]
    }
   ],
   "source": [
    "import time\n",
    "import random\n",
    "\n",
    "data = []\n",
    "keywords =['생성형 AI', '데이터']\n",
    "\n",
    "for keyword in keywords:\n",
    "    print(f'키워드: {keyword}')\n",
    "    page = 1\n",
    "    \n",
    "    # 페이지이동\n",
    "    for num in range(0, 30, 10):\n",
    "        url = f'https://www.google.com/search?q={keyword}&sca_esv=edb9f998570affa4&hl=ko&tbm=nws&ei=C1N4aOCoDPG90-kPhanUqAs&start={num}&sa=N&ved=2ahUKEwig2paJ4MKOAxXx3jQHHYUUFbUQ8tMDegQIBhAE&biw=929&bih=867&dpr=1'\n",
    "        time.sleep(random.randint(1, 5))\n",
    "        browser.get(url)\n",
    "        con = browser.find_elements(By.CLASS_NAME, 'SoaBEf')\n",
    "        \n",
    "        for index, i in enumerate(con):\n",
    "            print(f'{page}페이지: {index + 1}번째 데이터 수집중...')\n",
    "            언론사 = i.find_element(By.CLASS_NAME, 'MgUUmf').text\n",
    "            제목 = i.find_element(By.CLASS_NAME, 'n0jPhd').text\n",
    "            내용 = i.find_element(By.CLASS_NAME, 'GI74Re').text\n",
    "            작성일 = i.find_element(By.CLASS_NAME, 'rbYSKb').text\n",
    "            링크 = i.find_element(By.CLASS_NAME, 'WlydOe').get_attribute('href')\n",
    "            \n",
    "            data.append({\n",
    "                '키워드': keyword,\n",
    "                '제목' : 제목,\n",
    "                '언론사' : 언론사,\n",
    "                '내용' : 내용,\n",
    "                '작성일' : 작성일,\n",
    "                '링크' : 링크\n",
    "            })\n",
    "        page += 1"
   ]
  },
  {
   "cell_type": "code",
   "execution_count": 11,
   "id": "f56ae060",
   "metadata": {},
   "outputs": [],
   "source": [
    "df = pd.DataFrame(data)\n",
    "df.to_csv('data/구글뉴스_2.csv', encoding='utf-8-sig')"
   ]
  }
 ],
 "metadata": {
  "kernelspec": {
   "display_name": "Python 3 (ipykernel)",
   "language": "python",
   "name": "python3"
  },
  "language_info": {
   "codemirror_mode": {
    "name": "ipython",
    "version": 3
   },
   "file_extension": ".py",
   "mimetype": "text/x-python",
   "name": "python",
   "nbconvert_exporter": "python",
   "pygments_lexer": "ipython3",
   "version": "3.13.5"
  }
 },
 "nbformat": 4,
 "nbformat_minor": 5
}
