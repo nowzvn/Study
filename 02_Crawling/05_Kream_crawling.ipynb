{
 "cells": [
  {
   "cell_type": "markdown",
   "id": "41a4d379-6a65-45f8-98ee-6118ac16476f",
   "metadata": {},
   "source": [
    "# 05_크림 나이키 데이터"
   ]
  },
  {
   "cell_type": "code",
   "execution_count": 1,
   "id": "402fe766-5ce0-4497-a405-d6e3062313b4",
   "metadata": {},
   "outputs": [],
   "source": [
    "from selenium import webdriver\n",
    "from selenium.webdriver.chrome.options import Options\n",
    "from selenium.webdriver.chrome.service import Service\n",
    "from webdriver_manager.chrome import ChromeDriverManager\n",
    "from selenium.webdriver.common.by import By\n",
    "import pandas as pd\n",
    "import time"
   ]
  },
  {
   "cell_type": "code",
   "execution_count": 2,
   "id": "b12fad30-b735-4d73-a38b-ffd4fa05ffc3",
   "metadata": {},
   "outputs": [],
   "source": [
    "# ChromeDriver 설치 및 경로 설정\n",
    "service = Service(ChromeDriverManager().install())"
   ]
  },
  {
   "cell_type": "code",
   "execution_count": 3,
   "id": "3d906358-072b-4e69-85f3-81d657df4ce2",
   "metadata": {},
   "outputs": [],
   "source": [
    "# 옵션 설정\n",
    "options = Options()\n",
    "options.add_experimental_option(\"detach\", True)  # 브라우저 자동 종료 방지\n",
    "options.add_experimental_option(\"excludeSwitches\", [\"enable-logging\"])  # 로그 제거"
   ]
  },
  {
   "cell_type": "code",
   "execution_count": 5,
   "id": "1456beb9-02ce-44e1-b0ff-4ade3353af3e",
   "metadata": {},
   "outputs": [],
   "source": [
    "# 페이지 오픈\n",
    "driver = webdriver.Chrome(service=service, options=options)\n",
    "url = 'https://kream.co.kr/search?keyword=%EB%82%98%EC%9D%B4%ED%82%A4&tab=products&footer=home'\n",
    "driver.get(url)\n",
    "time.sleep(3)"
   ]
  },
  {
   "cell_type": "code",
   "execution_count": 7,
   "id": "4d46a3a5",
   "metadata": {},
   "outputs": [
    {
     "name": "stdout",
     "output_type": "stream",
     "text": [
      "총 수집된 제품 개수: 50개\n",
      "[1] 나이키 에어포스 1 '07 로우 화이트 - 99,000원\n",
      "[2] 나이키 에어포스 1 '07 WB 플랙스 - 120,000원\n",
      "[3] 나이키 에어포스 1 '07 로우 트리플 블랙 - 104,000원\n",
      "[4] (W) 나이키 에어 슈퍼플라이 메탈릭 실버 앤 블랙 - 116,000원\n",
      "[5] 나이키 줌 플라이 6 화이트 스모크 그레이 - 138,000원\n",
      "[6] 나이키 줌 플라이 6 화이트 퓨어 플래티넘 - 140,000원\n",
      "[7] (W) 나이키 스포츠웨어 칠 니트 그래픽 티셔츠 미드나잇 네이비 - 66,000원\n",
      "[8] (W) 나이키 에어포스 1 '07 WB 플랙스 위트 - 100,000원\n",
      "[9] 나이키 브라질리아 9.5 트레이닝 더플백 스몰 41L 블랙 - 31,000원\n",
      "[10] 나이키 리액트X 리주버네이트 슬라이드 블랙 - 61,000원\n",
      "[11] 나이키 토탈 90 3 SP 라이트 오어우드 브라운 블랙 - 164,000원\n",
      "[12] 나이키 호나우지뉴 브라질 2004 토탈 90 리이슈 사커 레플리카 저지 (마킹 버전) - 198,000원\n",
      "[13] 나이키 리액트X 리주버네이트 라이트 오어우드 브라운 - 107,000원\n",
      "[14] (W) 나이키 에어맥스 뮤즈 블랙 앤 메탈릭 실버 - 151,000원\n",
      "[15] 나이키 코비 6 프로트로 토탈 오렌지 - 293,000원\n",
      "[16] 나이키 FC 바르셀로나 2025/26 스타디움 홈 드라이핏 풋볼 레플리카 저지 딥 로얄 블루 노블 레드 (논 마킹 버전) - 121,000원\n",
      "[17] 나이키 V2K 런 서밋 화이트 메탈릭 실버 - 77,000원\n",
      "[18] 나이키 줌 플라이 6 블랙 라이트 스모크 그레이 - 119,000원\n",
      "[19] 나이키 ACG 트레일 캡 블랙 - 43,000원\n",
      "[20] 나이키 에어 줌 알파플라이 넥스트% 3 화이트 퓨어 플래티넘 - 258,000원\n",
      "[21] (W) 나이키 에어포스 1 '07 로우 화이트 - 94,000원\n",
      "[22] 나이키 V2K 런 블랙 앤트러사이트 - 81,000원\n",
      "[23] 나이키 x 슈프림 에어포스 1 로우 화이트 - 169,000원\n",
      "[24] 나이키 리액트X 리주버네이트 트리플 블랙 - 100,000원\n",
      "[25] 나이키 에어맥스 95 OG 화이트 앤 블랙 - 270,000원\n",
      "[26] 나이키 줌 보메로 5 포톤 더스트 그리드아이언 - 112,000원\n",
      "[27] (W) 나이키 샥스 R4 블랙 - 139,000원\n",
      "[28] 나이키 드라이핏 스트라이드 5인치 브리프 라인드 러닝 쇼츠 블랙 - 아시아 - 43,000원\n",
      "[29] 나이키 드라이핏 파크 7 티셔츠 블랙 - 20,000원\n",
      "[30] 나이키 리액트X 리주버네이트 슬라이드 서밋 화이트 - 70,000원\n",
      "[31] (W) 나이키 샥스 R4 화이트 메탈릭 실버 - 126,000원\n",
      "[32] 나이키 드라이핏 파크 7 티셔츠 블랙 (3개 번들) - 54,000원\n",
      "[33] 나이키 샥스 R4 메탈릭 실버 레드 - 164,000원\n",
      "[34] 나이키 x 슈프림 에어포스 1 로우 블랙 - 178,000원\n",
      "[35] 나이키 에어포스 1 '07 LV8 화이트 딥 로얄 블루 - 117,000원\n",
      "[36] 나이키 파리 생제르맹 2024/25 드라이핏 스타디움 홈 레플리카 저지 미드나잇 네이비 (논 마킹 버전) - 60,000원\n",
      "[37] (W) 나이키 에어포스 1 '07 로우 트리플 블랙 - 105,000원\n",
      "[38] 나이키 드라이핏 파크 3 쇼츠 블랙 - 20,000원\n",
      "[39] 나이키 드라이 핏 챌린저 5인치 브리프 라인드 버서타일 쇼츠 블랙- 아시아 - 34,000원\n",
      "[40] 나이키 코르테즈 SE 블랙 검 브라운 - 101,000원\n",
      "[41] 나이키 x 트래비스 스캇 줌 필드 잭스 화이트 앤 라이트 초콜릿 - 180,000원\n",
      "[42] 나이키 FC 바르셀로나 2024/25 드라이핏 스타디움 홈 저지 딥 로얄 블루 노블 레드 (논 마킹 버전) - 156,000원\n",
      "[43] 나이키 캄 슬라이드 블랙 - 43,000원\n",
      "[44] (W) 나이키 x 마하 암스테르담 토탈 90 샥스 마지아 블랙 앤 메탈릭 실버 - 266,000원\n",
      "[45] (W) 나이키 리액트X 리주버네이트 슬라이드 세일 - 48,000원\n",
      "[46] 나이키 에어 줌 스피리돈 케이지 2 메탈릭 실버 - 98,000원\n",
      "[47] (W) 나이키 스포츠웨어 칠 니트 그래픽 티셔츠 화이트 - 57,000원\n",
      "[48] 나이키 ACG 드라이핏 티셔츠 블랙 - 아시아 - 53,000원\n",
      "[49] 나이키 P-6000 메탈릭 실버 - 85,000원\n",
      "[50] 나이키 x 트래비스 스캇 줌 필드 잭스 페일 아이보리 앤 레체 블루 - 168,000원\n"
     ]
    }
   ],
   "source": [
    "# 스크롤\n",
    "SCROLL_PAUSE_TIME = 2\n",
    "last_height = driver.execute_script(\"return document.body.scrollHeight\")\n",
    "\n",
    "for i in range(5):\n",
    "    driver.execute_script(\"window.scrollTo(0, document.body.scrollHeight);\")\n",
    "    time.sleep(SCROLL_PAUSE_TIME)\n",
    "    new_height = driver.execute_script(\"return document.body.scrollHeight\")\n",
    "    if new_height == last_height:\n",
    "        break\n",
    "    last_height = new_height\n",
    "\n",
    "# 제품 요소 수집\n",
    "items = driver.find_elements(By.CLASS_NAME, 'item_inner')\n",
    "print(f\"총 수집된 제품 개수: {len(items)}개\")\n",
    "\n",
    "# 데이터 파싱\n",
    "product_data = []\n",
    "for idx, item in enumerate(items, 1):\n",
    "    try:\n",
    "        link = item.get_attribute(\"href\")\n",
    "        brand = item.find_element(By.CLASS_NAME, 'brand-name').text\n",
    "        eng_name = item.find_element(By.CLASS_NAME, 'name').text\n",
    "        kor_name = item.find_element(By.CLASS_NAME, 'translated_name').text\n",
    "        price = item.find_element(By.CLASS_NAME, 'amount').text\n",
    "        info_texts = item.find_elements(By.CLASS_NAME, 'wish_figure')\n",
    "        wish_text = info_texts[0].text if info_texts else ''\n",
    "        review_text = item.find_element(By.CLASS_NAME, 'review_figure').text\n",
    "\n",
    "        product_data.append({\n",
    "            '브랜드': brand,\n",
    "            '상품명(영문)': eng_name,\n",
    "            '상품명(한글)': kor_name,\n",
    "            '가격': price,\n",
    "            '관심수': wish_text,\n",
    "            '리뷰수': review_text,\n",
    "            '상세페이지 링크': link\n",
    "        })\n",
    "\n",
    "        print(f\"[{idx}] {kor_name} - {price}\")\n",
    "    except Exception as e:\n",
    "        print(f\"[{idx}] 오류 발생: {e}\")"
   ]
  },
  {
   "cell_type": "code",
   "execution_count": 8,
   "id": "68eada00-c1ba-4f05-ba09-740ba1485adb",
   "metadata": {},
   "outputs": [],
   "source": [
    "df = pd.DataFrame(product_data)\n",
    "df.to_csv('data/크림_나이키.csv', index=False, encoding='utf-8-sig')"
   ]
  },
  {
   "cell_type": "code",
   "execution_count": 9,
   "id": "0638f03e-8eb0-43fa-9f1a-4e96141924ab",
   "metadata": {},
   "outputs": [],
   "source": [
    "# 종료\n",
    "driver.quit()"
   ]
  }
 ],
 "metadata": {
  "kernelspec": {
   "display_name": "Python 3 (ipykernel)",
   "language": "python",
   "name": "python3"
  },
  "language_info": {
   "codemirror_mode": {
    "name": "ipython",
    "version": 3
   },
   "file_extension": ".py",
   "mimetype": "text/x-python",
   "name": "python",
   "nbconvert_exporter": "python",
   "pygments_lexer": "ipython3",
   "version": "3.13.5"
  }
 },
 "nbformat": 4,
 "nbformat_minor": 5
}
